{
 "cells": [
  {
   "cell_type": "code",
   "execution_count": 53,
   "metadata": {
    "collapsed": true
   },
   "outputs": [],
   "source": [
    "import requests\n",
    "import pandas as pd\n",
    "import datetime\n",
    "import numpy as np\n",
    "\n",
    "from pathlib import Path\n",
    "from tqdm import tqdm\n"
   ]
  },
  {
   "cell_type": "markdown",
   "source": [
    "# Fugol Taiwan stock collect"
   ],
   "metadata": {
    "collapsed": false
   }
  },
  {
   "cell_type": "code",
   "execution_count": 3,
   "outputs": [
    {
     "data": {
      "text/plain": "         begin         end\n0   2023-01-01  2023-12-31\n1   2022-01-01  2022-12-31\n2   2021-01-01  2021-12-31\n3   2020-01-01  2020-12-31\n4   2019-01-01  2019-12-31\n5   2018-01-01  2018-12-31\n6   2017-01-01  2017-12-31\n7   2016-01-01  2016-12-31\n8   2015-01-01  2015-12-31\n9   2014-01-01  2014-12-31\n10  2013-01-01  2013-12-31\n11  2012-01-01  2012-12-31\n12  2011-01-01  2011-12-31\n13  2010-01-01  2010-12-31",
      "text/html": "<div>\n<style scoped>\n    .dataframe tbody tr th:only-of-type {\n        vertical-align: middle;\n    }\n\n    .dataframe tbody tr th {\n        vertical-align: top;\n    }\n\n    .dataframe thead th {\n        text-align: right;\n    }\n</style>\n<table border=\"1\" class=\"dataframe\">\n  <thead>\n    <tr style=\"text-align: right;\">\n      <th></th>\n      <th>begin</th>\n      <th>end</th>\n    </tr>\n  </thead>\n  <tbody>\n    <tr>\n      <th>0</th>\n      <td>2023-01-01</td>\n      <td>2023-12-31</td>\n    </tr>\n    <tr>\n      <th>1</th>\n      <td>2022-01-01</td>\n      <td>2022-12-31</td>\n    </tr>\n    <tr>\n      <th>2</th>\n      <td>2021-01-01</td>\n      <td>2021-12-31</td>\n    </tr>\n    <tr>\n      <th>3</th>\n      <td>2020-01-01</td>\n      <td>2020-12-31</td>\n    </tr>\n    <tr>\n      <th>4</th>\n      <td>2019-01-01</td>\n      <td>2019-12-31</td>\n    </tr>\n    <tr>\n      <th>5</th>\n      <td>2018-01-01</td>\n      <td>2018-12-31</td>\n    </tr>\n    <tr>\n      <th>6</th>\n      <td>2017-01-01</td>\n      <td>2017-12-31</td>\n    </tr>\n    <tr>\n      <th>7</th>\n      <td>2016-01-01</td>\n      <td>2016-12-31</td>\n    </tr>\n    <tr>\n      <th>8</th>\n      <td>2015-01-01</td>\n      <td>2015-12-31</td>\n    </tr>\n    <tr>\n      <th>9</th>\n      <td>2014-01-01</td>\n      <td>2014-12-31</td>\n    </tr>\n    <tr>\n      <th>10</th>\n      <td>2013-01-01</td>\n      <td>2013-12-31</td>\n    </tr>\n    <tr>\n      <th>11</th>\n      <td>2012-01-01</td>\n      <td>2012-12-31</td>\n    </tr>\n    <tr>\n      <th>12</th>\n      <td>2011-01-01</td>\n      <td>2011-12-31</td>\n    </tr>\n    <tr>\n      <th>13</th>\n      <td>2010-01-01</td>\n      <td>2010-12-31</td>\n    </tr>\n  </tbody>\n</table>\n</div>"
     },
     "execution_count": 3,
     "metadata": {},
     "output_type": "execute_result"
    }
   ],
   "source": [
    "this_year = datetime.datetime.now()\n",
    "years = range(this_year.year, 2009, -1)  # Fugle提供的資料從2010年\n",
    "begin = [int(str(y) + '0101') for y in years]\n",
    "end = [int(str(y) + '1231') for y in years]\n",
    "calendar = pd.DataFrame({'begin': begin,\n",
    "                         'end': end})\n",
    "calendar['begin'] = pd.to_datetime(calendar['begin'], format='%Y%m%d')\n",
    "calendar['end'] = pd.to_datetime(calendar['end'], format='%Y%m%d')\n",
    "calendar[['begin', 'end']] = calendar[['begin', 'end']].astype('str')\n",
    "\n",
    "calendar\n"
   ],
   "metadata": {
    "collapsed": false
   }
  },
  {
   "cell_type": "code",
   "execution_count": 24,
   "outputs": [
    {
     "data": {
      "text/plain": "            date   open   high    low  close    volume symbol\n0     2023-02-03  24.70  24.75  24.60  24.70  13623663   2300\n1     2023-02-02  24.65  24.75  24.55  24.65  21097257   2300\n2     2023-02-01  24.60  24.70  24.55  24.65  22918245   2300\n3     2023-01-31  24.80  24.80  24.50  24.50  39254899   2300\n4     2023-01-30  24.60  24.90  24.35  24.90  64738146   2300\n...          ...    ...    ...    ...    ...       ...    ...\n3210  2010-01-08  13.80  13.95  13.60  13.85  10594147   2300\n3211  2010-01-07  13.60  14.00  13.55  13.65  18427984   2300\n3212  2010-01-06  13.30  13.60  13.30  13.50  11441915   2300\n3213  2010-01-05  13.40  13.60  13.30  13.30   9596743   2300\n3214  2010-01-04  13.40  13.40  13.20  13.35   6920084   2300\n\n[3215 rows x 7 columns]",
      "text/html": "<div>\n<style scoped>\n    .dataframe tbody tr th:only-of-type {\n        vertical-align: middle;\n    }\n\n    .dataframe tbody tr th {\n        vertical-align: top;\n    }\n\n    .dataframe thead th {\n        text-align: right;\n    }\n</style>\n<table border=\"1\" class=\"dataframe\">\n  <thead>\n    <tr style=\"text-align: right;\">\n      <th></th>\n      <th>date</th>\n      <th>open</th>\n      <th>high</th>\n      <th>low</th>\n      <th>close</th>\n      <th>volume</th>\n      <th>symbol</th>\n    </tr>\n  </thead>\n  <tbody>\n    <tr>\n      <th>0</th>\n      <td>2023-02-03</td>\n      <td>24.70</td>\n      <td>24.75</td>\n      <td>24.60</td>\n      <td>24.70</td>\n      <td>13623663</td>\n      <td>2300</td>\n    </tr>\n    <tr>\n      <th>1</th>\n      <td>2023-02-02</td>\n      <td>24.65</td>\n      <td>24.75</td>\n      <td>24.55</td>\n      <td>24.65</td>\n      <td>21097257</td>\n      <td>2300</td>\n    </tr>\n    <tr>\n      <th>2</th>\n      <td>2023-02-01</td>\n      <td>24.60</td>\n      <td>24.70</td>\n      <td>24.55</td>\n      <td>24.65</td>\n      <td>22918245</td>\n      <td>2300</td>\n    </tr>\n    <tr>\n      <th>3</th>\n      <td>2023-01-31</td>\n      <td>24.80</td>\n      <td>24.80</td>\n      <td>24.50</td>\n      <td>24.50</td>\n      <td>39254899</td>\n      <td>2300</td>\n    </tr>\n    <tr>\n      <th>4</th>\n      <td>2023-01-30</td>\n      <td>24.60</td>\n      <td>24.90</td>\n      <td>24.35</td>\n      <td>24.90</td>\n      <td>64738146</td>\n      <td>2300</td>\n    </tr>\n    <tr>\n      <th>...</th>\n      <td>...</td>\n      <td>...</td>\n      <td>...</td>\n      <td>...</td>\n      <td>...</td>\n      <td>...</td>\n      <td>...</td>\n    </tr>\n    <tr>\n      <th>3210</th>\n      <td>2010-01-08</td>\n      <td>13.80</td>\n      <td>13.95</td>\n      <td>13.60</td>\n      <td>13.85</td>\n      <td>10594147</td>\n      <td>2300</td>\n    </tr>\n    <tr>\n      <th>3211</th>\n      <td>2010-01-07</td>\n      <td>13.60</td>\n      <td>14.00</td>\n      <td>13.55</td>\n      <td>13.65</td>\n      <td>18427984</td>\n      <td>2300</td>\n    </tr>\n    <tr>\n      <th>3212</th>\n      <td>2010-01-06</td>\n      <td>13.30</td>\n      <td>13.60</td>\n      <td>13.30</td>\n      <td>13.50</td>\n      <td>11441915</td>\n      <td>2300</td>\n    </tr>\n    <tr>\n      <th>3213</th>\n      <td>2010-01-05</td>\n      <td>13.40</td>\n      <td>13.60</td>\n      <td>13.30</td>\n      <td>13.30</td>\n      <td>9596743</td>\n      <td>2300</td>\n    </tr>\n    <tr>\n      <th>3214</th>\n      <td>2010-01-04</td>\n      <td>13.40</td>\n      <td>13.40</td>\n      <td>13.20</td>\n      <td>13.35</td>\n      <td>6920084</td>\n      <td>2300</td>\n    </tr>\n  </tbody>\n</table>\n<p>3215 rows × 7 columns</p>\n</div>"
     },
     "execution_count": 24,
     "metadata": {},
     "output_type": "execute_result"
    }
   ],
   "source": [
    "symbol = '2300'\n",
    "\n",
    "result = []\n",
    "for j in range(len(calendar)):\n",
    "    cur_begin = calendar.loc[j, 'begin']\n",
    "    cur_end = calendar.loc[j, 'end']\n",
    "\n",
    "    data_link = f'https://api.fugle.tw/marketdata/v0.3/candles?symbolId=2884&apiToken=demo&from={cur_begin}&to={cur_end}&fields=open,high,low,close,volume,turnover,change'\n",
    "    resp = requests.get(url=data_link)\n",
    "    data = resp.json()\n",
    "\n",
    "    candles = data['data']\n",
    "    result += candles\n",
    "\n",
    "result = pd.DataFrame.from_dict(result)\n",
    "result['symbol'] = symbol\n",
    "\n",
    "# symbol_result.columns\n",
    "result\n"
   ],
   "metadata": {
    "collapsed": false
   }
  },
  {
   "cell_type": "markdown",
   "source": [
    "# Yfinance stock collect"
   ],
   "metadata": {
    "collapsed": false
   }
  },
  {
   "cell_type": "code",
   "execution_count": 30,
   "outputs": [],
   "source": [
    "import yfinance as yf\n"
   ],
   "metadata": {
    "collapsed": false
   }
  },
  {
   "cell_type": "code",
   "execution_count": null,
   "outputs": [],
   "source": [
    "result = {}\n",
    "symbols = ['AAPL', 'META']\n",
    "\n",
    "for i, symbol in enumerate(symbols):\n",
    "    stock = yf.Ticker(symbol)\n",
    "    symbol_result = stock.history(period='max')\n",
    "\n",
    "    result[symbol] = symbol_result\n",
    "    symbol_result = np.vstack(symbol_result)\n",
    "\n",
    "result[symbols[0]]\n"
   ],
   "metadata": {
    "collapsed": false
   }
  },
  {
   "cell_type": "code",
   "execution_count": 33,
   "outputs": [
    {
     "name": "stderr",
     "output_type": "stream",
     "text": [
      "/var/folders/pv/bc3hx_855jb961qj91gq4jrc0000gn/T/ipykernel_55443/1981308832.py:3: FutureWarning: The default value of regex will change from True to False in a future version. In addition, single character regular expressions will *not* be treated as literal strings when regex=True.\n",
      "  assets = sp_assets['Symbol'].str.replace('.', '-').tolist()\n"
     ]
    },
    {
     "data": {
      "text/plain": "['A',\n 'AAL',\n 'AAP',\n 'AAPL',\n 'ABBV',\n 'ABC',\n 'ABT',\n 'ACGL',\n 'ACN',\n 'ADBE',\n 'ADI',\n 'ADM',\n 'ADP',\n 'ADSK',\n 'AEE',\n 'AEP',\n 'AES',\n 'AFL',\n 'AIG',\n 'AIZ',\n 'AJG',\n 'AKAM',\n 'ALB',\n 'ALGN',\n 'ALK',\n 'ALL',\n 'ALLE',\n 'AMAT',\n 'AMCR',\n 'AMD',\n 'AME',\n 'AMGN',\n 'AMP',\n 'AMT',\n 'AMZN',\n 'ANET',\n 'ANSS',\n 'AON',\n 'AOS',\n 'APA',\n 'APD',\n 'APH',\n 'APTV',\n 'ARE',\n 'ATO',\n 'ATVI',\n 'AVB',\n 'AVGO',\n 'AVY',\n 'AWK',\n 'AXP',\n 'AZO',\n 'BA',\n 'BAC',\n 'BALL',\n 'BAX',\n 'BBWI',\n 'BBY',\n 'BDX',\n 'BEN',\n 'BF-B',\n 'BIIB',\n 'BIO',\n 'BK',\n 'BKNG',\n 'BKR',\n 'BLK',\n 'BMY',\n 'BR',\n 'BRK-B',\n 'BRO',\n 'BSX',\n 'BWA',\n 'BXP',\n 'C',\n 'CAG',\n 'CAH',\n 'CARR',\n 'CAT',\n 'CB',\n 'CBOE',\n 'CBRE',\n 'CCI',\n 'CCL',\n 'CDAY',\n 'CDNS',\n 'CDW',\n 'CE',\n 'CEG',\n 'CF',\n 'CFG',\n 'CHD',\n 'CHRW',\n 'CHTR',\n 'CI',\n 'CINF',\n 'CL',\n 'CLX',\n 'CMA',\n 'CMCSA',\n 'CME',\n 'CMG',\n 'CMI',\n 'CMS',\n 'CNC',\n 'CNP',\n 'COF',\n 'COO',\n 'COP',\n 'COST',\n 'CPB',\n 'CPRT',\n 'CPT',\n 'CRL',\n 'CRM',\n 'CSCO',\n 'CSGP',\n 'CSX',\n 'CTAS',\n 'CTLT',\n 'CTRA',\n 'CTSH',\n 'CTVA',\n 'CVS',\n 'CVX',\n 'CZR',\n 'D',\n 'DAL',\n 'DD',\n 'DE',\n 'DFS',\n 'DG',\n 'DGX',\n 'DHI',\n 'DHR',\n 'DIS',\n 'DISH',\n 'DLR',\n 'DLTR',\n 'DOV',\n 'DOW',\n 'DPZ',\n 'DRI',\n 'DTE',\n 'DUK',\n 'DVA',\n 'DVN',\n 'DXC',\n 'DXCM',\n 'EA',\n 'EBAY',\n 'ECL',\n 'ED',\n 'EFX',\n 'EIX',\n 'EL',\n 'ELV',\n 'EMN',\n 'EMR',\n 'ENPH',\n 'EOG',\n 'EPAM',\n 'EQIX',\n 'EQR',\n 'EQT',\n 'ES',\n 'ESS',\n 'ETN',\n 'ETR',\n 'ETSY',\n 'EVRG',\n 'EW',\n 'EXC',\n 'EXPD',\n 'EXPE',\n 'EXR',\n 'F',\n 'FANG',\n 'FAST',\n 'FCX',\n 'FDS',\n 'FDX',\n 'FE',\n 'FFIV',\n 'FIS',\n 'FISV',\n 'FITB',\n 'FLT',\n 'FMC',\n 'FOX',\n 'FOXA',\n 'FRC',\n 'FRT',\n 'FSLR',\n 'FTNT',\n 'FTV',\n 'GD',\n 'GE',\n 'GEHC',\n 'GEN',\n 'GILD',\n 'GIS',\n 'GL',\n 'GLW',\n 'GM',\n 'GNRC',\n 'GOOG',\n 'GOOGL',\n 'GPC',\n 'GPN',\n 'GRMN',\n 'GS',\n 'GWW',\n 'HAL',\n 'HAS',\n 'HBAN',\n 'HCA',\n 'HD',\n 'HES',\n 'HIG',\n 'HII',\n 'HLT',\n 'HOLX',\n 'HON',\n 'HPE',\n 'HPQ',\n 'HRL',\n 'HSIC',\n 'HST',\n 'HSY',\n 'HUM',\n 'HWM',\n 'IBM',\n 'ICE',\n 'IDXX',\n 'IEX',\n 'IFF',\n 'ILMN',\n 'INCY',\n 'INTC',\n 'INTU',\n 'INVH',\n 'IP',\n 'IPG',\n 'IQV',\n 'IR',\n 'IRM',\n 'ISRG',\n 'IT',\n 'ITW',\n 'IVZ',\n 'J',\n 'JBHT',\n 'JCI',\n 'JKHY',\n 'JNJ',\n 'JNPR',\n 'JPM',\n 'K',\n 'KDP',\n 'KEY',\n 'KEYS',\n 'KHC',\n 'KIM',\n 'KLAC',\n 'KMB',\n 'KMI',\n 'KMX',\n 'KO',\n 'KR',\n 'L',\n 'LDOS',\n 'LEN',\n 'LH',\n 'LHX',\n 'LIN',\n 'LKQ',\n 'LLY',\n 'LMT',\n 'LNC',\n 'LNT',\n 'LOW',\n 'LRCX',\n 'LUMN',\n 'LUV',\n 'LVS',\n 'LW',\n 'LYB',\n 'LYV',\n 'MA',\n 'MAA',\n 'MAR',\n 'MAS',\n 'MCD',\n 'MCHP',\n 'MCK',\n 'MCO',\n 'MDLZ',\n 'MDT',\n 'MET',\n 'META',\n 'MGM',\n 'MHK',\n 'MKC',\n 'MKTX',\n 'MLM',\n 'MMC',\n 'MMM',\n 'MNST',\n 'MO',\n 'MOH',\n 'MOS',\n 'MPC',\n 'MPWR',\n 'MRK',\n 'MRNA',\n 'MRO',\n 'MS',\n 'MSCI',\n 'MSFT',\n 'MSI',\n 'MTB',\n 'MTCH',\n 'MTD',\n 'MU',\n 'NCLH',\n 'NDAQ',\n 'NDSN',\n 'NEE',\n 'NEM',\n 'NFLX',\n 'NI',\n 'NKE',\n 'NOC',\n 'NOW',\n 'NRG',\n 'NSC',\n 'NTAP',\n 'NTRS',\n 'NUE',\n 'NVDA',\n 'NVR',\n 'NWL',\n 'NWS',\n 'NWSA',\n 'NXPI',\n 'O',\n 'ODFL',\n 'OGN',\n 'OKE',\n 'OMC',\n 'ON',\n 'ORCL',\n 'ORLY',\n 'OTIS',\n 'OXY',\n 'PARA',\n 'PAYC',\n 'PAYX',\n 'PCAR',\n 'PCG',\n 'PEAK',\n 'PEG',\n 'PEP',\n 'PFE',\n 'PFG',\n 'PG',\n 'PGR',\n 'PH',\n 'PHM',\n 'PKG',\n 'PKI',\n 'PLD',\n 'PM',\n 'PNC',\n 'PNR',\n 'PNW',\n 'POOL',\n 'PPG',\n 'PPL',\n 'PRU',\n 'PSA',\n 'PSX',\n 'PTC',\n 'PWR',\n 'PXD',\n 'PYPL',\n 'QCOM',\n 'QRVO',\n 'RCL',\n 'RE',\n 'REG',\n 'REGN',\n 'RF',\n 'RHI',\n 'RJF',\n 'RL',\n 'RMD',\n 'ROK',\n 'ROL',\n 'ROP',\n 'ROST',\n 'RSG',\n 'RTX',\n 'SBAC',\n 'SBNY',\n 'SBUX',\n 'SCHW',\n 'SEDG',\n 'SEE',\n 'SHW',\n 'SIVB',\n 'SJM',\n 'SLB',\n 'SNA',\n 'SNPS',\n 'SO',\n 'SPG',\n 'SPGI',\n 'SRE',\n 'STE',\n 'STLD',\n 'STT',\n 'STX',\n 'STZ',\n 'SWK',\n 'SWKS',\n 'SYF',\n 'SYK',\n 'SYY',\n 'T',\n 'TAP',\n 'TDG',\n 'TDY',\n 'TECH',\n 'TEL',\n 'TER',\n 'TFC',\n 'TFX',\n 'TGT',\n 'TJX',\n 'TMO',\n 'TMUS',\n 'TPR',\n 'TRGP',\n 'TRMB',\n 'TROW',\n 'TRV',\n 'TSCO',\n 'TSLA',\n 'TSN',\n 'TT',\n 'TTWO',\n 'TXN',\n 'TXT',\n 'TYL',\n 'UAL',\n 'UDR',\n 'UHS',\n 'ULTA',\n 'UNH',\n 'UNP',\n 'UPS',\n 'URI',\n 'USB',\n 'V',\n 'VFC',\n 'VICI',\n 'VLO',\n 'VMC',\n 'VRSK',\n 'VRSN',\n 'VRTX',\n 'VTR',\n 'VTRS',\n 'VZ',\n 'WAB',\n 'WAT',\n 'WBA',\n 'WBD',\n 'WDC',\n 'WEC',\n 'WELL',\n 'WFC',\n 'WHR',\n 'WM',\n 'WMB',\n 'WMT',\n 'WRB',\n 'WRK',\n 'WST',\n 'WTW',\n 'WY',\n 'WYNN',\n 'XEL',\n 'XOM',\n 'XRAY',\n 'XYL',\n 'YUM',\n 'ZBH',\n 'ZBRA',\n 'ZION',\n 'ZTS']"
     },
     "execution_count": 33,
     "metadata": {},
     "output_type": "execute_result"
    }
   ],
   "source": [
    "sp_assets = pd.read_html(\n",
    "    'https://en.wikipedia.org/wiki/List_of_S%26P_500_companies')[0]\n",
    "assets = sp_assets['Symbol'].str.replace('.', '-').tolist()\n",
    "assets = sorted(assets)\n",
    "\n",
    "assets\n"
   ],
   "metadata": {
    "collapsed": false
   }
  },
  {
   "cell_type": "markdown",
   "source": [
    "# S&P 500 download"
   ],
   "metadata": {
    "collapsed": false
   }
  },
  {
   "cell_type": "code",
   "execution_count": 77,
   "outputs": [
    {
     "data": {
      "text/plain": "PosixPath('dataset/GSPC')"
     },
     "execution_count": 77,
     "metadata": {},
     "output_type": "execute_result"
    }
   ],
   "source": [
    "save_path = Path('dataset') / 'GSPC'\n",
    "\n",
    "save_path.is_dir()\n"
   ],
   "metadata": {
    "collapsed": false
   }
  },
  {
   "cell_type": "code",
   "execution_count": 56,
   "outputs": [
    {
     "name": "stderr",
     "output_type": "stream",
     "text": [
      "100%|██████████| 399/399 [06:58<00:00,  1.05s/it]\n"
     ]
    }
   ],
   "source": [
    "latest_symbol = sorted(save_path.glob('*.csv'))[-1].stem\n",
    "latest_index = assets.index(latest_symbol)\n",
    "for symbol in tqdm(assets[latest_index + 1:]):\n",
    "    stock = yf.Ticker(symbol)\n",
    "    symbol_result = stock.history(period='max')\n",
    "\n",
    "    symbol_result['symbol'] = symbol\n",
    "    symbol_result.to_csv(save_path / f'{symbol}.csv')\n"
   ],
   "metadata": {
    "collapsed": false
   }
  },
  {
   "cell_type": "markdown",
   "source": [
    "# 0050 download"
   ],
   "metadata": {
    "collapsed": false
   }
  },
  {
   "cell_type": "code",
   "execution_count": 75,
   "outputs": [
    {
     "data": {
      "text/plain": "['1101',\n '1216',\n '1301',\n '1303',\n '1326',\n '1402',\n '1590',\n '2002',\n '2207',\n '2303',\n '2308',\n '2317',\n '2327',\n '2330',\n '2357',\n '2379',\n '2382',\n '2395',\n '2408',\n '2412',\n '2454',\n '2603',\n '2609',\n '2615',\n '2801',\n '2880',\n '2881',\n '2882',\n '2883',\n '2884',\n '2885',\n '2886',\n '2887',\n '2890',\n '2891',\n '2892',\n '2912',\n '3008',\n '3034',\n '3037',\n '3045',\n '3711',\n '4904',\n '5871',\n '5876',\n '5880',\n '6415',\n '6505',\n '8046',\n '9910']"
     },
     "execution_count": 75,
     "metadata": {},
     "output_type": "execute_result"
    }
   ],
   "source": [
    "url = 'https://zh.m.wikipedia.org/wiki/%E8%87%BA%E7%81%A350%E6%8C%87%E6%95%B8'\n",
    "\n",
    "sp_assets = pd.read_html(\n",
    "    url,\n",
    "    encoding='UTF-8'\n",
    ")[0]\n",
    "assets = sp_assets['股票代號'].str.replace('臺證所：', '').tolist()\n",
    "assets += sp_assets['股票代號.1'].str.replace('臺證所：', '').tolist()\n",
    "assets = sorted(assets)\n",
    "\n",
    "assets\n"
   ],
   "metadata": {
    "collapsed": false
   }
  },
  {
   "cell_type": "code",
   "execution_count": 81,
   "outputs": [
    {
     "data": {
      "text/plain": "True"
     },
     "execution_count": 81,
     "metadata": {},
     "output_type": "execute_result"
    }
   ],
   "source": [
    "save_path = Path('dataset') / 'TWII'\n",
    "\n",
    "save_path.is_dir()\n"
   ],
   "metadata": {
    "collapsed": false
   }
  },
  {
   "cell_type": "code",
   "execution_count": 87,
   "outputs": [
    {
     "name": "stderr",
     "output_type": "stream",
     "text": [
      " 58%|█████▊    | 28/48 [01:09<01:31,  4.59s/it]"
     ]
    },
    {
     "name": "stdout",
     "output_type": "stream",
     "text": [
      "Failed to get ticker '2884.TW' reason: HTTPSConnectionPool(host='query2.finance.yahoo.com', port=443): Read timed out. (read timeout=10)\n",
      "- 2884.TW: No timezone found, symbol may be delisted\n"
     ]
    },
    {
     "name": "stderr",
     "output_type": "stream",
     "text": [
      "100%|██████████| 48/48 [01:56<00:00,  2.43s/it]\n"
     ]
    }
   ],
   "source": [
    "downloaded = sorted(save_path.glob('*.csv'))\n",
    "\n",
    "latest_symbol = downloaded[-1].stem if len(downloaded) > 0 else ''\n",
    "latest_index = assets.index(latest_symbol) if latest_symbol else -1\n",
    "\n",
    "for symbol in tqdm(assets[latest_index + 1:]):\n",
    "    stock = yf.Ticker(f'{symbol}.TW')\n",
    "    symbol_result = stock.history(period='max')\n",
    "\n",
    "    symbol_result['symbol'] = symbol\n",
    "    symbol_result.to_csv(save_path / f'{symbol}.csv')\n"
   ],
   "metadata": {
    "collapsed": false
   }
  },
  {
   "cell_type": "code",
   "execution_count": 95,
   "outputs": [
    {
     "data": {
      "text/plain": "                                Open       High        Low      Close  \\\nDate                                                                    \n2002-01-29 00:00:00+08:00   2.257785   2.326725   2.257785   2.309488   \n2002-01-30 00:00:00+08:00   2.292253   2.309488   2.283635   2.300871   \n2002-01-31 00:00:00+08:00   2.300871   2.300871   2.300871   2.300871   \n2002-02-01 00:00:00+08:00   2.352577   2.361193   2.326725   2.343959   \n2002-02-04 00:00:00+08:00   2.404282   2.404282   2.352577   2.369811   \n...                              ...        ...        ...        ...   \n2023-01-30 00:00:00+08:00  24.600000  24.900000  24.350000  24.900000   \n2023-01-31 00:00:00+08:00  24.799999  24.799999  24.500000  24.500000   \n2023-02-01 00:00:00+08:00  24.600000  24.700001  24.549999  24.650000   \n2023-02-02 00:00:00+08:00  24.650000  24.750000  24.549999  24.650000   \n2023-02-03 00:00:00+08:00  24.700001  24.750000  24.600000  24.700001   \n\n                             Volume  Dividends  Stock Splits  symbol  \nDate                                                                  \n2002-01-29 00:00:00+08:00  61390238        0.0           0.0    2884  \n2002-01-30 00:00:00+08:00  13323187        0.0           0.0    2884  \n2002-01-31 00:00:00+08:00         0        0.0           0.0    2884  \n2002-02-01 00:00:00+08:00  17122516        0.0           0.0    2884  \n2002-02-04 00:00:00+08:00  15031274        0.0           0.0    2884  \n...                             ...        ...           ...     ...  \n2023-01-30 00:00:00+08:00  60152436        0.0           0.0    2884  \n2023-01-31 00:00:00+08:00  38313147        0.0           0.0    2884  \n2023-02-01 00:00:00+08:00  21859783        0.0           0.0    2884  \n2023-02-02 00:00:00+08:00  20083836        0.0           0.0    2884  \n2023-02-03 00:00:00+08:00  13461945        0.0           0.0    2884  \n\n[5222 rows x 8 columns]",
      "text/html": "<div>\n<style scoped>\n    .dataframe tbody tr th:only-of-type {\n        vertical-align: middle;\n    }\n\n    .dataframe tbody tr th {\n        vertical-align: top;\n    }\n\n    .dataframe thead th {\n        text-align: right;\n    }\n</style>\n<table border=\"1\" class=\"dataframe\">\n  <thead>\n    <tr style=\"text-align: right;\">\n      <th></th>\n      <th>Open</th>\n      <th>High</th>\n      <th>Low</th>\n      <th>Close</th>\n      <th>Volume</th>\n      <th>Dividends</th>\n      <th>Stock Splits</th>\n      <th>symbol</th>\n    </tr>\n    <tr>\n      <th>Date</th>\n      <th></th>\n      <th></th>\n      <th></th>\n      <th></th>\n      <th></th>\n      <th></th>\n      <th></th>\n      <th></th>\n    </tr>\n  </thead>\n  <tbody>\n    <tr>\n      <th>2002-01-29 00:00:00+08:00</th>\n      <td>2.257785</td>\n      <td>2.326725</td>\n      <td>2.257785</td>\n      <td>2.309488</td>\n      <td>61390238</td>\n      <td>0.0</td>\n      <td>0.0</td>\n      <td>2884</td>\n    </tr>\n    <tr>\n      <th>2002-01-30 00:00:00+08:00</th>\n      <td>2.292253</td>\n      <td>2.309488</td>\n      <td>2.283635</td>\n      <td>2.300871</td>\n      <td>13323187</td>\n      <td>0.0</td>\n      <td>0.0</td>\n      <td>2884</td>\n    </tr>\n    <tr>\n      <th>2002-01-31 00:00:00+08:00</th>\n      <td>2.300871</td>\n      <td>2.300871</td>\n      <td>2.300871</td>\n      <td>2.300871</td>\n      <td>0</td>\n      <td>0.0</td>\n      <td>0.0</td>\n      <td>2884</td>\n    </tr>\n    <tr>\n      <th>2002-02-01 00:00:00+08:00</th>\n      <td>2.352577</td>\n      <td>2.361193</td>\n      <td>2.326725</td>\n      <td>2.343959</td>\n      <td>17122516</td>\n      <td>0.0</td>\n      <td>0.0</td>\n      <td>2884</td>\n    </tr>\n    <tr>\n      <th>2002-02-04 00:00:00+08:00</th>\n      <td>2.404282</td>\n      <td>2.404282</td>\n      <td>2.352577</td>\n      <td>2.369811</td>\n      <td>15031274</td>\n      <td>0.0</td>\n      <td>0.0</td>\n      <td>2884</td>\n    </tr>\n    <tr>\n      <th>...</th>\n      <td>...</td>\n      <td>...</td>\n      <td>...</td>\n      <td>...</td>\n      <td>...</td>\n      <td>...</td>\n      <td>...</td>\n      <td>...</td>\n    </tr>\n    <tr>\n      <th>2023-01-30 00:00:00+08:00</th>\n      <td>24.600000</td>\n      <td>24.900000</td>\n      <td>24.350000</td>\n      <td>24.900000</td>\n      <td>60152436</td>\n      <td>0.0</td>\n      <td>0.0</td>\n      <td>2884</td>\n    </tr>\n    <tr>\n      <th>2023-01-31 00:00:00+08:00</th>\n      <td>24.799999</td>\n      <td>24.799999</td>\n      <td>24.500000</td>\n      <td>24.500000</td>\n      <td>38313147</td>\n      <td>0.0</td>\n      <td>0.0</td>\n      <td>2884</td>\n    </tr>\n    <tr>\n      <th>2023-02-01 00:00:00+08:00</th>\n      <td>24.600000</td>\n      <td>24.700001</td>\n      <td>24.549999</td>\n      <td>24.650000</td>\n      <td>21859783</td>\n      <td>0.0</td>\n      <td>0.0</td>\n      <td>2884</td>\n    </tr>\n    <tr>\n      <th>2023-02-02 00:00:00+08:00</th>\n      <td>24.650000</td>\n      <td>24.750000</td>\n      <td>24.549999</td>\n      <td>24.650000</td>\n      <td>20083836</td>\n      <td>0.0</td>\n      <td>0.0</td>\n      <td>2884</td>\n    </tr>\n    <tr>\n      <th>2023-02-03 00:00:00+08:00</th>\n      <td>24.700001</td>\n      <td>24.750000</td>\n      <td>24.600000</td>\n      <td>24.700001</td>\n      <td>13461945</td>\n      <td>0.0</td>\n      <td>0.0</td>\n      <td>2884</td>\n    </tr>\n  </tbody>\n</table>\n<p>5222 rows × 8 columns</p>\n</div>"
     },
     "execution_count": 95,
     "metadata": {},
     "output_type": "execute_result"
    }
   ],
   "source": [
    "\n",
    "\n"
   ],
   "metadata": {
    "collapsed": false
   }
  }
 ],
 "metadata": {
  "kernelspec": {
   "display_name": "Python 3",
   "language": "python",
   "name": "python3"
  },
  "language_info": {
   "codemirror_mode": {
    "name": "ipython",
    "version": 2
   },
   "file_extension": ".py",
   "mimetype": "text/x-python",
   "name": "python",
   "nbconvert_exporter": "python",
   "pygments_lexer": "ipython2",
   "version": "2.7.6"
  }
 },
 "nbformat": 4,
 "nbformat_minor": 0
}
