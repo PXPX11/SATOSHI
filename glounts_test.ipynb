{
 "cells": [
  {
   "cell_type": "code",
   "execution_count": 748,
   "outputs": [],
   "source": [
    "from datasets import load_dataset, Dataset, concatenate_datasets\n",
    "\n",
    "from datetime import date, datetime\n",
    "import pandas as pd\n",
    "import numpy as np\n",
    "\n",
    "from gluonts.dataset.common import ListDataset\n"
   ],
   "metadata": {
    "collapsed": false
   }
  },
  {
   "cell_type": "code",
   "execution_count": 749,
   "outputs": [
    {
     "name": "stderr",
     "output_type": "stream",
     "text": [
      "Using custom data configuration index-c202ce2a383faf27\n",
      "Found cached dataset csv (/Users/lucyxu/.cache/huggingface/datasets/csv/index-c202ce2a383faf27/0.0.0/6b34fb8fcf56f7c8ba51dc895bfa2bfbe43546f190a60fcf74bb5e8afdcc2317)\n"
     ]
    },
    {
     "data": {
      "text/plain": "  0%|          | 0/1 [00:00<?, ?it/s]",
      "application/vnd.jupyter.widget-view+json": {
       "version_major": 2,
       "version_minor": 0,
       "model_id": "102fb9b3ae6145a3bf0373ac52522333"
      }
     },
     "metadata": {},
     "output_type": "display_data"
    },
    {
     "name": "stderr",
     "output_type": "stream",
     "text": [
      "Loading cached processed dataset at /Users/lucyxu/.cache/huggingface/datasets/csv/index-c202ce2a383faf27/0.0.0/6b34fb8fcf56f7c8ba51dc895bfa2bfbe43546f190a60fcf74bb5e8afdcc2317/cache-f3948e24551e500c.arrow\n",
      "Loading cached processed dataset at /Users/lucyxu/.cache/huggingface/datasets/csv/index-c202ce2a383faf27/0.0.0/6b34fb8fcf56f7c8ba51dc895bfa2bfbe43546f190a60fcf74bb5e8afdcc2317/cache-bff35835c0a49bf5.arrow\n"
     ]
    },
    {
     "data": {
      "text/plain": "Dataset({\n    features: ['Date', 'Open', 'High', 'Low', 'Close', 'Volume', 'Dividends', 'Stock Splits'],\n    num_rows: 252\n})"
     },
     "execution_count": 749,
     "metadata": {},
     "output_type": "execute_result"
    }
   ],
   "source": [
    "dataset = load_dataset('dataset/index', data_files='GSPC.csv')\n",
    "\n",
    "filtered_dataset = dataset['train'].filter(lambda e: date.fromisoformat(e['Date'][:10]) > date(2010, 1, 1))\n",
    "filtered_dataset = filtered_dataset.filter(lambda e: date.fromisoformat(e['Date'][:10]) < date(2011, 1, 1))\n",
    "train_dataset = filtered_dataset\n",
    "\n",
    "train_dataset\n"
   ],
   "metadata": {
    "collapsed": false
   }
  },
  {
   "cell_type": "code",
   "execution_count": 750,
   "outputs": [
    {
     "data": {
      "text/plain": "             Date         Open         High          Low        Close  \\\n20593  2010-01-04  1116.560059  1133.869995  1116.560059  1132.989990   \n20594  2010-01-05  1132.660034  1136.630005  1129.660034  1136.520020   \n20595  2010-01-06  1135.709961  1139.189941  1133.949951  1137.140015   \n20596  2010-01-07  1136.270020  1142.459961  1131.319946  1141.689941   \n20597  2010-01-08  1140.520020  1145.390015  1136.219971  1144.979980   \n...           ...          ...          ...          ...          ...   \n20840  2010-12-27  1254.660034  1258.430054  1251.479980  1257.540039   \n20841  2010-12-28  1259.099976  1259.900024  1256.219971  1258.510010   \n20842  2010-12-29  1258.780029  1262.599976  1258.780029  1259.780029   \n20843  2010-12-30  1259.439941  1261.089966  1256.319946  1257.880005   \n20844  2010-12-31  1256.760010  1259.339966  1254.189941  1257.640015   \n\n             Volume  Dividends  Stock Splits  \n20593  3.991400e+09        0.0           0.0  \n20594  2.491020e+09        0.0           0.0  \n20595  4.972660e+09        0.0           0.0  \n20596  5.270680e+09        0.0           0.0  \n20597  4.389590e+09        0.0           0.0  \n...             ...        ...           ...  \n20840  1.992470e+09        0.0           0.0  \n20841  2.478450e+09        0.0           0.0  \n20842  2.214380e+09        0.0           0.0  \n20843  1.970720e+09        0.0           0.0  \n20844  1.799770e+09        0.0           0.0  \n\n[362 rows x 8 columns]",
      "text/html": "<div>\n<style scoped>\n    .dataframe tbody tr th:only-of-type {\n        vertical-align: middle;\n    }\n\n    .dataframe tbody tr th {\n        vertical-align: top;\n    }\n\n    .dataframe thead th {\n        text-align: right;\n    }\n</style>\n<table border=\"1\" class=\"dataframe\">\n  <thead>\n    <tr style=\"text-align: right;\">\n      <th></th>\n      <th>Date</th>\n      <th>Open</th>\n      <th>High</th>\n      <th>Low</th>\n      <th>Close</th>\n      <th>Volume</th>\n      <th>Dividends</th>\n      <th>Stock Splits</th>\n    </tr>\n  </thead>\n  <tbody>\n    <tr>\n      <th>20593</th>\n      <td>2010-01-04</td>\n      <td>1116.560059</td>\n      <td>1133.869995</td>\n      <td>1116.560059</td>\n      <td>1132.989990</td>\n      <td>3.991400e+09</td>\n      <td>0.0</td>\n      <td>0.0</td>\n    </tr>\n    <tr>\n      <th>20594</th>\n      <td>2010-01-05</td>\n      <td>1132.660034</td>\n      <td>1136.630005</td>\n      <td>1129.660034</td>\n      <td>1136.520020</td>\n      <td>2.491020e+09</td>\n      <td>0.0</td>\n      <td>0.0</td>\n    </tr>\n    <tr>\n      <th>20595</th>\n      <td>2010-01-06</td>\n      <td>1135.709961</td>\n      <td>1139.189941</td>\n      <td>1133.949951</td>\n      <td>1137.140015</td>\n      <td>4.972660e+09</td>\n      <td>0.0</td>\n      <td>0.0</td>\n    </tr>\n    <tr>\n      <th>20596</th>\n      <td>2010-01-07</td>\n      <td>1136.270020</td>\n      <td>1142.459961</td>\n      <td>1131.319946</td>\n      <td>1141.689941</td>\n      <td>5.270680e+09</td>\n      <td>0.0</td>\n      <td>0.0</td>\n    </tr>\n    <tr>\n      <th>20597</th>\n      <td>2010-01-08</td>\n      <td>1140.520020</td>\n      <td>1145.390015</td>\n      <td>1136.219971</td>\n      <td>1144.979980</td>\n      <td>4.389590e+09</td>\n      <td>0.0</td>\n      <td>0.0</td>\n    </tr>\n    <tr>\n      <th>...</th>\n      <td>...</td>\n      <td>...</td>\n      <td>...</td>\n      <td>...</td>\n      <td>...</td>\n      <td>...</td>\n      <td>...</td>\n      <td>...</td>\n    </tr>\n    <tr>\n      <th>20840</th>\n      <td>2010-12-27</td>\n      <td>1254.660034</td>\n      <td>1258.430054</td>\n      <td>1251.479980</td>\n      <td>1257.540039</td>\n      <td>1.992470e+09</td>\n      <td>0.0</td>\n      <td>0.0</td>\n    </tr>\n    <tr>\n      <th>20841</th>\n      <td>2010-12-28</td>\n      <td>1259.099976</td>\n      <td>1259.900024</td>\n      <td>1256.219971</td>\n      <td>1258.510010</td>\n      <td>2.478450e+09</td>\n      <td>0.0</td>\n      <td>0.0</td>\n    </tr>\n    <tr>\n      <th>20842</th>\n      <td>2010-12-29</td>\n      <td>1258.780029</td>\n      <td>1262.599976</td>\n      <td>1258.780029</td>\n      <td>1259.780029</td>\n      <td>2.214380e+09</td>\n      <td>0.0</td>\n      <td>0.0</td>\n    </tr>\n    <tr>\n      <th>20843</th>\n      <td>2010-12-30</td>\n      <td>1259.439941</td>\n      <td>1261.089966</td>\n      <td>1256.319946</td>\n      <td>1257.880005</td>\n      <td>1.970720e+09</td>\n      <td>0.0</td>\n      <td>0.0</td>\n    </tr>\n    <tr>\n      <th>20844</th>\n      <td>2010-12-31</td>\n      <td>1256.760010</td>\n      <td>1259.339966</td>\n      <td>1254.189941</td>\n      <td>1257.640015</td>\n      <td>1.799770e+09</td>\n      <td>0.0</td>\n      <td>0.0</td>\n    </tr>\n  </tbody>\n</table>\n<p>362 rows × 8 columns</p>\n</div>"
     },
     "execution_count": 750,
     "metadata": {},
     "output_type": "execute_result"
    }
   ],
   "source": [
    "df = pd.read_csv('dataset/index/GSPC.csv', date_parser=True)\n",
    "\n",
    "df['Date'] = pd.to_datetime(df['Date'], utc=True)\n",
    "df['Date'] = df['Date'].dt.date\n",
    "\n",
    "df = df[df['Date'] >= date.fromisoformat('2010-01-01')]\n",
    "df = df[df['Date'] < date.fromisoformat('2011-01-01')]\n",
    "\n",
    "missing_date = pd.date_range(start='2010-01-04', end='2010-12-31').difference(df['Date'])\n",
    "\n",
    "df_missing = pd.DataFrame(missing_date, columns=['Date'])\n",
    "df_missing['Date'] = df_missing['Date'].dt.date\n",
    "\n",
    "df_full = pd.concat([df, df_missing])\n",
    "df_full = df_full.sort_values(by=['Date'])\n",
    "\n",
    "df_full\n"
   ],
   "metadata": {
    "collapsed": false
   }
  },
  {
   "cell_type": "code",
   "execution_count": 751,
   "outputs": [
    {
     "data": {
      "text/plain": "{'start': [datetime.date(2010, 1, 4)],\n 'target': [20593    1132.989990\n  20594    1136.520020\n  20595    1137.140015\n  20596    1141.689941\n  20597    1144.979980\n              ...     \n  93               NaN\n  20807    1223.250000\n  20808    1213.400024\n  20809    1218.709961\n  20810    1213.540039\n  Name: Close, Length: 312, dtype: float64]}"
     },
     "execution_count": 751,
     "metadata": {},
     "output_type": "execute_result"
    }
   ],
   "source": [
    "length = len(df)\n",
    "split_size = length // 10 * 2\n",
    "\n",
    "prediction_length = 1\n",
    "\n",
    "train_dict = {\n",
    "    'start': [df_full['Date'].iloc[0]],\n",
    "    'target': [df_full['Close'][:-split_size]],\n",
    "}\n",
    "\n",
    "validation_dict = {\n",
    "    'start': [df_full['Date'].iloc[0]],\n",
    "    'target': [df_full['Close']],\n",
    "}\n",
    "\n",
    "test_dict = {\n",
    "    'start': [df_full['Date'].iloc[0] for i in range(split_size)],\n",
    "    'target': [df_full['Close'].iloc[:-split_size + i] for i in range(split_size)],\n",
    "}\n",
    "\n",
    "train_dict\n"
   ],
   "metadata": {
    "collapsed": false
   }
  },
  {
   "cell_type": "code",
   "execution_count": 752,
   "outputs": [
    {
     "data": {
      "text/plain": "1126.9394926018672"
     },
     "execution_count": 752,
     "metadata": {},
     "output_type": "execute_result"
    }
   ],
   "source": [
    "a = np.array(train_dict['target'])\n",
    "\n",
    "dataset_std = np.nanstd(a)\n",
    "dataset_mean = np.nanmean(a)\n",
    "\n",
    "dataset_mean\n"
   ],
   "metadata": {
    "collapsed": false
   }
  },
  {
   "cell_type": "code",
   "execution_count": 753,
   "outputs": [
    {
     "data": {
      "text/plain": "<Figure size 640x480 with 1 Axes>",
      "image/png": "[encoded data removed]"
     },
     "metadata": {},
     "output_type": "display_data"
    }
   ],
   "source": [
    "freq = \"1D\"\n",
    "\n",
    "train_dataset = Dataset.from_dict(train_dict)\n",
    "validation_dataset = Dataset.from_dict(validation_dict)\n",
    "test_dataset = Dataset.from_dict(test_dict)\n",
    "\n",
    "# assert len(train_dataset[0]['target']) + prediction_length == len(validation_dataset[0]['target'])\n",
    "\n",
    "import matplotlib.pyplot as plt\n",
    "\n",
    "figure, axes = plt.subplots()\n",
    "axes.plot(train_dataset[0]['target'], color=\"blue\")\n",
    "axes.plot(validation_dataset[0]['target'], color=\"red\", alpha=0.5)\n",
    "\n",
    "plt.show()\n"
   ],
   "metadata": {
    "collapsed": false
   }
  },
  {
   "cell_type": "code",
   "execution_count": 754,
   "outputs": [],
   "source": [
    "from functools import lru_cache\n",
    "\n",
    "import pandas as pd\n",
    "import numpy as np\n",
    "\n",
    "\n",
    "@lru_cache(10_000)\n",
    "def convert_to_pandas_period(date, freq):\n",
    "    return pd.Period(date, freq)\n",
    "\n",
    "\n",
    "def transform_start_field(batch, freq):\n",
    "    if 'start' in batch.keys():\n",
    "        batch[\"start\"] = [convert_to_pandas_period(date, freq) for date in batch[\"start\"]]\n",
    "    return batch\n"
   ],
   "metadata": {
    "collapsed": false
   }
  },
  {
   "cell_type": "code",
   "execution_count": 755,
   "outputs": [
    {
     "data": {
      "text/plain": "{'start': Period('2010-01-04', 'D'),\n 'target': [1132.989990234375,\n  1136.52001953125,\n  1137.1400146484375,\n  1141.68994140625,\n  1144.97998046875,\n  nan,\n  nan,\n  1146.97998046875,\n  1136.219970703125,\n  1145.6800537109375,\n  1148.4599609375,\n  1136.030029296875,\n  nan,\n  nan,\n  nan,\n  1150.22998046875,\n  1138.0400390625,\n  1116.47998046875,\n  1091.760009765625,\n  nan,\n  nan,\n  1096.780029296875,\n  1092.1700439453125,\n  1097.5,\n  1084.530029296875,\n  1073.8699951171875,\n  nan,\n  nan,\n  1089.18994140625,\n  1103.3199462890625,\n  1097.280029296875,\n  1063.1099853515625,\n  1066.18994140625,\n  nan,\n  nan,\n  1056.739990234375,\n  1070.52001953125,\n  1068.1300048828125,\n  1078.469970703125,\n  1075.510009765625,\n  nan,\n  nan,\n  nan,\n  1094.8699951171875,\n  1099.510009765625,\n  1106.75,\n  1109.1700439453125,\n  nan,\n  nan,\n  1108.010009765625,\n  1094.5999755859375,\n  1105.239990234375,\n  1102.93994140625,\n  1104.489990234375,\n  nan,\n  nan,\n  1115.7099609375,\n  1118.31005859375,\n  1118.7900390625,\n  1122.969970703125,\n  1138.699951171875,\n  nan,\n  nan,\n  1138.5,\n  1140.449951171875,\n  1145.6099853515625,\n  1150.239990234375,\n  1149.989990234375,\n  nan,\n  nan,\n  1150.510009765625,\n  1159.4599609375,\n  1166.2099609375,\n  1165.8299560546875,\n  1159.9000244140625,\n  nan,\n  nan,\n  1165.81005859375,\n  1174.1700439453125,\n  1167.719970703125,\n  1165.72998046875,\n  1166.5899658203125,\n  nan,\n  nan,\n  1173.219970703125,\n  1173.27001953125,\n  1169.4300537109375,\n  1178.0999755859375,\n  nan,\n  nan,\n  nan,\n  1187.43994140625,\n  1189.43994140625,\n  1182.449951171875,\n  1186.43994140625,\n  1194.3699951171875,\n  nan,\n  nan,\n  1196.47998046875,\n  1197.300048828125,\n  1210.6500244140625,\n  1211.6700439453125,\n  1192.1300048828125,\n  nan,\n  nan,\n  1197.52001953125,\n  1207.1700439453125,\n  1205.93994140625,\n  1208.6700439453125,\n  1217.280029296875,\n  nan,\n  nan,\n  1212.050048828125,\n  1183.7099609375,\n  1191.3599853515625,\n  1206.780029296875,\n  1186.68994140625,\n  nan,\n  nan,\n  1202.260009765625,\n  1173.5999755859375,\n  1165.8699951171875,\n  1128.1500244140625,\n  1110.8800048828125,\n  nan,\n  nan,\n  1159.72998046875,\n  1155.7900390625,\n  1171.6700439453125,\n  1157.43994140625,\n  1135.6800537109375,\n  nan,\n  nan,\n  1136.93994140625,\n  1120.800048828125,\n  1115.050048828125,\n  1071.5899658203125,\n  1087.68994140625,\n  nan,\n  nan,\n  1073.6500244140625,\n  1074.030029296875,\n  1067.949951171875,\n  1103.06005859375,\n  1089.4100341796875,\n  nan,\n  nan,\n  nan,\n  1070.7099609375,\n  1098.3800048828125,\n  1102.8299560546875,\n  1064.8800048828125,\n  nan,\n  nan,\n  1050.469970703125,\n  1062.0,\n  1055.68994140625,\n  1086.8399658203125,\n  1091.5999755859375,\n  nan,\n  nan,\n  1089.6300048828125,\n  1115.22998046875,\n  1114.6099853515625,\n  1116.0400390625,\n  1117.510009765625,\n  nan,\n  nan,\n  1113.199951171875,\n  1095.31005859375,\n  1092.0400390625,\n  1073.68994140625,\n  1076.760009765625,\n  nan,\n  nan,\n  1074.5699462890625,\n  1041.239990234375,\n  1030.7099609375,\n  1027.3699951171875,\n  1022.5800170898438,\n  nan,\n  nan,\n  nan,\n  1028.06005859375,\n  1060.27001953125,\n  1070.25,\n  1077.9599609375,\n  nan,\n  nan,\n  1078.75,\n  1095.3399658203125,\n  1095.1700439453125,\n  1096.47998046875,\n  1064.8800048828125,\n  nan,\n  nan,\n  1071.25,\n  1083.47998046875,\n  1069.5899658203125,\n  1093.6700439453125,\n  1102.6600341796875,\n  nan,\n  nan,\n  1115.010009765625,\n  1113.8399658203125,\n  1106.1300048828125,\n  1101.530029296875,\n  1101.5999755859375,\n  nan,\n  nan,\n  1125.8599853515625,\n  1120.4599609375,\n  1127.239990234375,\n  1125.81005859375,\n  1121.6400146484375,\n  nan,\n  nan,\n  1127.7900390625,\n  1121.06005859375,\n  1089.469970703125,\n  1083.6099853515625,\n  1079.25,\n  nan,\n  nan,\n  1079.3800048828125,\n  1092.5400390625,\n  1094.1600341796875,\n  1075.6300048828125,\n  1071.68994140625,\n  nan,\n  nan,\n  1067.3599853515625,\n  1051.8699951171875,\n  1055.3299560546875,\n  1047.219970703125,\n  1064.5899658203125,\n  nan,\n  nan,\n  1048.9200439453125,\n  1049.3299560546875,\n  1080.2900390625,\n  1090.0999755859375,\n  1104.510009765625,\n  nan,\n  nan,\n  nan,\n  1091.8399658203125,\n  1098.8699951171875,\n  1104.1800537109375,\n  1109.550048828125,\n  nan,\n  nan,\n  1121.9000244140625,\n  1121.0999755859375,\n  1125.0699462890625,\n  1124.6600341796875,\n  1125.5899658203125,\n  nan,\n  nan,\n  1142.7099609375,\n  1139.780029296875,\n  1134.280029296875,\n  1124.8299560546875,\n  1148.6700439453125,\n  nan,\n  nan,\n  1142.1600341796875,\n  1147.699951171875,\n  1144.72998046875,\n  1141.199951171875,\n  1146.239990234375,\n  nan,\n  nan,\n  1137.030029296875,\n  1160.75,\n  1159.969970703125,\n  1158.06005859375,\n  1165.1500244140625,\n  nan,\n  nan,\n  1165.3199462890625,\n  1169.77001953125,\n  1178.0999755859375,\n  1173.81005859375,\n  1176.18994140625,\n  nan,\n  nan,\n  1184.7099609375,\n  1165.9000244140625,\n  1178.1700439453125,\n  1180.260009765625,\n  1183.0799560546875,\n  nan,\n  nan,\n  1185.6199951171875,\n  1185.6400146484375,\n  1182.449951171875,\n  1183.780029296875,\n  1183.260009765625,\n  nan,\n  nan,\n  1184.3800048828125,\n  1193.5699462890625,\n  1197.9599609375,\n  1221.06005859375,\n  1225.8499755859375,\n  nan,\n  nan,\n  1223.25,\n  1213.4000244140625,\n  1218.7099609375,\n  1213.5400390625]}"
     },
     "execution_count": 755,
     "metadata": {},
     "output_type": "execute_result"
    }
   ],
   "source": [
    "from functools import partial\n",
    "\n",
    "train_dataset.set_transform(partial(transform_start_field, freq=freq))\n",
    "test_dataset.set_transform(partial(transform_start_field, freq=freq))\n",
    "\n",
    "train_dataset[0]\n"
   ],
   "metadata": {
    "collapsed": false
   }
  },
  {
   "cell_type": "code",
   "execution_count": 756,
   "outputs": [
    {
     "data": {
      "text/plain": "[1, 2]"
     },
     "execution_count": 756,
     "metadata": {},
     "output_type": "execute_result"
    }
   ],
   "source": [
    "from gluonts.time_feature import get_lags_for_frequency\n",
    "\n",
    "# lags_sequence = get_lags_for_frequency(freq)\n",
    "lags_sequence = [1, 2]\n",
    "lags_sequence\n"
   ],
   "metadata": {
    "collapsed": false
   }
  },
  {
   "cell_type": "code",
   "execution_count": 757,
   "outputs": [
    {
     "data": {
      "text/plain": "[<function gluonts.time_feature._base.day_of_week(index: pandas.core.indexes.period.PeriodIndex) -> numpy.ndarray>,\n <function gluonts.time_feature._base.day_of_month(index: pandas.core.indexes.period.PeriodIndex) -> numpy.ndarray>,\n <function gluonts.time_feature._base.day_of_year(index: pandas.core.indexes.period.PeriodIndex) -> numpy.ndarray>]"
     },
     "execution_count": 757,
     "metadata": {},
     "output_type": "execute_result"
    }
   ],
   "source": [
    "from gluonts.time_feature import time_features_from_frequency_str\n",
    "\n",
    "time_features = time_features_from_frequency_str(freq)\n",
    "\n",
    "time_features\n"
   ],
   "metadata": {
    "collapsed": false
   }
  },
  {
   "cell_type": "code",
   "execution_count": 758,
   "outputs": [],
   "source": [
    "from transformers import TimeSeriesTransformerConfig, TimeSeriesTransformerForPrediction\n",
    "\n",
    "context_length = 9\n",
    "\n",
    "config = TimeSeriesTransformerConfig(\n",
    "    prediction_length=prediction_length,\n",
    "    context_length=context_length,  # context length\n",
    "    lags_sequence=lags_sequence,\n",
    "    num_time_features=len(time_features) + 1,  # we'll add 2 time features (\"month of year\" and \"age\", see further)\n",
    "    num_static_categorical_features=1,  # we have a single static categorical feature, namely time series ID\n",
    "    cardinality=[len(train_dataset)],  # it has 366 possible values\n",
    "    embedding_dimension=[2],  # the model will learn an embedding of size 2 for each of the 366 possible values\n",
    "    encoder_layers=4,\n",
    "    decoder_layers=4,\n",
    ")\n",
    "\n",
    "model = TimeSeriesTransformerForPrediction(config)\n"
   ],
   "metadata": {
    "collapsed": false
   }
  },
  {
   "cell_type": "markdown",
   "source": [
    "## Define Transformations\n",
    "\n",
    "Next, we define the transformations for the data, in particular for the creation of the time features (based on the dataset or universal ones).\n",
    "\n",
    "Again, we'll use the GluonTS library for this. We define a `Chain` of transformations (which is a bit comparable to `torchvision.transforms.Compose` for images). It allows us to combine several transformations into a single pipeline."
   ],
   "metadata": {
    "collapsed": false
   }
  },
  {
   "cell_type": "code",
   "execution_count": 759,
   "outputs": [],
   "source": [
    "from gluonts.time_feature import time_features_from_frequency_str, TimeFeature, get_lags_for_frequency\n",
    "from gluonts.dataset.field_names import FieldName\n",
    "from gluonts.transform import (\n",
    "    AddAgeFeature,\n",
    "    AddObservedValuesIndicator,\n",
    "    AddTimeFeatures,\n",
    "    AsNumpyArray,\n",
    "    Chain,\n",
    "    ExpectedNumInstanceSampler,\n",
    "    InstanceSplitter,\n",
    "    RemoveFields,\n",
    "    SelectFields,\n",
    "    SetField,\n",
    "    TestSplitSampler,\n",
    "    Transformation,\n",
    "    ValidationSplitSampler,\n",
    "    VstackFeatures,\n",
    "    RenameFields,\n",
    ")\n"
   ],
   "metadata": {
    "collapsed": false
   }
  },
  {
   "cell_type": "code",
   "execution_count": 760,
   "outputs": [],
   "source": [
    "from transformers import PretrainedConfig\n",
    "\n",
    "\n",
    "def create_transformation(freq: str, config: PretrainedConfig) -> Transformation:\n",
    "    # a bit like torchvision.transforms.Compose\n",
    "    return Chain(\n",
    "        [\n",
    "            # step 1: remove static/dynamic fields if not specified\n",
    "            # RemoveFields(field_names=['Dividends', 'Stock Splits']),\n",
    "\n",
    "            # step 2: use static features if available, if not add dummy values\n",
    "            SetField(output_field=FieldName.FEAT_STATIC_CAT, value=[0]),\n",
    "\n",
    "            SetField(output_field=FieldName.FEAT_STATIC_REAL, value=[0.0]),\n",
    "\n",
    "            # step 3: convert the data to NumPy (potentially not needed)\n",
    "            AsNumpyArray(\n",
    "                field=FieldName.FEAT_STATIC_CAT,\n",
    "                expected_ndim=1,\n",
    "                dtype=int,\n",
    "            ),\n",
    "            AsNumpyArray(\n",
    "                field=FieldName.FEAT_STATIC_REAL,\n",
    "                expected_ndim=1,\n",
    "            ),\n",
    "            # AsNumpyArray(\n",
    "            #     field='open',\n",
    "            #     # in the following line, we add 1 for the time dimension\n",
    "            #     expected_ndim=1,\n",
    "            # ),\n",
    "            AsNumpyArray(\n",
    "                field=FieldName.TARGET,\n",
    "                # in the following line, we add 1 for the time dimension\n",
    "                expected_ndim=1,\n",
    "            ),\n",
    "            # step 4: handle the NaN's by filling in the target with zero\n",
    "            # and return the mask (which is in the observed values)\n",
    "            # true for observed values, false for nan's\n",
    "            # the decoder uses this mask (no loss is incurred for unobserved values)\n",
    "            # see loss_weights inside the xxxForPrediction model\n",
    "            AddObservedValuesIndicator(\n",
    "                target_field=FieldName.TARGET,\n",
    "                output_field=FieldName.OBSERVED_VALUES,\n",
    "            ),\n",
    "\n",
    "            # step 5: add temporal features based on freq of the dataset\n",
    "            # month of year in this case\n",
    "            # these serve as positional encodings\n",
    "            # pure time feature, not target info inside\n",
    "            AddTimeFeatures(\n",
    "                start_field=FieldName.START,\n",
    "                target_field=FieldName.TARGET,\n",
    "                output_field=FieldName.FEAT_TIME,\n",
    "                time_features=time_features_from_frequency_str(freq),\n",
    "                pred_length=config.prediction_length,\n",
    "            ),\n",
    "\n",
    "            # step 6: add another temporal feature (just a single number)\n",
    "            # tells the model where in the life the value of the time series is\n",
    "            # sort of running counter\n",
    "            AddAgeFeature(\n",
    "                target_field=FieldName.TARGET,\n",
    "                output_field=FieldName.FEAT_AGE,\n",
    "                pred_length=config.prediction_length,\n",
    "                log_scale=True,\n",
    "            ),\n",
    "\n",
    "            # step 7: vertically stack all the temporal features\n",
    "            VstackFeatures(\n",
    "                output_field=FieldName.FEAT_TIME,\n",
    "                input_fields=[FieldName.FEAT_TIME, FieldName.FEAT_AGE],\n",
    "            ),\n",
    "\n",
    "            # step 8: rename to match HuggingFace names\n",
    "\n",
    "            RenameFields(\n",
    "                mapping={\n",
    "                    FieldName.FEAT_STATIC_CAT: \"static_categorical_features\",\n",
    "                    FieldName.FEAT_STATIC_REAL: \"static_real_features\",\n",
    "                    FieldName.FEAT_TIME: \"time_features\",\n",
    "                    FieldName.TARGET: \"values\",\n",
    "                    FieldName.OBSERVED_VALUES: \"observed_mask\",\n",
    "                }\n",
    "            ),\n",
    "        ]\n",
    "    )\n"
   ],
   "metadata": {
    "collapsed": false
   }
  },
  {
   "cell_type": "code",
   "execution_count": 761,
   "outputs": [
    {
     "data": {
      "text/plain": "dict_keys(['start', 'static_categorical_features', 'static_real_features', 'time_features', 'values', 'observed_mask'])"
     },
     "execution_count": 761,
     "metadata": {},
     "output_type": "execute_result"
    }
   ],
   "source": [
    "from gluonts.transform import target_transformation_length\n",
    "\n",
    "transformation = create_transformation(freq, config)\n",
    "transformed_data = transformation.apply(train_dataset, is_train=True)\n",
    "\n",
    "# b = next(iter(a))\n",
    "\n",
    "# func = AsNumpyArray(\n",
    "#     field=FieldName.TARGET,\n",
    "#     # in the following line, we add 1 for the time dimension\n",
    "#     expected_ndim=1,\n",
    "# )\n",
    "# a = func(train_dataset, is_train=True)\n",
    "\n",
    "batch = next(iter(transformed_data))\n",
    "# batch = next(iter(a))\n",
    "batch.keys()\n",
    "# batch['time_features']\n",
    "# batch['observed_mask']\n",
    "# batch['values']\n"
   ],
   "metadata": {
    "collapsed": false
   }
  },
  {
   "cell_type": "code",
   "execution_count": 762,
   "outputs": [],
   "source": [
    "from gluonts.transform.sampler import InstanceSampler\n",
    "from typing import Optional\n",
    "\n",
    "\n",
    "def create_instance_splitter(config: PretrainedConfig, mode: str, train_sampler: Optional[InstanceSampler] = None,\n",
    "                             validation_sampler: Optional[InstanceSampler] = None, ) -> Transformation:\n",
    "    assert mode in [\"train\", \"validation\", \"test\"]\n",
    "\n",
    "    instance_sampler = {\n",
    "        \"train\": train_sampler or ExpectedNumInstanceSampler(\n",
    "            num_instances=1.0, min_future=config.prediction_length\n",
    "        ),\n",
    "        \"validation\": validation_sampler or ValidationSplitSampler(\n",
    "            min_future=config.prediction_length\n",
    "        ),\n",
    "        \"test\": TestSplitSampler(),\n",
    "    }[mode]\n",
    "\n",
    "    return InstanceSplitter(\n",
    "        target_field=\"values\",\n",
    "        is_pad_field=FieldName.IS_PAD,\n",
    "        start_field=FieldName.START,\n",
    "        forecast_start_field=FieldName.FORECAST_START,\n",
    "        instance_sampler=instance_sampler,\n",
    "        past_length=config.context_length + max(config.lags_sequence),\n",
    "        future_length=config.prediction_length,\n",
    "        time_series_fields=[\n",
    "            \"time_features\",\n",
    "            \"observed_mask\",\n",
    "        ],\n",
    "    )\n",
    "\n"
   ],
   "metadata": {
    "collapsed": false
   }
  },
  {
   "cell_type": "code",
   "execution_count": 763,
   "outputs": [
    {
     "data": {
      "text/plain": "{'start': Period('2010-01-04', 'D'),\n 'static_categorical_features': array([0]),\n 'static_real_features': array([0.], dtype=float32),\n 'past_time_features': array([[ 0.33333334, -0.26666668, -0.1520548 ,  2.1003706 ],\n        [ 0.5       , -0.23333333, -0.14931507,  2.1038036 ],\n        [-0.5       , -0.2       , -0.14657535,  2.10721   ],\n        [-0.33333334, -0.16666667, -0.14383562,  2.1105897 ],\n        [-0.16666667, -0.13333334, -0.14109589,  2.1139433 ],\n        [ 0.        , -0.1       , -0.13835616,  2.1172712 ],\n        [ 0.16666667, -0.06666667, -0.13561644,  2.120574  ],\n        [ 0.33333334, -0.03333334, -0.13287671,  2.1238515 ],\n        [ 0.5       ,  0.        , -0.13013698,  2.1271048 ],\n        [-0.5       ,  0.03333334, -0.12739725,  2.1303337 ],\n        [-0.33333334,  0.06666667, -0.12465753,  2.133539  ]],\n       dtype=float32),\n 'future_time_features': array([[-0.16666667,  0.1       , -0.12191781,  2.1367207 ]],\n       dtype=float32),\n 'past_observed_mask': array([0., 0., 1., 1., 1., 1., 1., 0., 0., 1., 1.], dtype=float32),\n 'future_observed_mask': array([1.], dtype=float32),\n 'past_values': array([   0.  ,    0.  , 1159.73, 1155.79, 1171.67, 1157.44, 1135.68,\n           0.  ,    0.  , 1136.94, 1120.8 ], dtype=float32),\n 'future_values': array([1115.05], dtype=float32),\n 'past_is_pad': array([0., 0., 0., 0., 0., 0., 0., 0., 0., 0., 0.], dtype=float32),\n 'forecast_start': Period('2010-05-19', 'D')}"
     },
     "execution_count": 763,
     "metadata": {},
     "output_type": "execute_result"
    }
   ],
   "source": [
    "from gluonts.itertools import Cyclic\n",
    "\n",
    "instance_splitter = create_instance_splitter(config, \"train\")\n",
    "\n",
    "training_instances = instance_splitter.apply(\n",
    "    Cyclic(transformed_data)\n",
    ")\n",
    "\n",
    "b = next(iter(training_instances))\n",
    "b\n"
   ],
   "metadata": {
    "collapsed": false
   }
  },
  {
   "cell_type": "code",
   "execution_count": 764,
   "outputs": [],
   "source": [
    "from gluonts.itertools import Cyclic, IterableSlice, PseudoShuffled\n",
    "from gluonts.torch.util import IterableDataset\n",
    "from torch.utils.data import DataLoader\n",
    "\n",
    "from typing import Iterable\n",
    "\n",
    "\n",
    "def create_train_dataloader(\n",
    "        config: PretrainedConfig,\n",
    "        freq,\n",
    "        data,\n",
    "        batch_size: int,\n",
    "        num_batches_per_epoch: int,\n",
    "        shuffle_buffer_length: Optional[int] = None,\n",
    "        **kwargs,\n",
    ") -> Iterable:\n",
    "    PREDICTION_INPUT_NAMES = [\n",
    "        \"static_categorical_features\",\n",
    "        \"static_real_features\",\n",
    "        \"past_time_features\",\n",
    "        \"past_values\",\n",
    "        \"past_observed_mask\",\n",
    "        \"future_time_features\",\n",
    "    ]\n",
    "\n",
    "    TRAINING_INPUT_NAMES = PREDICTION_INPUT_NAMES + [\n",
    "        \"future_values\",\n",
    "        \"future_observed_mask\",\n",
    "    ]\n",
    "\n",
    "    transformation = create_transformation(freq, config)\n",
    "    transformed_data = transformation.apply(data, is_train=True)\n",
    "\n",
    "    # we initialize a Training instance\n",
    "    instance_splitter = create_instance_splitter(\n",
    "        config, \"train\"\n",
    "    ) + SelectFields(TRAINING_INPUT_NAMES)\n",
    "\n",
    "    # the instance splitter will sample a window of\n",
    "    # context length + lags + prediction length (from the 366 possible transformed time series)\n",
    "    # randomly from within the target time series and return an iterator.\n",
    "    training_instances = instance_splitter.apply(\n",
    "        Cyclic(transformed_data)\n",
    "        if shuffle_buffer_length is None\n",
    "        else PseudoShuffled(\n",
    "            Cyclic(transformed_data),\n",
    "            shuffle_buffer_length=shuffle_buffer_length,\n",
    "        )\n",
    "    )\n",
    "\n",
    "    # from the training instances iterator we now return a Dataloader which will\n",
    "    # continue to sample random windows for as long as it is called\n",
    "    # to return batch_size of the appropriate tensors ready for training!\n",
    "    return IterableSlice(\n",
    "        iter(\n",
    "            DataLoader(\n",
    "                IterableDataset(training_instances),\n",
    "                batch_size=batch_size,\n",
    "                **kwargs,\n",
    "            )\n",
    "        ),\n",
    "        num_batches_per_epoch,\n",
    "    )\n",
    "\n"
   ],
   "metadata": {
    "collapsed": false
   }
  },
  {
   "cell_type": "code",
   "execution_count": 765,
   "outputs": [
    {
     "name": "stdout",
     "output_type": "stream",
     "text": [
      "   static_categorical_features torch.Size([16, 1])            torch.LongTensor\n",
      "          static_real_features torch.Size([16, 1])            torch.FloatTensor\n",
      "            past_time_features torch.Size([16, 11, 4])        torch.FloatTensor\n",
      "                   past_values torch.Size([16, 11])           torch.FloatTensor\n",
      "            past_observed_mask torch.Size([16, 11])           torch.FloatTensor\n",
      "          future_time_features torch.Size([16, 1, 4])         torch.FloatTensor\n",
      "                 future_values torch.Size([16, 1])            torch.FloatTensor\n",
      "          future_observed_mask torch.Size([16, 1])            torch.FloatTensor\n"
     ]
    }
   ],
   "source": [
    "train_dataloader = create_train_dataloader(\n",
    "    config=config,\n",
    "    freq=freq,\n",
    "    data=train_dataset,\n",
    "    batch_size=16,\n",
    "    num_batches_per_epoch=100,\n",
    ")\n",
    "\n",
    "batch = next(iter(train_dataloader))\n",
    "\n",
    "for k, v in batch.items():\n",
    "    print(\"{: >30} {: <30} {: >10}\".format(k, str(v.shape), v.type()))\n",
    "\n",
    "# figure, axes = plt.subplots()\n",
    "# axes.plot(batch['past_values'][0], color=\"blue\")\n",
    "\n",
    "# plt.show()\n",
    "# batch['past_values'][0]\n"
   ],
   "metadata": {
    "collapsed": false
   }
  },
  {
   "cell_type": "code",
   "execution_count": 766,
   "outputs": [],
   "source": [
    "def create_test_dataloader(\n",
    "        config: PretrainedConfig,\n",
    "        freq,\n",
    "        data,\n",
    "        batch_size: int,\n",
    "        **kwargs,\n",
    "):\n",
    "    PREDICTION_INPUT_NAMES = [\n",
    "        \"static_categorical_features\",\n",
    "        \"static_real_features\",\n",
    "        \"past_time_features\",\n",
    "        \"past_values\",\n",
    "        \"past_observed_mask\",\n",
    "        \"future_time_features\",\n",
    "    ]\n",
    "\n",
    "    transformation = create_transformation(freq, config)\n",
    "    transformed_data = transformation.apply(data, is_train=False)\n",
    "\n",
    "    # we create a Test Instance splitter which will sample the very last\n",
    "    # context window seen during training only for the encoder.\n",
    "    instance_sampler = create_instance_splitter(\n",
    "        config, \"validation\"\n",
    "    ) + SelectFields(PREDICTION_INPUT_NAMES)\n",
    "\n",
    "    # we apply the transformations in test mode\n",
    "    testing_instances = instance_sampler.apply(transformed_data, is_train=False)\n",
    "\n",
    "    # This returns a Dataloader which will go over the dataset once.\n",
    "    return DataLoader(IterableDataset(testing_instances), batch_size=batch_size, **kwargs)\n",
    "\n"
   ],
   "metadata": {
    "collapsed": false
   }
  },
  {
   "cell_type": "code",
   "execution_count": 774,
   "outputs": [
    {
     "name": "stdout",
     "output_type": "stream",
     "text": [
      "2010-11-11\n",
      "2010-11-12\n",
      "2010-11-13\n",
      "2010-11-14\n",
      "2010-11-15\n",
      "2010-11-16\n",
      "2010-11-17\n",
      "2010-11-18\n",
      "2010-11-19\n",
      "2010-11-20\n",
      "2010-11-21\n",
      "2010-11-22\n",
      "2010-11-23\n",
      "2010-11-24\n",
      "2010-11-25\n",
      "2010-11-26\n",
      "2010-11-27\n",
      "2010-11-28\n",
      "2010-11-29\n",
      "2010-11-30\n",
      "2010-12-01\n",
      "2010-12-02\n",
      "2010-12-03\n",
      "2010-12-04\n",
      "2010-12-05\n",
      "2010-12-06\n",
      "2010-12-07\n",
      "2010-12-08\n",
      "2010-12-09\n",
      "2010-12-10\n",
      "2010-12-11\n",
      "2010-12-12\n",
      "2010-12-13\n",
      "2010-12-14\n",
      "2010-12-15\n",
      "2010-12-16\n",
      "2010-12-17\n",
      "2010-12-18\n",
      "2010-12-19\n",
      "2010-12-20\n",
      "2010-12-21\n",
      "2010-12-22\n",
      "2010-12-23\n",
      "2010-12-24\n",
      "2010-12-25\n",
      "2010-12-26\n",
      "2010-12-27\n",
      "2010-12-28\n",
      "2010-12-29\n",
      "2010-12-30\n"
     ]
    },
    {
     "data": {
      "text/plain": "dict_keys(['start', 'static_categorical_features', 'static_real_features', 'past_time_features', 'future_time_features', 'past_observed_mask', 'future_observed_mask', 'past_values', 'future_values', 'past_is_pad', 'forecast_start'])"
     },
     "execution_count": 774,
     "metadata": {},
     "output_type": "execute_result"
    }
   ],
   "source": [
    "transformation = create_transformation(freq, config)\n",
    "transformed_data = transformation.apply(test_dataset, is_train=False)\n",
    "\n",
    "instance_sampler = create_instance_splitter(\n",
    "    config, \"validation\"\n",
    ")\n",
    "\n",
    "testing_instances = instance_sampler.apply(transformed_data, is_train=False)\n",
    "\n",
    "for i in testing_instances:\n",
    "    print(i['forecast_start'])\n"
   ],
   "metadata": {
    "collapsed": false
   }
  },
  {
   "cell_type": "code",
   "execution_count": 768,
   "outputs": [
    {
     "data": {
      "text/plain": "<gluonts.itertools.IterableSlice at 0x2a4b76e90>"
     },
     "execution_count": 768,
     "metadata": {},
     "output_type": "execute_result"
    }
   ],
   "source": [
    "train_dataloader = create_train_dataloader(\n",
    "    config=config,\n",
    "    freq=freq,\n",
    "    data=train_dataset,\n",
    "    batch_size=16,\n",
    "    num_batches_per_epoch=100,\n",
    ")\n",
    "\n",
    "# TODO test dataset has only one data now.\n",
    "test_dataloader = create_test_dataloader(\n",
    "    config=config,\n",
    "    freq=freq,\n",
    "    data=test_dataset,\n",
    "    batch_size=64,\n",
    ")\n",
    "\n",
    "train_dataloader\n"
   ],
   "metadata": {
    "collapsed": false
   }
  },
  {
   "cell_type": "code",
   "execution_count": 769,
   "outputs": [
    {
     "name": "stdout",
     "output_type": "stream",
     "text": [
      "   static_categorical_features torch.Size([50, 1])            torch.LongTensor\n",
      "          static_real_features torch.Size([50, 1])            torch.FloatTensor\n",
      "            past_time_features torch.Size([50, 11, 4])        torch.FloatTensor\n",
      "                   past_values torch.Size([50, 11])           torch.FloatTensor\n",
      "            past_observed_mask torch.Size([50, 11])           torch.FloatTensor\n",
      "          future_time_features torch.Size([50, 1, 4])         torch.FloatTensor\n"
     ]
    },
    {
     "data": {
      "text/plain": "{'static_categorical_features': tensor([[0],\n         [0],\n         [0],\n         [0],\n         [0],\n         [0],\n         [0],\n         [0],\n         [0],\n         [0],\n         [0],\n         [0],\n         [0],\n         [0],\n         [0],\n         [0],\n         [0],\n         [0],\n         [0],\n         [0],\n         [0],\n         [0],\n         [0],\n         [0],\n         [0],\n         [0],\n         [0],\n         [0],\n         [0],\n         [0],\n         [0],\n         [0],\n         [0],\n         [0],\n         [0],\n         [0],\n         [0],\n         [0],\n         [0],\n         [0],\n         [0],\n         [0],\n         [0],\n         [0],\n         [0],\n         [0],\n         [0],\n         [0],\n         [0],\n         [0]]),\n 'static_real_features': tensor([[0.],\n         [0.],\n         [0.],\n         [0.],\n         [0.],\n         [0.],\n         [0.],\n         [0.],\n         [0.],\n         [0.],\n         [0.],\n         [0.],\n         [0.],\n         [0.],\n         [0.],\n         [0.],\n         [0.],\n         [0.],\n         [0.],\n         [0.],\n         [0.],\n         [0.],\n         [0.],\n         [0.],\n         [0.],\n         [0.],\n         [0.],\n         [0.],\n         [0.],\n         [0.],\n         [0.],\n         [0.],\n         [0.],\n         [0.],\n         [0.],\n         [0.],\n         [0.],\n         [0.],\n         [0.],\n         [0.],\n         [0.],\n         [0.],\n         [0.],\n         [0.],\n         [0.],\n         [0.],\n         [0.],\n         [0.],\n         [0.],\n         [0.]]),\n 'past_time_features': tensor([[[ 0.5000,  0.5000,  0.3301,  2.4800],\n          [-0.5000, -0.5000,  0.3329,  2.4814],\n          [-0.3333, -0.4667,  0.3356,  2.4829],\n          ...,\n          [-0.5000, -0.2667,  0.3521,  2.4914],\n          [-0.3333, -0.2333,  0.3548,  2.4928],\n          [-0.1667, -0.2000,  0.3575,  2.4942]],\n \n         [[-0.5000, -0.5000,  0.3329,  2.4814],\n          [-0.3333, -0.4667,  0.3356,  2.4829],\n          [-0.1667, -0.4333,  0.3384,  2.4843],\n          ...,\n          [-0.3333, -0.2333,  0.3548,  2.4928],\n          [-0.1667, -0.2000,  0.3575,  2.4942],\n          [ 0.0000, -0.1667,  0.3603,  2.4955]],\n \n         [[-0.3333, -0.4667,  0.3356,  2.4829],\n          [-0.1667, -0.4333,  0.3384,  2.4843],\n          [ 0.0000, -0.4000,  0.3411,  2.4857],\n          ...,\n          [-0.1667, -0.2000,  0.3575,  2.4942],\n          [ 0.0000, -0.1667,  0.3603,  2.4955],\n          [ 0.1667, -0.1333,  0.3630,  2.4969]],\n \n         ...,\n \n         [[ 0.1667,  0.0333,  0.4589,  2.5428],\n          [ 0.3333,  0.0667,  0.4616,  2.5441],\n          [ 0.5000,  0.1000,  0.4644,  2.5453],\n          ...,\n          [ 0.3333,  0.3000,  0.4808,  2.5527],\n          [ 0.5000,  0.3333,  0.4836,  2.5539],\n          [-0.5000,  0.3667,  0.4863,  2.5551]],\n \n         [[ 0.3333,  0.0667,  0.4616,  2.5441],\n          [ 0.5000,  0.1000,  0.4644,  2.5453],\n          [-0.5000,  0.1333,  0.4671,  2.5465],\n          ...,\n          [ 0.5000,  0.3333,  0.4836,  2.5539],\n          [-0.5000,  0.3667,  0.4863,  2.5551],\n          [-0.3333,  0.4000,  0.4890,  2.5563]],\n \n         [[ 0.5000,  0.1000,  0.4644,  2.5453],\n          [-0.5000,  0.1333,  0.4671,  2.5465],\n          [-0.3333,  0.1667,  0.4699,  2.5478],\n          ...,\n          [-0.5000,  0.3667,  0.4863,  2.5551],\n          [-0.3333,  0.4000,  0.4890,  2.5563],\n          [-0.1667,  0.4333,  0.4918,  2.5575]]]),\n 'past_values': tensor([[   0.0000, 1184.3800, 1193.5699, 1197.9600, 1221.0601, 1225.8500,\n             0.0000,    0.0000, 1223.2500, 1213.4000, 1218.7100],\n         [1184.3800, 1193.5699, 1197.9600, 1221.0601, 1225.8500,    0.0000,\n             0.0000, 1223.2500, 1213.4000, 1218.7100, 1213.5400],\n         [1193.5699, 1197.9600, 1221.0601, 1225.8500,    0.0000,    0.0000,\n          1223.2500, 1213.4000, 1218.7100, 1213.5400, 1199.2100],\n         [1197.9600, 1221.0601, 1225.8500,    0.0000,    0.0000, 1223.2500,\n          1213.4000, 1218.7100, 1213.5400, 1199.2100,    0.0000],\n         [1221.0601, 1225.8500,    0.0000,    0.0000, 1223.2500, 1213.4000,\n          1218.7100, 1213.5400, 1199.2100,    0.0000,    0.0000],\n         [1225.8500,    0.0000,    0.0000, 1223.2500, 1213.4000, 1218.7100,\n          1213.5400, 1199.2100,    0.0000,    0.0000, 1197.7500],\n         [   0.0000,    0.0000, 1223.2500, 1213.4000, 1218.7100, 1213.5400,\n          1199.2100,    0.0000,    0.0000, 1197.7500, 1178.3400],\n         [   0.0000, 1223.2500, 1213.4000, 1218.7100, 1213.5400, 1199.2100,\n             0.0000,    0.0000, 1197.7500, 1178.3400, 1178.5900],\n         [1223.2500, 1213.4000, 1218.7100, 1213.5400, 1199.2100,    0.0000,\n             0.0000, 1197.7500, 1178.3400, 1178.5900, 1196.6899],\n         [1213.4000, 1218.7100, 1213.5400, 1199.2100,    0.0000,    0.0000,\n          1197.7500, 1178.3400, 1178.5900, 1196.6899, 1199.7300],\n         [1218.7100, 1213.5400, 1199.2100,    0.0000,    0.0000, 1197.7500,\n          1178.3400, 1178.5900, 1196.6899, 1199.7300,    0.0000],\n         [1213.5400, 1199.2100,    0.0000,    0.0000, 1197.7500, 1178.3400,\n          1178.5900, 1196.6899, 1199.7300,    0.0000,    0.0000],\n         [1199.2100,    0.0000,    0.0000, 1197.7500, 1178.3400, 1178.5900,\n          1196.6899, 1199.7300,    0.0000,    0.0000, 1197.8400],\n         [   0.0000,    0.0000, 1197.7500, 1178.3400, 1178.5900, 1196.6899,\n          1199.7300,    0.0000,    0.0000, 1197.8400, 1180.7300],\n         [   0.0000, 1197.7500, 1178.3400, 1178.5900, 1196.6899, 1199.7300,\n             0.0000,    0.0000, 1197.8400, 1180.7300, 1198.3500],\n         [1197.7500, 1178.3400, 1178.5900, 1196.6899, 1199.7300,    0.0000,\n             0.0000, 1197.8400, 1180.7300, 1198.3500,    0.0000],\n         [1178.3400, 1178.5900, 1196.6899, 1199.7300,    0.0000,    0.0000,\n          1197.8400, 1180.7300, 1198.3500,    0.0000, 1189.4000],\n         [1178.5900, 1196.6899, 1199.7300,    0.0000,    0.0000, 1197.8400,\n          1180.7300, 1198.3500,    0.0000, 1189.4000,    0.0000],\n         [1196.6899, 1199.7300,    0.0000,    0.0000, 1197.8400, 1180.7300,\n          1198.3500,    0.0000, 1189.4000,    0.0000,    0.0000],\n         [1199.7300,    0.0000,    0.0000, 1197.8400, 1180.7300, 1198.3500,\n             0.0000, 1189.4000,    0.0000,    0.0000, 1187.7600],\n         [   0.0000,    0.0000, 1197.8400, 1180.7300, 1198.3500,    0.0000,\n          1189.4000,    0.0000,    0.0000, 1187.7600, 1180.5500],\n         [   0.0000, 1197.8400, 1180.7300, 1198.3500,    0.0000, 1189.4000,\n             0.0000,    0.0000, 1187.7600, 1180.5500, 1206.0699],\n         [1197.8400, 1180.7300, 1198.3500,    0.0000, 1189.4000,    0.0000,\n             0.0000, 1187.7600, 1180.5500, 1206.0699, 1221.5300],\n         [1180.7300, 1198.3500,    0.0000, 1189.4000,    0.0000,    0.0000,\n          1187.7600, 1180.5500, 1206.0699, 1221.5300, 1224.7100],\n         [1198.3500,    0.0000, 1189.4000,    0.0000,    0.0000, 1187.7600,\n          1180.5500, 1206.0699, 1221.5300, 1224.7100,    0.0000],\n         [   0.0000, 1189.4000,    0.0000,    0.0000, 1187.7600, 1180.5500,\n          1206.0699, 1221.5300, 1224.7100,    0.0000,    0.0000],\n         [1189.4000,    0.0000,    0.0000, 1187.7600, 1180.5500, 1206.0699,\n          1221.5300, 1224.7100,    0.0000,    0.0000, 1223.1200],\n         [   0.0000,    0.0000, 1187.7600, 1180.5500, 1206.0699, 1221.5300,\n          1224.7100,    0.0000,    0.0000, 1223.1200, 1223.7500],\n         [   0.0000, 1187.7600, 1180.5500, 1206.0699, 1221.5300, 1224.7100,\n             0.0000,    0.0000, 1223.1200, 1223.7500, 1228.2800],\n         [1187.7600, 1180.5500, 1206.0699, 1221.5300, 1224.7100,    0.0000,\n             0.0000, 1223.1200, 1223.7500, 1228.2800, 1233.0000],\n         [1180.5500, 1206.0699, 1221.5300, 1224.7100,    0.0000,    0.0000,\n          1223.1200, 1223.7500, 1228.2800, 1233.0000, 1240.4000],\n         [1206.0699, 1221.5300, 1224.7100,    0.0000,    0.0000, 1223.1200,\n          1223.7500, 1228.2800, 1233.0000, 1240.4000,    0.0000],\n         [1221.5300, 1224.7100,    0.0000,    0.0000, 1223.1200, 1223.7500,\n          1228.2800, 1233.0000, 1240.4000,    0.0000,    0.0000],\n         [1224.7100,    0.0000,    0.0000, 1223.1200, 1223.7500, 1228.2800,\n          1233.0000, 1240.4000,    0.0000,    0.0000, 1240.4600],\n         [   0.0000,    0.0000, 1223.1200, 1223.7500, 1228.2800, 1233.0000,\n          1240.4000,    0.0000,    0.0000, 1240.4600, 1241.5900],\n         [   0.0000, 1223.1200, 1223.7500, 1228.2800, 1233.0000, 1240.4000,\n             0.0000,    0.0000, 1240.4600, 1241.5900, 1235.2300],\n         [1223.1200, 1223.7500, 1228.2800, 1233.0000, 1240.4000,    0.0000,\n             0.0000, 1240.4600, 1241.5900, 1235.2300, 1242.8700],\n         [1223.7500, 1228.2800, 1233.0000, 1240.4000,    0.0000,    0.0000,\n          1240.4600, 1241.5900, 1235.2300, 1242.8700, 1243.9100],\n         [1228.2800, 1233.0000, 1240.4000,    0.0000,    0.0000, 1240.4600,\n          1241.5900, 1235.2300, 1242.8700, 1243.9100,    0.0000],\n         [1233.0000, 1240.4000,    0.0000,    0.0000, 1240.4600, 1241.5900,\n          1235.2300, 1242.8700, 1243.9100,    0.0000,    0.0000],\n         [1240.4000,    0.0000,    0.0000, 1240.4600, 1241.5900, 1235.2300,\n          1242.8700, 1243.9100,    0.0000,    0.0000, 1247.0800],\n         [   0.0000,    0.0000, 1240.4600, 1241.5900, 1235.2300, 1242.8700,\n          1243.9100,    0.0000,    0.0000, 1247.0800, 1254.6000],\n         [   0.0000, 1240.4600, 1241.5900, 1235.2300, 1242.8700, 1243.9100,\n             0.0000,    0.0000, 1247.0800, 1254.6000, 1258.8400],\n         [1240.4600, 1241.5900, 1235.2300, 1242.8700, 1243.9100,    0.0000,\n             0.0000, 1247.0800, 1254.6000, 1258.8400, 1256.7700],\n         [1241.5900, 1235.2300, 1242.8700, 1243.9100,    0.0000,    0.0000,\n          1247.0800, 1254.6000, 1258.8400, 1256.7700,    0.0000],\n         [1235.2300, 1242.8700, 1243.9100,    0.0000,    0.0000, 1247.0800,\n          1254.6000, 1258.8400, 1256.7700,    0.0000,    0.0000],\n         [1242.8700, 1243.9100,    0.0000,    0.0000, 1247.0800, 1254.6000,\n          1258.8400, 1256.7700,    0.0000,    0.0000,    0.0000],\n         [1243.9100,    0.0000,    0.0000, 1247.0800, 1254.6000, 1258.8400,\n          1256.7700,    0.0000,    0.0000,    0.0000, 1257.5400],\n         [   0.0000,    0.0000, 1247.0800, 1254.6000, 1258.8400, 1256.7700,\n             0.0000,    0.0000,    0.0000, 1257.5400, 1258.5100],\n         [   0.0000, 1247.0800, 1254.6000, 1258.8400, 1256.7700,    0.0000,\n             0.0000,    0.0000, 1257.5400, 1258.5100, 1259.7800]]),\n 'past_observed_mask': tensor([[0., 1., 1., 1., 1., 1., 0., 0., 1., 1., 1.],\n         [1., 1., 1., 1., 1., 0., 0., 1., 1., 1., 1.],\n         [1., 1., 1., 1., 0., 0., 1., 1., 1., 1., 1.],\n         [1., 1., 1., 0., 0., 1., 1., 1., 1., 1., 0.],\n         [1., 1., 0., 0., 1., 1., 1., 1., 1., 0., 0.],\n         [1., 0., 0., 1., 1., 1., 1., 1., 0., 0., 1.],\n         [0., 0., 1., 1., 1., 1., 1., 0., 0., 1., 1.],\n         [0., 1., 1., 1., 1., 1., 0., 0., 1., 1., 1.],\n         [1., 1., 1., 1., 1., 0., 0., 1., 1., 1., 1.],\n         [1., 1., 1., 1., 0., 0., 1., 1., 1., 1., 1.],\n         [1., 1., 1., 0., 0., 1., 1., 1., 1., 1., 0.],\n         [1., 1., 0., 0., 1., 1., 1., 1., 1., 0., 0.],\n         [1., 0., 0., 1., 1., 1., 1., 1., 0., 0., 1.],\n         [0., 0., 1., 1., 1., 1., 1., 0., 0., 1., 1.],\n         [0., 1., 1., 1., 1., 1., 0., 0., 1., 1., 1.],\n         [1., 1., 1., 1., 1., 0., 0., 1., 1., 1., 0.],\n         [1., 1., 1., 1., 0., 0., 1., 1., 1., 0., 1.],\n         [1., 1., 1., 0., 0., 1., 1., 1., 0., 1., 0.],\n         [1., 1., 0., 0., 1., 1., 1., 0., 1., 0., 0.],\n         [1., 0., 0., 1., 1., 1., 0., 1., 0., 0., 1.],\n         [0., 0., 1., 1., 1., 0., 1., 0., 0., 1., 1.],\n         [0., 1., 1., 1., 0., 1., 0., 0., 1., 1., 1.],\n         [1., 1., 1., 0., 1., 0., 0., 1., 1., 1., 1.],\n         [1., 1., 0., 1., 0., 0., 1., 1., 1., 1., 1.],\n         [1., 0., 1., 0., 0., 1., 1., 1., 1., 1., 0.],\n         [0., 1., 0., 0., 1., 1., 1., 1., 1., 0., 0.],\n         [1., 0., 0., 1., 1., 1., 1., 1., 0., 0., 1.],\n         [0., 0., 1., 1., 1., 1., 1., 0., 0., 1., 1.],\n         [0., 1., 1., 1., 1., 1., 0., 0., 1., 1., 1.],\n         [1., 1., 1., 1., 1., 0., 0., 1., 1., 1., 1.],\n         [1., 1., 1., 1., 0., 0., 1., 1., 1., 1., 1.],\n         [1., 1., 1., 0., 0., 1., 1., 1., 1., 1., 0.],\n         [1., 1., 0., 0., 1., 1., 1., 1., 1., 0., 0.],\n         [1., 0., 0., 1., 1., 1., 1., 1., 0., 0., 1.],\n         [0., 0., 1., 1., 1., 1., 1., 0., 0., 1., 1.],\n         [0., 1., 1., 1., 1., 1., 0., 0., 1., 1., 1.],\n         [1., 1., 1., 1., 1., 0., 0., 1., 1., 1., 1.],\n         [1., 1., 1., 1., 0., 0., 1., 1., 1., 1., 1.],\n         [1., 1., 1., 0., 0., 1., 1., 1., 1., 1., 0.],\n         [1., 1., 0., 0., 1., 1., 1., 1., 1., 0., 0.],\n         [1., 0., 0., 1., 1., 1., 1., 1., 0., 0., 1.],\n         [0., 0., 1., 1., 1., 1., 1., 0., 0., 1., 1.],\n         [0., 1., 1., 1., 1., 1., 0., 0., 1., 1., 1.],\n         [1., 1., 1., 1., 1., 0., 0., 1., 1., 1., 1.],\n         [1., 1., 1., 1., 0., 0., 1., 1., 1., 1., 0.],\n         [1., 1., 1., 0., 0., 1., 1., 1., 1., 0., 0.],\n         [1., 1., 0., 0., 1., 1., 1., 1., 0., 0., 0.],\n         [1., 0., 0., 1., 1., 1., 1., 0., 0., 0., 1.],\n         [0., 0., 1., 1., 1., 1., 0., 0., 0., 1., 1.],\n         [0., 1., 1., 1., 1., 0., 0., 0., 1., 1., 1.]]),\n 'future_time_features': tensor([[[ 0.0000, -0.1667,  0.3603,  2.4955]],\n \n         [[ 0.1667, -0.1333,  0.3630,  2.4969]],\n \n         [[ 0.3333, -0.1000,  0.3658,  2.4983]],\n \n         [[ 0.5000, -0.0667,  0.3685,  2.4997]],\n \n         [[-0.5000, -0.0333,  0.3712,  2.5011]],\n \n         [[-0.3333,  0.0000,  0.3740,  2.5024]],\n \n         [[-0.1667,  0.0333,  0.3767,  2.5038]],\n \n         [[ 0.0000,  0.0667,  0.3795,  2.5052]],\n \n         [[ 0.1667,  0.1000,  0.3822,  2.5065]],\n \n         [[ 0.3333,  0.1333,  0.3849,  2.5079]],\n \n         [[ 0.5000,  0.1667,  0.3877,  2.5092]],\n \n         [[-0.5000,  0.2000,  0.3904,  2.5105]],\n \n         [[-0.3333,  0.2333,  0.3932,  2.5119]],\n \n         [[-0.1667,  0.2667,  0.3959,  2.5132]],\n \n         [[ 0.0000,  0.3000,  0.3986,  2.5145]],\n \n         [[ 0.1667,  0.3333,  0.4014,  2.5159]],\n \n         [[ 0.3333,  0.3667,  0.4041,  2.5172]],\n \n         [[ 0.5000,  0.4000,  0.4068,  2.5185]],\n \n         [[-0.5000,  0.4333,  0.4096,  2.5198]],\n \n         [[-0.3333,  0.4667,  0.4123,  2.5211]],\n \n         [[-0.1667, -0.5000,  0.4151,  2.5224]],\n \n         [[ 0.0000, -0.4667,  0.4178,  2.5237]],\n \n         [[ 0.1667, -0.4333,  0.4205,  2.5250]],\n \n         [[ 0.3333, -0.4000,  0.4233,  2.5263]],\n \n         [[ 0.5000, -0.3667,  0.4260,  2.5276]],\n \n         [[-0.5000, -0.3333,  0.4288,  2.5289]],\n \n         [[-0.3333, -0.3000,  0.4315,  2.5302]],\n \n         [[-0.1667, -0.2667,  0.4342,  2.5315]],\n \n         [[ 0.0000, -0.2333,  0.4370,  2.5328]],\n \n         [[ 0.1667, -0.2000,  0.4397,  2.5340]],\n \n         [[ 0.3333, -0.1667,  0.4425,  2.5353]],\n \n         [[ 0.5000, -0.1333,  0.4452,  2.5366]],\n \n         [[-0.5000, -0.1000,  0.4479,  2.5378]],\n \n         [[-0.3333, -0.0667,  0.4507,  2.5391]],\n \n         [[-0.1667, -0.0333,  0.4534,  2.5403]],\n \n         [[ 0.0000,  0.0000,  0.4562,  2.5416]],\n \n         [[ 0.1667,  0.0333,  0.4589,  2.5428]],\n \n         [[ 0.3333,  0.0667,  0.4616,  2.5441]],\n \n         [[ 0.5000,  0.1000,  0.4644,  2.5453]],\n \n         [[-0.5000,  0.1333,  0.4671,  2.5465]],\n \n         [[-0.3333,  0.1667,  0.4699,  2.5478]],\n \n         [[-0.1667,  0.2000,  0.4726,  2.5490]],\n \n         [[ 0.0000,  0.2333,  0.4753,  2.5502]],\n \n         [[ 0.1667,  0.2667,  0.4781,  2.5515]],\n \n         [[ 0.3333,  0.3000,  0.4808,  2.5527]],\n \n         [[ 0.5000,  0.3333,  0.4836,  2.5539]],\n \n         [[-0.5000,  0.3667,  0.4863,  2.5551]],\n \n         [[-0.3333,  0.4000,  0.4890,  2.5563]],\n \n         [[-0.1667,  0.4333,  0.4918,  2.5575]],\n \n         [[ 0.0000,  0.4667,  0.4945,  2.5587]]])}"
     },
     "execution_count": 769,
     "metadata": {},
     "output_type": "execute_result"
    }
   ],
   "source": [
    "batch = next(iter(test_dataloader))\n",
    "\n",
    "# print(batch['future_time_features'])\n",
    "\n",
    "for k, v in batch.items():\n",
    "    print(\"{: >30} {: <30} {: >10}\".format(k, str(v.shape), v.type()))\n",
    "    # print(k, v.shape, v.type(), sep='\\t')\n",
    "\n",
    "batch\n"
   ],
   "metadata": {
    "collapsed": false
   }
  },
  {
   "cell_type": "code",
   "execution_count": 770,
   "outputs": [
    {
     "name": "stdout",
     "output_type": "stream",
     "text": [
      "   static_categorical_features torch.Size([16, 1])            torch.LongTensor\n",
      "          static_real_features torch.Size([16, 1])            torch.FloatTensor\n",
      "            past_time_features torch.Size([16, 11, 4])        torch.FloatTensor\n",
      "                   past_values torch.Size([16, 11])           torch.FloatTensor\n",
      "            past_observed_mask torch.Size([16, 11])           torch.FloatTensor\n",
      "          future_time_features torch.Size([16, 1, 4])         torch.FloatTensor\n",
      "                 future_values torch.Size([16, 1])            torch.FloatTensor\n",
      "          future_observed_mask torch.Size([16, 1])            torch.FloatTensor\n"
     ]
    }
   ],
   "source": [
    "batch = next(iter(train_dataloader))\n",
    "\n",
    "for k, v in batch.items():\n",
    "    print(\"{: >30} {: <30} {: >10}\".format(k, str(v.shape), v.type()))\n"
   ],
   "metadata": {
    "collapsed": false
   }
  },
  {
   "cell_type": "code",
   "execution_count": 771,
   "outputs": [
    {
     "data": {
      "text/plain": "Seq2SeqTimeSeriesPredictionOutput(loss=tensor(8.5350, grad_fn=<DivBackward0>), params=(tensor([[2.9510],\n        [2.9581],\n        [2.9469],\n        [2.9521],\n        [2.9453],\n        [2.9447],\n        [2.9576],\n        [2.9565],\n        [2.9526],\n        [2.9463],\n        [2.9485],\n        [2.9477],\n        [2.9477],\n        [2.9534],\n        [2.9507],\n        [2.9489]], grad_fn=<SqueezeBackward1>), tensor([[0.0854],\n        [0.0794],\n        [0.0694],\n        [0.0639],\n        [0.0860],\n        [0.0806],\n        [0.0655],\n        [0.0652],\n        [0.0817],\n        [0.0722],\n        [0.0825],\n        [0.0869],\n        [0.0839],\n        [0.0690],\n        [0.0865],\n        [0.0800]], grad_fn=<SqueezeBackward1>), tensor([[1.0528],\n        [1.0521],\n        [1.0580],\n        [1.0493],\n        [1.0340],\n        [1.0402],\n        [1.0569],\n        [1.0524],\n        [1.0367],\n        [1.0284],\n        [1.0504],\n        [1.0439],\n        [1.0481],\n        [1.0542],\n        [1.0508],\n        [1.0515]], grad_fn=<SqueezeBackward1>)), past_key_values=None, decoder_hidden_states=(tensor([[[-0.0429, -0.0486, -0.5595, -0.5649, -0.5654,  3.1260, -0.6536,\n          -0.6888, -0.5995,  0.5973]],\n\n        [[-0.4465, -0.4465, -0.4407, -0.4459, -0.4465,  3.1227, -0.7021,\n          -0.6169, -0.3547,  0.7771]],\n\n        [[-0.0535, -0.0506, -0.5809, -0.5864, -0.5869,  3.1725, -0.5869,\n          -0.4272, -0.0000,  0.4320]],\n\n        [[ 0.0000,  0.0372, -0.4893, -0.0000, -0.4952,  3.2279, -0.5834,\n          -0.5481, -0.0000,  0.0557]],\n\n        [[-0.0283, -0.0417, -0.5566, -0.5620, -0.5625,  3.1220, -0.0000,\n          -0.7910, -0.6052,  0.5878]],\n\n        [[-0.0832, -0.0839, -0.6217, -0.6272, -0.6278,  3.1437, -0.0000,\n          -0.5739, -0.6477,  0.5700]],\n\n        [[-0.4777, -0.4777, -0.4719, -0.4772, -0.4777,  3.1286, -0.7344,\n          -0.4092, -0.3659,  0.0000]],\n\n        [[-0.3548, -0.3548, -0.3490, -0.3542, -0.3548,  3.2822, -0.6132,\n          -0.4409, -0.0000,  0.1384]],\n\n        [[-0.0000, -0.4592, -0.4534, -0.4587, -0.4592,  3.1880, -0.2012,\n          -0.6657, -0.5858,  0.5543]],\n\n        [[-0.0518, -0.0550, -0.5789, -0.0000, -0.5848,  3.1101, -0.0000,\n          -0.7779, -0.0000,  0.6436]],\n\n        [[-0.0710, -0.0624, -0.5934, -0.5988, -0.5993,  3.1655, -0.4223,\n          -0.5816, -0.7107,  0.4741]],\n\n        [[-0.0000, -0.0715, -0.6089, -0.6143, -0.6149,  3.1027, -0.4372,\n          -0.8281, -0.5221,  0.6586]],\n\n        [[-0.0910, -0.0936, -0.6249, -0.6303, -0.6309,  3.1166, -0.4525,\n          -0.7201, -0.5275,  0.6542]],\n\n        [[-0.0131, -0.5312, -0.5253, -0.5306, -0.5312,  3.1310, -0.7058,\n          -0.4613, -0.0000,  0.6736]],\n\n        [[-0.0431, -0.0406, -0.5651, -0.5704, -0.5710,  3.1035, -0.6583,\n          -0.7805, -0.5243,  0.6499]],\n\n        [[-0.0373, -0.0385, -0.5782, -0.5837, -0.5843,  3.1913, -0.4044,\n          -0.5123, -0.7801,  0.3277]]], grad_fn=<MulBackward0>), tensor([[[-0.0304, -0.0521, -0.4996, -0.5199, -0.5152,  2.8118, -0.5887,\n          -0.6104, -0.5387,  0.5432]],\n\n        [[-0.3957, -0.4083, -0.3898, -0.4125, -0.4101,  2.8087, -0.6321,\n          -0.5485, -0.3166,  0.7049]],\n\n        [[-0.1077, -0.1267, -0.5967, -0.6177, -0.6177,  2.8562, -0.6085,\n          -0.4522, -0.0692,  0.3401]],\n\n        [[-0.1045, -0.0837, -0.5663, -0.1212, -0.5816,  2.9104, -0.6605,\n          -0.6207, -0.1137, -0.0582]],\n\n        [[-0.0735, -0.0952, -0.5521, -0.5731, -0.5793,  2.7977, -0.0524,\n          -0.7666, -0.5976,  0.4920]],\n\n        [[-0.1114, -0.1255, -0.5986, -0.6174, -0.6224,  2.8119, -0.0424,\n          -0.5540, -0.6266,  0.4865]],\n\n        [[-0.3612, -0.3797, -0.3580, -0.3838, -0.3782,  2.9612, -0.6068,\n          -0.3006, -0.2713,  0.0784]],\n\n        [[-0.3785, -0.3893, -0.3668, -0.3927, -0.3755,  2.9460, -0.6163,\n          -0.4550, -0.0533,  0.0813]],\n\n        [[-0.0341, -0.4661, -0.4495, -0.4673, -0.4553,  2.8517, -0.2278,\n          -0.6501, -0.5712,  0.4696]],\n\n        [[-0.2111, -0.2226, -0.7056, -0.1679, -0.7290,  2.7925, -0.1608,\n          -0.8896, -0.1612,  0.4553]],\n\n        [[-0.0577, -0.0687, -0.5311, -0.5500, -0.5354,  2.8478, -0.3803,\n          -0.5213, -0.6372,  0.4338]],\n\n        [[-0.0030, -0.0778, -0.5448, -0.5696, -0.5688,  2.7864, -0.3992,\n          -0.7438, -0.4713,  0.5919]],\n\n        [[-0.0763, -0.0936, -0.5550, -0.5764, -0.5765,  2.8039, -0.4071,\n          -0.6406, -0.4720,  0.5935]],\n\n        [[-0.0551, -0.5346, -0.5234, -0.5373, -0.5340,  2.8020, -0.6888,\n          -0.4577, -0.0424,  0.5714]],\n\n        [[-0.0342, -0.0459, -0.5019, -0.5166, -0.5230,  2.7918, -0.5970,\n          -0.6943, -0.4706,  0.5916]],\n\n        [[-0.0367, -0.0385, -0.5188, -0.5336, -0.5278,  2.8721, -0.3638,\n          -0.4562, -0.6967,  0.2999]]], grad_fn=<NativeLayerNormBackward0>), tensor([[[-1.6310e-02, -7.3257e-02, -4.9688e-01, -5.1846e-01, -5.2025e-01,\n           2.8102e+00, -5.8555e-01, -6.0949e-01, -5.4103e-01,  5.5102e-01]],\n\n        [[-3.8242e-01, -4.2720e-01, -3.8810e-01, -4.0386e-01, -4.1575e-01,\n           2.8074e+00, -6.3160e-01, -5.4808e-01, -3.1905e-01,  7.0871e-01]],\n\n        [[-1.0246e-01, -1.4404e-01, -5.9196e-01, -6.1402e-01, -6.2315e-01,\n           2.8571e+00, -6.0401e-01, -4.4920e-01, -7.2049e-02,  3.4382e-01]],\n\n        [[-9.6777e-02, -8.9204e-02, -5.6662e-01, -1.2356e-01, -5.8917e-01,\n           2.9101e+00, -6.5888e-01, -6.1620e-01, -1.1727e-01, -5.2449e-02]],\n\n        [[-6.7586e-02, -1.1031e-01, -5.5307e-01, -5.6767e-01, -5.8475e-01,\n           2.7978e+00, -5.0926e-02, -7.5961e-01, -5.9985e-01,  4.9596e-01]],\n\n        [[-1.0672e-01, -1.4193e-01, -5.9483e-01, -6.1107e-01, -6.2723e-01,\n           2.8118e+00, -3.7966e-02, -5.5043e-01, -6.3066e-01,  4.8900e-01]],\n\n        [[-3.4999e-01, -3.8697e-01, -3.5530e-01, -3.7979e-01, -3.8327e-01,\n           2.9616e+00, -6.0371e-01, -3.0287e-01, -2.7725e-01,  7.7537e-02]],\n\n        [[-3.7056e-01, -4.0760e-01, -3.6575e-01, -3.9621e-01, -3.7870e-01,\n           2.9452e+00, -6.1106e-01, -4.5150e-01, -5.4192e-02,  9.0406e-02]],\n\n        [[-2.1446e-02, -4.7510e-01, -4.4514e-01, -4.6778e-01, -4.6032e-01,\n           2.8481e+00, -2.2608e-01, -6.5135e-01, -5.7608e-01,  4.7517e-01]],\n\n        [[-2.0443e-01, -2.3858e-01, -7.0262e-01, -1.6301e-01, -7.3537e-01,\n           2.7906e+00, -1.5663e-01, -8.8799e-01, -1.6334e-01,  4.6133e-01]],\n\n        [[-4.9407e-02, -7.6013e-02, -5.3573e-01, -5.5459e-01, -5.4021e-01,\n           2.8446e+00, -3.7454e-01, -5.1958e-01, -6.3785e-01,  4.4332e-01]],\n\n        [[ 5.1982e-04, -9.5482e-02, -5.3928e-01, -5.6875e-01, -5.7423e-01,\n           2.7866e+00, -3.9221e-01, -7.4079e-01, -4.7259e-01,  5.9617e-01]],\n\n        [[-7.1464e-02, -1.0935e-01, -5.5349e-01, -5.7609e-01, -5.8056e-01,\n           2.8036e+00, -4.0249e-01, -6.3626e-01, -4.7192e-01,  5.9800e-01]],\n\n        [[-5.0670e-02, -5.5316e-01, -5.2234e-01, -5.3689e-01, -5.3879e-01,\n           2.7987e+00, -6.8061e-01, -4.5407e-01, -4.2004e-02,  5.7988e-01]],\n\n        [[-2.2225e-02, -6.6796e-02, -4.9875e-01, -5.1821e-01, -5.3101e-01,\n           2.7904e+00, -5.9096e-01, -6.9035e-01, -4.7232e-01,  6.0017e-01]],\n\n        [[-2.9434e-02, -5.6347e-02, -5.1796e-01, -5.3660e-01, -5.3304e-01,\n           2.8698e+00, -3.6076e-01, -4.4806e-01, -7.0052e-01,  3.1289e-01]]],\n       grad_fn=<NativeLayerNormBackward0>), tensor([[[-1.6407e-02, -7.5340e-02, -4.9750e-01, -5.2465e-01, -5.1940e-01,\n           2.8133e+00, -5.8511e-01, -6.0051e-01, -5.3737e-01,  5.4293e-01]],\n\n        [[-3.8185e-01, -4.2962e-01, -3.8904e-01, -4.1038e-01, -4.2025e-01,\n           2.8088e+00, -6.3330e-01, -5.3922e-01, -3.0957e-01,  7.0446e-01]],\n\n        [[-1.0261e-01, -1.4778e-01, -5.8976e-01, -6.2084e-01, -6.2709e-01,\n           2.8574e+00, -6.0445e-01, -4.3792e-01, -6.5670e-02,  3.3869e-01]],\n\n        [[-9.9538e-02, -9.0183e-02, -5.6835e-01, -1.2654e-01, -5.9190e-01,\n           2.9101e+00, -6.6304e-01, -6.0706e-01, -1.1474e-01, -4.8759e-02]],\n\n        [[-6.8101e-02, -1.1466e-01, -5.5627e-01, -5.7456e-01, -5.8714e-01,\n           2.7983e+00, -5.2614e-02, -7.5253e-01, -5.9116e-01,  4.9873e-01]],\n\n        [[-1.0625e-01, -1.4616e-01, -5.9658e-01, -6.1404e-01, -6.3073e-01,\n           2.8144e+00, -3.9759e-02, -5.4153e-01, -6.2236e-01,  4.8297e-01]],\n\n        [[-3.4632e-01, -3.8695e-01, -3.5760e-01, -3.8643e-01, -3.8846e-01,\n           2.9619e+00, -6.0154e-01, -3.0083e-01, -2.6778e-01,  7.4063e-02]],\n\n        [[-3.6781e-01, -4.1139e-01, -3.6726e-01, -4.0380e-01, -3.8014e-01,\n           2.9459e+00, -6.1197e-01, -4.3628e-01, -5.1157e-02,  8.3875e-02]],\n\n        [[-2.0544e-02, -4.7764e-01, -4.4626e-01, -4.7466e-01, -4.6025e-01,\n           2.8505e+00, -2.2585e-01, -6.4596e-01, -5.6758e-01,  4.6824e-01]],\n\n        [[-2.0512e-01, -2.4040e-01, -7.0197e-01, -1.7123e-01, -7.3900e-01,\n           2.7933e+00, -1.5856e-01, -8.7942e-01, -1.5311e-01,  4.5556e-01]],\n\n        [[-4.8413e-02, -8.1166e-02, -5.3754e-01, -5.6149e-01, -5.4180e-01,\n           2.8448e+00, -3.7520e-01, -5.1508e-01, -6.2928e-01,  4.4516e-01]],\n\n        [[ 9.1050e-04, -1.0053e-01, -5.4054e-01, -5.7106e-01, -5.7307e-01,\n           2.7895e+00, -3.9077e-01, -7.3352e-01, -4.7140e-01,  5.9045e-01]],\n\n        [[-7.2816e-02, -1.1218e-01, -5.5439e-01, -5.8476e-01, -5.8309e-01,\n           2.8057e+00, -3.9871e-01, -6.2920e-01, -4.6327e-01,  5.9272e-01]],\n\n        [[-4.9818e-02, -5.5679e-01, -5.2276e-01, -5.4089e-01, -5.4095e-01,\n           2.7981e+00, -6.8070e-01, -4.4731e-01, -3.7367e-02,  5.7845e-01]],\n\n        [[-2.3094e-02, -7.1021e-02, -4.9985e-01, -5.2289e-01, -5.3076e-01,\n           2.7932e+00, -5.9086e-01, -6.8465e-01, -4.6469e-01,  5.9460e-01]],\n\n        [[-2.7971e-02, -6.1093e-02, -5.1933e-01, -5.4359e-01, -5.3352e-01,\n           2.8723e+00, -3.5868e-01, -4.4292e-01, -6.9079e-01,  3.0558e-01]]],\n       grad_fn=<NativeLayerNormBackward0>), tensor([[[-1.2385e-02, -8.4300e-02, -4.9576e-01, -5.3465e-01, -5.1776e-01,\n           2.8151e+00, -5.8169e-01, -6.0098e-01, -5.2693e-01,  5.3935e-01]],\n\n        [[-3.8344e-01, -4.3863e-01, -3.8873e-01, -4.2322e-01, -4.1743e-01,\n           2.8083e+00, -6.3370e-01, -5.3252e-01, -2.9563e-01,  7.0502e-01]],\n\n        [[-1.0222e-01, -1.5584e-01, -5.8949e-01, -6.3127e-01, -6.2530e-01,\n           2.8557e+00, -6.0745e-01, -4.3226e-01, -5.0357e-02,  3.3844e-01]],\n\n        [[-9.6144e-02, -1.0130e-01, -5.6689e-01, -1.3668e-01, -5.9040e-01,\n           2.9105e+00, -6.6862e-01, -6.0018e-01, -1.0614e-01, -4.4189e-02]],\n\n        [[-6.8170e-02, -1.2192e-01, -5.5768e-01, -5.8268e-01, -5.8794e-01,\n           2.8001e+00, -5.2373e-02, -7.4417e-01, -5.8280e-01,  4.9767e-01]],\n\n        [[-1.0500e-01, -1.5503e-01, -5.9449e-01, -6.2353e-01, -6.3113e-01,\n           2.8150e+00, -4.1127e-02, -5.4141e-01, -6.0824e-01,  4.8492e-01]],\n\n        [[-3.4480e-01, -3.9919e-01, -3.5419e-01, -3.9573e-01, -3.8405e-01,\n           2.9608e+00, -6.0505e-01, -2.9300e-01, -2.6090e-01,  7.6111e-02]],\n\n        [[-3.6665e-01, -4.1958e-01, -3.6204e-01, -4.1312e-01, -3.7806e-01,\n           2.9439e+00, -6.1888e-01, -4.3225e-01, -3.6423e-02,  8.3073e-02]],\n\n        [[-1.9277e-02, -4.8709e-01, -4.4023e-01, -4.8838e-01, -4.5802e-01,\n           2.8503e+00, -2.2785e-01, -6.3900e-01, -5.6091e-01,  4.7050e-01]],\n\n        [[-2.0806e-01, -2.4552e-01, -7.0289e-01, -1.8277e-01, -7.3788e-01,\n           2.7951e+00, -1.6024e-01, -8.7195e-01, -1.4013e-01,  4.5438e-01]],\n\n        [[-4.8653e-02, -8.7833e-02, -5.3679e-01, -5.7080e-01, -5.4395e-01,\n           2.8460e+00, -3.7595e-01, -5.0570e-01, -6.2091e-01,  4.4459e-01]],\n\n        [[ 2.0068e-03, -1.0369e-01, -5.3951e-01, -5.8423e-01, -5.7137e-01,\n           2.7900e+00, -3.9123e-01, -7.3211e-01, -4.5868e-01,  5.8879e-01]],\n\n        [[-7.4697e-02, -1.1370e-01, -5.5436e-01, -5.9564e-01, -5.8679e-01,\n           2.8064e+00, -4.0411e-01, -6.1812e-01, -4.5082e-01,  5.9180e-01]],\n\n        [[-5.1702e-02, -5.6618e-01, -5.2046e-01, -5.5040e-01, -5.3790e-01,\n           2.7948e+00, -6.8164e-01, -4.4593e-01, -2.2398e-02,  5.8179e-01]],\n\n        [[-2.7134e-02, -8.2269e-02, -4.9828e-01, -5.3322e-01, -5.3420e-01,\n           2.7955e+00, -5.9067e-01, -6.7578e-01, -4.4831e-01,  5.9441e-01]],\n\n        [[-2.7220e-02, -7.0983e-02, -5.1972e-01, -5.5462e-01, -5.2724e-01,\n           2.8747e+00, -3.5982e-01, -4.3872e-01, -6.7894e-01,  3.0255e-01]]],\n       grad_fn=<NativeLayerNormBackward0>)), decoder_attentions=None, cross_attentions=None, encoder_last_hidden_state=tensor([[[-0.7910, -0.7839, -0.7535,  ..., -0.0399, -0.9132,  2.4149],\n         [-0.4013, -0.3674, -0.3771,  ..., -0.6096, -0.4170,  0.6260],\n         [ 0.8599, -0.4577, -0.4366,  ..., -1.0631, -0.5584,  2.4333],\n         ...,\n         [-0.7411,  0.6273, -0.7046,  ..., -1.1778, -0.8254,  2.2584],\n         [-0.3376, -0.3219, -0.3269,  ..., -0.4682, -0.3592,  0.0703],\n         [ 1.5143, -0.4478, -0.4173,  ..., -0.9827, -0.5727,  1.4626]],\n\n        [[-0.1643, -0.1560, -0.6424,  ..., -0.0451, -0.5661,  0.5360],\n         [-0.6278, -0.1121, -0.6030,  ..., -0.3947, -0.0471,  0.5605],\n         [-0.4046, -0.3806, -0.3791,  ..., -0.1627, -0.3058,  0.0751],\n         ...,\n         [-0.1895, -0.1625, -0.1138,  ..., -0.8799, -0.5812,  0.5151],\n         [-0.1385, -0.1102, -0.0572,  ..., -0.8086, -0.5282,  0.5514],\n         [-0.5236, -0.0126, -0.5040,  ..., -0.6798, -0.4229,  0.6353]],\n\n        [[-0.0788, -0.4871, -0.4945,  ..., -0.4974, -0.6362,  0.3922],\n         [-0.0487, -0.0183, -0.4940,  ..., -0.4784, -0.6346,  0.3917],\n         [-0.0501, -0.0277, -0.5076,  ..., -0.4774, -0.6494,  0.3862],\n         ...,\n         [-0.4076, -0.3813, -0.3866,  ..., -0.2932, -0.5141,  0.4965],\n         [-0.0329, -0.4735, -0.4811,  ..., -0.0340, -0.6174,  0.4163],\n         [-0.0547, -0.0272, -0.5053,  ..., -0.3865, -0.6408,  0.3997]],\n\n        ...,\n\n        [[-0.6556, -0.1348, -0.6339,  ..., -0.1156, -0.6210,  0.4927],\n         [-0.4603, -0.4327, -0.4422,  ..., -0.5039, -0.4283,  0.6215],\n         [-0.1314, -0.5802, -0.5924,  ..., -0.6417, -0.5767,  0.5237],\n         ...,\n         [-0.1026, -0.0670, -0.5684,  ..., -0.5458, -0.5468,  0.5468],\n         [-0.7004,  0.6763, -0.6653,  ..., -0.5992, -0.6328,  2.4865],\n         [-0.3651, -0.3503, -0.3542,  ..., -0.3107, -0.3355,  0.0680]],\n\n        [[-0.4945, -0.0366, -0.4720,  ..., -0.3156, -0.4420,  0.6100],\n         [-0.0367, -0.4809, -0.4861,  ..., -0.3168, -0.4604,  0.6036],\n         [-0.0899, -0.0678, -0.5552,  ..., -0.3666, -0.5243,  0.5549],\n         ...,\n         [-0.5103, -0.0145, -0.4832,  ..., -0.7205, -0.4475,  0.6048],\n         [-0.4447, -0.4167, -0.4260,  ..., -0.6443, -0.3921,  0.6475],\n         [ 0.0057, -0.4333, -0.4461,  ..., -0.6487, -0.4104,  0.6329]],\n\n        [[-0.0216,  0.0033, -0.4784,  ..., -0.5568, -0.6604,  0.2866],\n         [-0.0353, -0.0143, -0.4863,  ..., -0.5550, -0.6729,  0.2861],\n         [-0.0498, -0.0164, -0.5019,  ..., -0.5492, -0.6870,  0.2823],\n         ...,\n         [-0.0216, -0.4750, -0.0469,  ..., -0.4642, -0.6572,  0.3178],\n         [-0.0844, -0.0489, -0.0552,  ..., -0.5222, -0.7349,  0.2625],\n         [-0.0904, -0.0683, -0.5728,  ..., -0.5193, -0.7487,  0.2529]]],\n       grad_fn=<NativeLayerNormBackward0>), encoder_hidden_states=(tensor([[[-0.4717, -0.4717, -0.4658,  ..., -0.2118, -0.5180,  0.6577],\n         [-0.4227, -0.4227, -0.4169,  ..., -0.6789, -0.4669,  0.6924],\n         [ 0.0265, -0.4908, -0.4849,  ..., -0.7331, -0.5341,  0.6408],\n         ...,\n         [-0.5419, -0.0190, -0.5359,  ..., -0.7178, -0.5802,  0.6141],\n         [-0.4264, -0.4264, -0.4206,  ..., -0.5802, -0.4622,  0.0000],\n         [ 0.0143, -0.4939, -0.4880,  ..., -0.6325, -0.5288,  0.0000]],\n\n        [[-0.1260, -0.1348, -0.6593,  ..., -0.0000, -0.5811,  0.6285],\n         [-0.6158, -0.0831, -0.6097,  ..., -0.3828, -0.0000,  0.6631],\n         [-0.4929, -0.4929, -0.4871,  ..., -0.2508, -0.4097,  0.0000],\n         ...,\n         [-0.0615, -0.0663, -0.0000,  ..., -0.8290, -0.5085,  0.6664],\n         [-0.0667, -0.0739, -0.0000,  ..., -0.8272, -0.5215,  0.6584],\n         [-0.5652, -0.0233, -0.5593,  ..., -0.7586, -0.4721,  0.6954]],\n\n        [[ 0.0000, -0.4821, -0.4763,  ..., -0.4821, -0.6363,  0.4846],\n         [-0.0289, -0.0330, -0.5475,  ..., -0.5358, -0.7087,  0.4321],\n         [-0.0378, -0.0409, -0.5620,  ..., -0.5327, -0.7226,  0.4256],\n         ...,\n         [-0.4310, -0.4310, -0.4252,  ..., -0.3282, -0.5752,  0.5438],\n         [ 0.0210, -0.4999, -0.4941,  ..., -0.0000, -0.6448,  0.4913],\n         [-0.0392, -0.0430, -0.5669,  ..., -0.4316, -0.7187,  0.4381]],\n\n        ...,\n\n        [[-0.5631, -0.0362, -0.5572,  ..., -0.0000, -0.5508,  0.6440],\n         [-0.4456, -0.4456, -0.4398,  ..., -0.5141, -0.4322,  0.7262],\n         [ 0.0042, -0.5149, -0.5090,  ..., -0.5670, -0.4999,  0.6757],\n         ...,\n         [-0.1006, -0.0849, -0.6241,  ..., -0.6122, -0.6087,  0.6051],\n         [-0.5802, -0.0565, -0.5742,  ..., -0.5447, -0.5576,  0.6426],\n         [-0.4614, -0.4614, -0.4556,  ..., -0.4098, -0.4381,  0.0000]],\n\n        [[-0.4765, -0.0000, -0.4707,  ..., -0.3045, -0.4433,  0.7162],\n         [-0.0218, -0.5476, -0.5417,  ..., -0.3553, -0.5124,  0.6657],\n         [-0.0873, -0.0868, -0.6168,  ..., -0.4090, -0.5855,  0.6154],\n         ...,\n         [-0.5445, -0.0270, -0.5387,  ..., -0.8058, -0.5023,  0.6699],\n         [-0.4299, -0.4299, -0.4242,  ..., -0.6668, -0.3875,  0.7510],\n         [ 0.0225, -0.4988, -0.4930,  ..., -0.7219, -0.4543,  0.7001]],\n\n        [[-0.0000, -0.0121, -0.5268,  ..., -0.6215, -0.7391,  0.3197],\n         [-0.0201, -0.0251, -0.5409,  ..., -0.6182, -0.7527,  0.3151],\n         [-0.0334, -0.0320, -0.5549,  ..., -0.6145, -0.7660,  0.3101],\n         ...,\n         [ 0.0442, -0.4830, -0.0000,  ..., -0.4654, -0.6785,  0.3929],\n         [-0.0180, -0.0000, -0.0000,  ..., -0.5200, -0.7528,  0.3389],\n         [-0.0265, -0.0300, -0.5641,  ..., -0.5164, -0.7667,  0.3334]]],\n       grad_fn=<MulBackward0>), tensor([[[-0.4717, -0.4717, -0.4658,  ..., -0.2118, -0.5180,  0.6577],\n         [-0.4227, -0.4227, -0.4169,  ..., -0.6789, -0.4669,  0.6924],\n         [ 0.0265, -0.4908, -0.4849,  ..., -0.7331, -0.5341,  0.6408],\n         ...,\n         [-0.5419, -0.0190, -0.5359,  ..., -0.7178, -0.5802,  0.6141],\n         [-0.4264, -0.4264, -0.4206,  ..., -0.5802, -0.4622,  0.0000],\n         [ 0.0143, -0.4939, -0.4880,  ..., -0.6325, -0.5288,  0.0000]],\n\n        [[-0.1260, -0.1348, -0.6593,  ..., -0.0000, -0.5811,  0.6285],\n         [-0.6158, -0.0831, -0.6097,  ..., -0.3828, -0.0000,  0.6631],\n         [-0.4929, -0.4929, -0.4871,  ..., -0.2508, -0.4097,  0.0000],\n         ...,\n         [-0.0615, -0.0663, -0.0000,  ..., -0.8290, -0.5085,  0.6664],\n         [-0.0667, -0.0739, -0.0000,  ..., -0.8272, -0.5215,  0.6584],\n         [-0.5652, -0.0233, -0.5593,  ..., -0.7586, -0.4721,  0.6954]],\n\n        [[ 0.0000, -0.4821, -0.4763,  ..., -0.4821, -0.6363,  0.4846],\n         [-0.0289, -0.0330, -0.5475,  ..., -0.5358, -0.7087,  0.4321],\n         [-0.0378, -0.0409, -0.5620,  ..., -0.5327, -0.7226,  0.4256],\n         ...,\n         [-0.4310, -0.4310, -0.4252,  ..., -0.3282, -0.5752,  0.5438],\n         [ 0.0210, -0.4999, -0.4941,  ..., -0.0000, -0.6448,  0.4913],\n         [-0.0392, -0.0430, -0.5669,  ..., -0.4316, -0.7187,  0.4381]],\n\n        ...,\n\n        [[-0.5631, -0.0362, -0.5572,  ..., -0.0000, -0.5508,  0.6440],\n         [-0.4456, -0.4456, -0.4398,  ..., -0.5141, -0.4322,  0.7262],\n         [ 0.0042, -0.5149, -0.5090,  ..., -0.5670, -0.4999,  0.6757],\n         ...,\n         [-0.1006, -0.0849, -0.6241,  ..., -0.6122, -0.6087,  0.6051],\n         [-0.5802, -0.0565, -0.5742,  ..., -0.5447, -0.5576,  0.6426],\n         [-0.4614, -0.4614, -0.4556,  ..., -0.4098, -0.4381,  0.0000]],\n\n        [[-0.4765, -0.0000, -0.4707,  ..., -0.3045, -0.4433,  0.7162],\n         [-0.0218, -0.5476, -0.5417,  ..., -0.3553, -0.5124,  0.6657],\n         [-0.0873, -0.0868, -0.6168,  ..., -0.4090, -0.5855,  0.6154],\n         ...,\n         [-0.5445, -0.0270, -0.5387,  ..., -0.8058, -0.5023,  0.6699],\n         [-0.4299, -0.4299, -0.4242,  ..., -0.6668, -0.3875,  0.7510],\n         [ 0.0225, -0.4988, -0.4930,  ..., -0.7219, -0.4543,  0.7001]],\n\n        [[-0.0000, -0.0121, -0.5268,  ..., -0.6215, -0.7391,  0.3197],\n         [-0.0201, -0.0251, -0.5409,  ..., -0.6182, -0.7527,  0.3151],\n         [-0.0334, -0.0320, -0.5549,  ..., -0.6145, -0.7660,  0.3101],\n         ...,\n         [ 0.0442, -0.4830, -0.0000,  ..., -0.4654, -0.6785,  0.3929],\n         [-0.0180, -0.0000, -0.0000,  ..., -0.5200, -0.7528,  0.3389],\n         [-0.0265, -0.0300, -0.5641,  ..., -0.5164, -0.7667,  0.3334]]],\n       grad_fn=<MulBackward0>), tensor([[[-0.4717, -0.4717, -0.4658,  ..., -0.2118, -0.5180,  0.6577],\n         [-0.4227, -0.4227, -0.4169,  ..., -0.6789, -0.4669,  0.6924],\n         [ 0.0265, -0.4908, -0.4849,  ..., -0.7331, -0.5341,  0.6408],\n         ...,\n         [-0.5419, -0.0190, -0.5359,  ..., -0.7178, -0.5802,  0.6141],\n         [-0.4264, -0.4264, -0.4206,  ..., -0.5802, -0.4622,  0.0000],\n         [ 0.0143, -0.4939, -0.4880,  ..., -0.6325, -0.5288,  0.0000]],\n\n        [[-0.1260, -0.1348, -0.6593,  ..., -0.0000, -0.5811,  0.6285],\n         [-0.6158, -0.0831, -0.6097,  ..., -0.3828, -0.0000,  0.6631],\n         [-0.4929, -0.4929, -0.4871,  ..., -0.2508, -0.4097,  0.0000],\n         ...,\n         [-0.0615, -0.0663, -0.0000,  ..., -0.8290, -0.5085,  0.6664],\n         [-0.0667, -0.0739, -0.0000,  ..., -0.8272, -0.5215,  0.6584],\n         [-0.5652, -0.0233, -0.5593,  ..., -0.7586, -0.4721,  0.6954]],\n\n        [[ 0.0000, -0.4821, -0.4763,  ..., -0.4821, -0.6363,  0.4846],\n         [-0.0289, -0.0330, -0.5475,  ..., -0.5358, -0.7087,  0.4321],\n         [-0.0378, -0.0409, -0.5620,  ..., -0.5327, -0.7226,  0.4256],\n         ...,\n         [-0.4310, -0.4310, -0.4252,  ..., -0.3282, -0.5752,  0.5438],\n         [ 0.0210, -0.4999, -0.4941,  ..., -0.0000, -0.6448,  0.4913],\n         [-0.0392, -0.0430, -0.5669,  ..., -0.4316, -0.7187,  0.4381]],\n\n        ...,\n\n        [[-0.5631, -0.0362, -0.5572,  ..., -0.0000, -0.5508,  0.6440],\n         [-0.4456, -0.4456, -0.4398,  ..., -0.5141, -0.4322,  0.7262],\n         [ 0.0042, -0.5149, -0.5090,  ..., -0.5670, -0.4999,  0.6757],\n         ...,\n         [-0.1006, -0.0849, -0.6241,  ..., -0.6122, -0.6087,  0.6051],\n         [-0.5802, -0.0565, -0.5742,  ..., -0.5447, -0.5576,  0.6426],\n         [-0.4614, -0.4614, -0.4556,  ..., -0.4098, -0.4381,  0.0000]],\n\n        [[-0.4765, -0.0000, -0.4707,  ..., -0.3045, -0.4433,  0.7162],\n         [-0.0218, -0.5476, -0.5417,  ..., -0.3553, -0.5124,  0.6657],\n         [-0.0873, -0.0868, -0.6168,  ..., -0.4090, -0.5855,  0.6154],\n         ...,\n         [-0.5445, -0.0270, -0.5387,  ..., -0.8058, -0.5023,  0.6699],\n         [-0.4299, -0.4299, -0.4242,  ..., -0.6668, -0.3875,  0.7510],\n         [ 0.0225, -0.4988, -0.4930,  ..., -0.7219, -0.4543,  0.7001]],\n\n        [[-0.0000, -0.0121, -0.5268,  ..., -0.6215, -0.7391,  0.3197],\n         [-0.0201, -0.0251, -0.5409,  ..., -0.6182, -0.7527,  0.3151],\n         [-0.0334, -0.0320, -0.5549,  ..., -0.6145, -0.7660,  0.3101],\n         ...,\n         [ 0.0442, -0.4830, -0.0000,  ..., -0.4654, -0.6785,  0.3929],\n         [-0.0180, -0.0000, -0.0000,  ..., -0.5200, -0.7528,  0.3389],\n         [-0.0265, -0.0300, -0.5641,  ..., -0.5164, -0.7667,  0.3334]]],\n       grad_fn=<MulBackward0>), tensor([[[-0.7886, -0.7851, -0.7590,  ..., -0.0417, -0.9120,  2.4159],\n         [-0.3840, -0.3761, -0.3773,  ..., -0.6091, -0.4176,  0.6209],\n         [ 0.8631, -0.4581, -0.4384,  ..., -1.0677, -0.5550,  2.4272],\n         ...,\n         [-0.7357,  0.6275, -0.7096,  ..., -1.1820, -0.8209,  2.2573],\n         [-0.3318, -0.3272, -0.3258,  ..., -0.4683, -0.3576,  0.0667],\n         [ 1.5198, -0.4527, -0.4196,  ..., -0.9834, -0.5724,  1.4574]],\n\n        [[-0.1585, -0.1615, -0.6393,  ..., -0.0405, -0.5642,  0.5307],\n         [-0.6116, -0.1204, -0.6040,  ..., -0.3981, -0.0461,  0.5555],\n         [-0.3905, -0.3785, -0.3799,  ..., -0.1617, -0.3091,  0.0697],\n         ...,\n         [-0.1710, -0.1720, -0.1125,  ..., -0.8829, -0.5808,  0.5089],\n         [-0.1210, -0.1198, -0.0578,  ..., -0.8118, -0.5287,  0.5446],\n         [-0.5116, -0.0193, -0.5046,  ..., -0.6819, -0.4226,  0.6281]],\n\n        [[-0.0628, -0.4971, -0.4943,  ..., -0.4985, -0.6378,  0.3871],\n         [-0.0319, -0.0263, -0.4925,  ..., -0.4820, -0.6334,  0.3864],\n         [-0.0375, -0.0356, -0.5067,  ..., -0.4786, -0.6477,  0.3821],\n         ...,\n         [-0.3916, -0.3890, -0.3846,  ..., -0.2954, -0.5130,  0.4896],\n         [-0.0155, -0.4824, -0.4809,  ..., -0.0340, -0.6179,  0.4085],\n         [-0.0403, -0.0354, -0.5050,  ..., -0.3869, -0.6413,  0.3933]],\n\n        ...,\n\n        [[-0.6432, -0.1450, -0.6366,  ..., -0.1117, -0.6225,  0.4846],\n         [-0.4467, -0.4415, -0.4415,  ..., -0.5047, -0.4284,  0.6191],\n         [-0.1149, -0.5908, -0.5915,  ..., -0.6421, -0.5776,  0.5172],\n         ...,\n         [-0.0937, -0.0733, -0.5647,  ..., -0.5487, -0.5439,  0.5408],\n         [-0.6957,  0.6769, -0.6712,  ..., -0.6043, -0.6279,  2.4872],\n         [-0.3588, -0.3551, -0.3544,  ..., -0.3106, -0.3337,  0.0658]],\n\n        [[-0.4789, -0.0429, -0.4723,  ..., -0.3202, -0.4413,  0.6059],\n         [-0.0225, -0.4897, -0.4848,  ..., -0.3186, -0.4621,  0.5971],\n         [-0.0837, -0.0756, -0.5546,  ..., -0.3667, -0.5226,  0.5496],\n         ...,\n         [-0.4934, -0.0215, -0.4849,  ..., -0.7243, -0.4469,  0.5998],\n         [-0.4330, -0.4232, -0.4221,  ..., -0.6434, -0.3907,  0.6409],\n         [ 0.0189, -0.4424, -0.4446,  ..., -0.6494, -0.4107,  0.6267]],\n\n        [[-0.0060, -0.0069, -0.4784,  ..., -0.5586, -0.6600,  0.2858],\n         [-0.0218, -0.0224, -0.4868,  ..., -0.5573, -0.6715,  0.2819],\n         [-0.0350, -0.0245, -0.5023,  ..., -0.5520, -0.6844,  0.2775],\n         ...,\n         [-0.0066, -0.4832, -0.0473,  ..., -0.4662, -0.6564,  0.3115],\n         [-0.0720, -0.0493, -0.0552,  ..., -0.5252, -0.7348,  0.2576],\n         [-0.0813, -0.0766, -0.5702,  ..., -0.5227, -0.7479,  0.2514]]],\n       grad_fn=<NativeLayerNormBackward0>), tensor([[[-0.7910, -0.7839, -0.7535,  ..., -0.0399, -0.9132,  2.4149],\n         [-0.4013, -0.3674, -0.3771,  ..., -0.6096, -0.4170,  0.6260],\n         [ 0.8599, -0.4577, -0.4366,  ..., -1.0631, -0.5584,  2.4333],\n         ...,\n         [-0.7411,  0.6273, -0.7046,  ..., -1.1778, -0.8254,  2.2584],\n         [-0.3376, -0.3219, -0.3269,  ..., -0.4682, -0.3592,  0.0703],\n         [ 1.5143, -0.4478, -0.4173,  ..., -0.9827, -0.5727,  1.4626]],\n\n        [[-0.1643, -0.1560, -0.6424,  ..., -0.0451, -0.5661,  0.5360],\n         [-0.6278, -0.1121, -0.6030,  ..., -0.3947, -0.0471,  0.5605],\n         [-0.4046, -0.3806, -0.3791,  ..., -0.1627, -0.3058,  0.0751],\n         ...,\n         [-0.1895, -0.1625, -0.1138,  ..., -0.8799, -0.5812,  0.5151],\n         [-0.1385, -0.1102, -0.0572,  ..., -0.8086, -0.5282,  0.5514],\n         [-0.5236, -0.0126, -0.5040,  ..., -0.6798, -0.4229,  0.6353]],\n\n        [[-0.0788, -0.4871, -0.4945,  ..., -0.4974, -0.6362,  0.3922],\n         [-0.0487, -0.0183, -0.4940,  ..., -0.4784, -0.6346,  0.3917],\n         [-0.0501, -0.0277, -0.5076,  ..., -0.4774, -0.6494,  0.3862],\n         ...,\n         [-0.4076, -0.3813, -0.3866,  ..., -0.2932, -0.5141,  0.4965],\n         [-0.0329, -0.4735, -0.4811,  ..., -0.0340, -0.6174,  0.4163],\n         [-0.0547, -0.0272, -0.5053,  ..., -0.3865, -0.6408,  0.3997]],\n\n        ...,\n\n        [[-0.6556, -0.1348, -0.6339,  ..., -0.1156, -0.6210,  0.4927],\n         [-0.4603, -0.4327, -0.4422,  ..., -0.5039, -0.4283,  0.6215],\n         [-0.1314, -0.5802, -0.5924,  ..., -0.6417, -0.5767,  0.5237],\n         ...,\n         [-0.1026, -0.0670, -0.5684,  ..., -0.5458, -0.5468,  0.5468],\n         [-0.7004,  0.6763, -0.6653,  ..., -0.5992, -0.6328,  2.4865],\n         [-0.3651, -0.3503, -0.3542,  ..., -0.3107, -0.3355,  0.0680]],\n\n        [[-0.4945, -0.0366, -0.4720,  ..., -0.3156, -0.4420,  0.6100],\n         [-0.0367, -0.4809, -0.4861,  ..., -0.3168, -0.4604,  0.6036],\n         [-0.0899, -0.0678, -0.5552,  ..., -0.3666, -0.5243,  0.5549],\n         ...,\n         [-0.5103, -0.0145, -0.4832,  ..., -0.7205, -0.4475,  0.6048],\n         [-0.4447, -0.4167, -0.4260,  ..., -0.6443, -0.3921,  0.6475],\n         [ 0.0057, -0.4333, -0.4461,  ..., -0.6487, -0.4104,  0.6329]],\n\n        [[-0.0216,  0.0033, -0.4784,  ..., -0.5568, -0.6604,  0.2866],\n         [-0.0353, -0.0143, -0.4863,  ..., -0.5550, -0.6729,  0.2861],\n         [-0.0498, -0.0164, -0.5019,  ..., -0.5492, -0.6870,  0.2823],\n         ...,\n         [-0.0216, -0.4750, -0.0469,  ..., -0.4642, -0.6572,  0.3178],\n         [-0.0844, -0.0489, -0.0552,  ..., -0.5222, -0.7349,  0.2625],\n         [-0.0904, -0.0683, -0.5728,  ..., -0.5193, -0.7487,  0.2529]]],\n       grad_fn=<NativeLayerNormBackward0>)), encoder_attentions=None, scale=tensor([[1074.8783],\n        [1074.6301],\n        [1165.5857],\n        [1139.5028],\n        [1083.9233],\n        [1104.4943],\n        [1123.6639],\n        [1138.6639],\n        [1172.1221],\n        [1113.8086],\n        [1198.4343],\n        [1069.2800],\n        [1099.8417],\n        [1083.6449],\n        [1112.0614],\n        [1094.0468]]), static_features=tensor([[1.1234e-02, 1.0097e-03, 0.0000e+00, 6.9800e+00],\n        [1.1234e-02, 1.0097e-03, 0.0000e+00, 6.9797e+00],\n        [1.1234e-02, 1.0097e-03, 0.0000e+00, 7.0610e+00],\n        [1.1234e-02, 1.0097e-03, 0.0000e+00, 7.0383e+00],\n        [1.1234e-02, 1.0097e-03, 0.0000e+00, 6.9883e+00],\n        [1.1234e-02, 1.0097e-03, 0.0000e+00, 7.0071e+00],\n        [1.1234e-02, 1.0097e-03, 0.0000e+00, 7.0244e+00],\n        [1.1234e-02, 1.0097e-03, 0.0000e+00, 7.0376e+00],\n        [1.1234e-02, 1.0097e-03, 0.0000e+00, 7.0666e+00],\n        [1.1234e-02, 1.0097e-03, 0.0000e+00, 7.0155e+00],\n        [1.1234e-02, 1.0097e-03, 0.0000e+00, 7.0888e+00],\n        [1.1234e-02, 1.0097e-03, 0.0000e+00, 6.9747e+00],\n        [1.1234e-02, 1.0097e-03, 0.0000e+00, 7.0029e+00],\n        [1.1234e-02, 1.0097e-03, 0.0000e+00, 6.9881e+00],\n        [1.1234e-02, 1.0097e-03, 0.0000e+00, 7.0140e+00],\n        [1.1234e-02, 1.0097e-03, 0.0000e+00, 6.9976e+00]],\n       grad_fn=<CatBackward0>))"
     },
     "execution_count": 771,
     "metadata": {},
     "output_type": "execute_result"
    }
   ],
   "source": [
    "outputs = model(\n",
    "    past_values=batch[\"past_values\"],\n",
    "    past_time_features=batch[\"past_time_features\"],\n",
    "    past_observed_mask=batch[\"past_observed_mask\"],\n",
    "    static_categorical_features=batch[\"static_categorical_features\"],\n",
    "    static_real_features=batch[\"static_real_features\"],\n",
    "    future_values=batch[\"future_values\"],\n",
    "    future_time_features=batch[\"future_time_features\"],\n",
    "    future_observed_mask=batch[\"future_observed_mask\"],\n",
    "    output_hidden_states=True\n",
    ")\n",
    "\n",
    "outputs\n"
   ],
   "metadata": {
    "collapsed": false
   }
  },
  {
   "cell_type": "code",
   "execution_count": 772,
   "outputs": [
    {
     "name": "stdout",
     "output_type": "stream",
     "text": [
      "Loss: 8.534956932067871\n"
     ]
    }
   ],
   "source": [
    "print(\"Loss:\", outputs.loss.item())\n"
   ],
   "metadata": {
    "collapsed": false
   }
  },
  {
   "cell_type": "code",
   "execution_count": 773,
   "outputs": [
    {
     "name": "stderr",
     "output_type": "stream",
     "text": [
      " 42%|████▎     | 17/40 [00:33<00:44,  1.95s/it]\n"
     ]
    },
    {
     "ename": "KeyboardInterrupt",
     "evalue": "",
     "output_type": "error",
     "traceback": [
      "\u001B[0;31m---------------------------------------------------------------------------\u001B[0m",
      "\u001B[0;31mKeyboardInterrupt\u001B[0m                         Traceback (most recent call last)",
      "Cell \u001B[0;32mIn[773], line 33\u001B[0m\n\u001B[1;32m     31\u001B[0m \u001B[38;5;66;03m# Backpropagation\u001B[39;00m\n\u001B[1;32m     32\u001B[0m accelerator\u001B[38;5;241m.\u001B[39mbackward(loss)\n\u001B[0;32m---> 33\u001B[0m \u001B[43moptimizer\u001B[49m\u001B[38;5;241;43m.\u001B[39;49m\u001B[43mstep\u001B[49m\u001B[43m(\u001B[49m\u001B[43m)\u001B[49m\n",
      "File \u001B[0;32m/opt/miniconda3/envs/NLP/lib/python3.10/site-packages/accelerate/optimizer.py:140\u001B[0m, in \u001B[0;36mAcceleratedOptimizer.step\u001B[0;34m(self, closure)\u001B[0m\n\u001B[1;32m    138\u001B[0m     \u001B[38;5;28mself\u001B[39m\u001B[38;5;241m.\u001B[39m_is_overflow \u001B[38;5;241m=\u001B[39m scale_after \u001B[38;5;241m<\u001B[39m scale_before\n\u001B[1;32m    139\u001B[0m \u001B[38;5;28;01melse\u001B[39;00m:\n\u001B[0;32m--> 140\u001B[0m     \u001B[38;5;28;43mself\u001B[39;49m\u001B[38;5;241;43m.\u001B[39;49m\u001B[43moptimizer\u001B[49m\u001B[38;5;241;43m.\u001B[39;49m\u001B[43mstep\u001B[49m\u001B[43m(\u001B[49m\u001B[43mclosure\u001B[49m\u001B[43m)\u001B[49m\n",
      "File \u001B[0;32m/opt/miniconda3/envs/NLP/lib/python3.10/site-packages/torch/optim/optimizer.py:140\u001B[0m, in \u001B[0;36mOptimizer._hook_for_profile.<locals>.profile_hook_step.<locals>.wrapper\u001B[0;34m(*args, **kwargs)\u001B[0m\n\u001B[1;32m    138\u001B[0m profile_name \u001B[38;5;241m=\u001B[39m \u001B[38;5;124m\"\u001B[39m\u001B[38;5;124mOptimizer.step#\u001B[39m\u001B[38;5;132;01m{}\u001B[39;00m\u001B[38;5;124m.step\u001B[39m\u001B[38;5;124m\"\u001B[39m\u001B[38;5;241m.\u001B[39mformat(obj\u001B[38;5;241m.\u001B[39m\u001B[38;5;18m__class__\u001B[39m\u001B[38;5;241m.\u001B[39m\u001B[38;5;18m__name__\u001B[39m)\n\u001B[1;32m    139\u001B[0m \u001B[38;5;28;01mwith\u001B[39;00m torch\u001B[38;5;241m.\u001B[39mautograd\u001B[38;5;241m.\u001B[39mprofiler\u001B[38;5;241m.\u001B[39mrecord_function(profile_name):\n\u001B[0;32m--> 140\u001B[0m     out \u001B[38;5;241m=\u001B[39m \u001B[43mfunc\u001B[49m\u001B[43m(\u001B[49m\u001B[38;5;241;43m*\u001B[39;49m\u001B[43margs\u001B[49m\u001B[43m,\u001B[49m\u001B[43m \u001B[49m\u001B[38;5;241;43m*\u001B[39;49m\u001B[38;5;241;43m*\u001B[39;49m\u001B[43mkwargs\u001B[49m\u001B[43m)\u001B[49m\n\u001B[1;32m    141\u001B[0m     obj\u001B[38;5;241m.\u001B[39m_optimizer_step_code()\n\u001B[1;32m    142\u001B[0m     \u001B[38;5;28;01mreturn\u001B[39;00m out\n",
      "File \u001B[0;32m/opt/miniconda3/envs/NLP/lib/python3.10/site-packages/torch/optim/optimizer.py:23\u001B[0m, in \u001B[0;36m_use_grad_for_differentiable.<locals>._use_grad\u001B[0;34m(self, *args, **kwargs)\u001B[0m\n\u001B[1;32m     21\u001B[0m \u001B[38;5;28;01mtry\u001B[39;00m:\n\u001B[1;32m     22\u001B[0m     torch\u001B[38;5;241m.\u001B[39mset_grad_enabled(\u001B[38;5;28mself\u001B[39m\u001B[38;5;241m.\u001B[39mdefaults[\u001B[38;5;124m'\u001B[39m\u001B[38;5;124mdifferentiable\u001B[39m\u001B[38;5;124m'\u001B[39m])\n\u001B[0;32m---> 23\u001B[0m     ret \u001B[38;5;241m=\u001B[39m \u001B[43mfunc\u001B[49m\u001B[43m(\u001B[49m\u001B[38;5;28;43mself\u001B[39;49m\u001B[43m,\u001B[49m\u001B[43m \u001B[49m\u001B[38;5;241;43m*\u001B[39;49m\u001B[43margs\u001B[49m\u001B[43m,\u001B[49m\u001B[43m \u001B[49m\u001B[38;5;241;43m*\u001B[39;49m\u001B[38;5;241;43m*\u001B[39;49m\u001B[43mkwargs\u001B[49m\u001B[43m)\u001B[49m\n\u001B[1;32m     24\u001B[0m \u001B[38;5;28;01mfinally\u001B[39;00m:\n\u001B[1;32m     25\u001B[0m     torch\u001B[38;5;241m.\u001B[39mset_grad_enabled(prev_grad)\n",
      "File \u001B[0;32m/opt/miniconda3/envs/NLP/lib/python3.10/site-packages/torch/optim/adam.py:234\u001B[0m, in \u001B[0;36mAdam.step\u001B[0;34m(self, closure, grad_scaler)\u001B[0m\n\u001B[1;32m    231\u001B[0m                 \u001B[38;5;28;01mraise\u001B[39;00m \u001B[38;5;167;01mRuntimeError\u001B[39;00m(\u001B[38;5;124m'\u001B[39m\u001B[38;5;124m`requires_grad` is not supported for `step` in differentiable mode\u001B[39m\u001B[38;5;124m'\u001B[39m)\n\u001B[1;32m    232\u001B[0m             state_steps\u001B[38;5;241m.\u001B[39mappend(state[\u001B[38;5;124m'\u001B[39m\u001B[38;5;124mstep\u001B[39m\u001B[38;5;124m'\u001B[39m])\n\u001B[0;32m--> 234\u001B[0m     \u001B[43madam\u001B[49m\u001B[43m(\u001B[49m\u001B[43mparams_with_grad\u001B[49m\u001B[43m,\u001B[49m\n\u001B[1;32m    235\u001B[0m \u001B[43m         \u001B[49m\u001B[43mgrads\u001B[49m\u001B[43m,\u001B[49m\n\u001B[1;32m    236\u001B[0m \u001B[43m         \u001B[49m\u001B[43mexp_avgs\u001B[49m\u001B[43m,\u001B[49m\n\u001B[1;32m    237\u001B[0m \u001B[43m         \u001B[49m\u001B[43mexp_avg_sqs\u001B[49m\u001B[43m,\u001B[49m\n\u001B[1;32m    238\u001B[0m \u001B[43m         \u001B[49m\u001B[43mmax_exp_avg_sqs\u001B[49m\u001B[43m,\u001B[49m\n\u001B[1;32m    239\u001B[0m \u001B[43m         \u001B[49m\u001B[43mstate_steps\u001B[49m\u001B[43m,\u001B[49m\n\u001B[1;32m    240\u001B[0m \u001B[43m         \u001B[49m\u001B[43mamsgrad\u001B[49m\u001B[38;5;241;43m=\u001B[39;49m\u001B[43mgroup\u001B[49m\u001B[43m[\u001B[49m\u001B[38;5;124;43m'\u001B[39;49m\u001B[38;5;124;43mamsgrad\u001B[39;49m\u001B[38;5;124;43m'\u001B[39;49m\u001B[43m]\u001B[49m\u001B[43m,\u001B[49m\n\u001B[1;32m    241\u001B[0m \u001B[43m         \u001B[49m\u001B[43mbeta1\u001B[49m\u001B[38;5;241;43m=\u001B[39;49m\u001B[43mbeta1\u001B[49m\u001B[43m,\u001B[49m\n\u001B[1;32m    242\u001B[0m \u001B[43m         \u001B[49m\u001B[43mbeta2\u001B[49m\u001B[38;5;241;43m=\u001B[39;49m\u001B[43mbeta2\u001B[49m\u001B[43m,\u001B[49m\n\u001B[1;32m    243\u001B[0m \u001B[43m         \u001B[49m\u001B[43mlr\u001B[49m\u001B[38;5;241;43m=\u001B[39;49m\u001B[43mgroup\u001B[49m\u001B[43m[\u001B[49m\u001B[38;5;124;43m'\u001B[39;49m\u001B[38;5;124;43mlr\u001B[39;49m\u001B[38;5;124;43m'\u001B[39;49m\u001B[43m]\u001B[49m\u001B[43m,\u001B[49m\n\u001B[1;32m    244\u001B[0m \u001B[43m         \u001B[49m\u001B[43mweight_decay\u001B[49m\u001B[38;5;241;43m=\u001B[39;49m\u001B[43mgroup\u001B[49m\u001B[43m[\u001B[49m\u001B[38;5;124;43m'\u001B[39;49m\u001B[38;5;124;43mweight_decay\u001B[39;49m\u001B[38;5;124;43m'\u001B[39;49m\u001B[43m]\u001B[49m\u001B[43m,\u001B[49m\n\u001B[1;32m    245\u001B[0m \u001B[43m         \u001B[49m\u001B[43meps\u001B[49m\u001B[38;5;241;43m=\u001B[39;49m\u001B[43mgroup\u001B[49m\u001B[43m[\u001B[49m\u001B[38;5;124;43m'\u001B[39;49m\u001B[38;5;124;43meps\u001B[39;49m\u001B[38;5;124;43m'\u001B[39;49m\u001B[43m]\u001B[49m\u001B[43m,\u001B[49m\n\u001B[1;32m    246\u001B[0m \u001B[43m         \u001B[49m\u001B[43mmaximize\u001B[49m\u001B[38;5;241;43m=\u001B[39;49m\u001B[43mgroup\u001B[49m\u001B[43m[\u001B[49m\u001B[38;5;124;43m'\u001B[39;49m\u001B[38;5;124;43mmaximize\u001B[39;49m\u001B[38;5;124;43m'\u001B[39;49m\u001B[43m]\u001B[49m\u001B[43m,\u001B[49m\n\u001B[1;32m    247\u001B[0m \u001B[43m         \u001B[49m\u001B[43mforeach\u001B[49m\u001B[38;5;241;43m=\u001B[39;49m\u001B[43mgroup\u001B[49m\u001B[43m[\u001B[49m\u001B[38;5;124;43m'\u001B[39;49m\u001B[38;5;124;43mforeach\u001B[39;49m\u001B[38;5;124;43m'\u001B[39;49m\u001B[43m]\u001B[49m\u001B[43m,\u001B[49m\n\u001B[1;32m    248\u001B[0m \u001B[43m         \u001B[49m\u001B[43mcapturable\u001B[49m\u001B[38;5;241;43m=\u001B[39;49m\u001B[43mgroup\u001B[49m\u001B[43m[\u001B[49m\u001B[38;5;124;43m'\u001B[39;49m\u001B[38;5;124;43mcapturable\u001B[39;49m\u001B[38;5;124;43m'\u001B[39;49m\u001B[43m]\u001B[49m\u001B[43m,\u001B[49m\n\u001B[1;32m    249\u001B[0m \u001B[43m         \u001B[49m\u001B[43mdifferentiable\u001B[49m\u001B[38;5;241;43m=\u001B[39;49m\u001B[43mgroup\u001B[49m\u001B[43m[\u001B[49m\u001B[38;5;124;43m'\u001B[39;49m\u001B[38;5;124;43mdifferentiable\u001B[39;49m\u001B[38;5;124;43m'\u001B[39;49m\u001B[43m]\u001B[49m\u001B[43m,\u001B[49m\n\u001B[1;32m    250\u001B[0m \u001B[43m         \u001B[49m\u001B[43mfused\u001B[49m\u001B[38;5;241;43m=\u001B[39;49m\u001B[43mgroup\u001B[49m\u001B[43m[\u001B[49m\u001B[38;5;124;43m'\u001B[39;49m\u001B[38;5;124;43mfused\u001B[39;49m\u001B[38;5;124;43m'\u001B[39;49m\u001B[43m]\u001B[49m\u001B[43m,\u001B[49m\n\u001B[1;32m    251\u001B[0m \u001B[43m         \u001B[49m\u001B[43mgrad_scale\u001B[49m\u001B[38;5;241;43m=\u001B[39;49m\u001B[43mgrad_scale\u001B[49m\u001B[43m,\u001B[49m\n\u001B[1;32m    252\u001B[0m \u001B[43m         \u001B[49m\u001B[43mfound_inf\u001B[49m\u001B[38;5;241;43m=\u001B[39;49m\u001B[43mfound_inf\u001B[49m\u001B[43m)\u001B[49m\n\u001B[1;32m    254\u001B[0m \u001B[38;5;28;01mreturn\u001B[39;00m loss\n",
      "File \u001B[0;32m/opt/miniconda3/envs/NLP/lib/python3.10/site-packages/torch/optim/adam.py:300\u001B[0m, in \u001B[0;36madam\u001B[0;34m(params, grads, exp_avgs, exp_avg_sqs, max_exp_avg_sqs, state_steps, foreach, capturable, differentiable, fused, grad_scale, found_inf, amsgrad, beta1, beta2, lr, weight_decay, eps, maximize)\u001B[0m\n\u001B[1;32m    297\u001B[0m \u001B[38;5;28;01melse\u001B[39;00m:\n\u001B[1;32m    298\u001B[0m     func \u001B[38;5;241m=\u001B[39m _single_tensor_adam\n\u001B[0;32m--> 300\u001B[0m \u001B[43mfunc\u001B[49m\u001B[43m(\u001B[49m\u001B[43mparams\u001B[49m\u001B[43m,\u001B[49m\n\u001B[1;32m    301\u001B[0m \u001B[43m     \u001B[49m\u001B[43mgrads\u001B[49m\u001B[43m,\u001B[49m\n\u001B[1;32m    302\u001B[0m \u001B[43m     \u001B[49m\u001B[43mexp_avgs\u001B[49m\u001B[43m,\u001B[49m\n\u001B[1;32m    303\u001B[0m \u001B[43m     \u001B[49m\u001B[43mexp_avg_sqs\u001B[49m\u001B[43m,\u001B[49m\n\u001B[1;32m    304\u001B[0m \u001B[43m     \u001B[49m\u001B[43mmax_exp_avg_sqs\u001B[49m\u001B[43m,\u001B[49m\n\u001B[1;32m    305\u001B[0m \u001B[43m     \u001B[49m\u001B[43mstate_steps\u001B[49m\u001B[43m,\u001B[49m\n\u001B[1;32m    306\u001B[0m \u001B[43m     \u001B[49m\u001B[43mamsgrad\u001B[49m\u001B[38;5;241;43m=\u001B[39;49m\u001B[43mamsgrad\u001B[49m\u001B[43m,\u001B[49m\n\u001B[1;32m    307\u001B[0m \u001B[43m     \u001B[49m\u001B[43mbeta1\u001B[49m\u001B[38;5;241;43m=\u001B[39;49m\u001B[43mbeta1\u001B[49m\u001B[43m,\u001B[49m\n\u001B[1;32m    308\u001B[0m \u001B[43m     \u001B[49m\u001B[43mbeta2\u001B[49m\u001B[38;5;241;43m=\u001B[39;49m\u001B[43mbeta2\u001B[49m\u001B[43m,\u001B[49m\n\u001B[1;32m    309\u001B[0m \u001B[43m     \u001B[49m\u001B[43mlr\u001B[49m\u001B[38;5;241;43m=\u001B[39;49m\u001B[43mlr\u001B[49m\u001B[43m,\u001B[49m\n\u001B[1;32m    310\u001B[0m \u001B[43m     \u001B[49m\u001B[43mweight_decay\u001B[49m\u001B[38;5;241;43m=\u001B[39;49m\u001B[43mweight_decay\u001B[49m\u001B[43m,\u001B[49m\n\u001B[1;32m    311\u001B[0m \u001B[43m     \u001B[49m\u001B[43meps\u001B[49m\u001B[38;5;241;43m=\u001B[39;49m\u001B[43meps\u001B[49m\u001B[43m,\u001B[49m\n\u001B[1;32m    312\u001B[0m \u001B[43m     \u001B[49m\u001B[43mmaximize\u001B[49m\u001B[38;5;241;43m=\u001B[39;49m\u001B[43mmaximize\u001B[49m\u001B[43m,\u001B[49m\n\u001B[1;32m    313\u001B[0m \u001B[43m     \u001B[49m\u001B[43mcapturable\u001B[49m\u001B[38;5;241;43m=\u001B[39;49m\u001B[43mcapturable\u001B[49m\u001B[43m,\u001B[49m\n\u001B[1;32m    314\u001B[0m \u001B[43m     \u001B[49m\u001B[43mdifferentiable\u001B[49m\u001B[38;5;241;43m=\u001B[39;49m\u001B[43mdifferentiable\u001B[49m\u001B[43m,\u001B[49m\n\u001B[1;32m    315\u001B[0m \u001B[43m     \u001B[49m\u001B[43mgrad_scale\u001B[49m\u001B[38;5;241;43m=\u001B[39;49m\u001B[43mgrad_scale\u001B[49m\u001B[43m,\u001B[49m\n\u001B[1;32m    316\u001B[0m \u001B[43m     \u001B[49m\u001B[43mfound_inf\u001B[49m\u001B[38;5;241;43m=\u001B[39;49m\u001B[43mfound_inf\u001B[49m\u001B[43m)\u001B[49m\n",
      "File \u001B[0;32m/opt/miniconda3/envs/NLP/lib/python3.10/site-packages/torch/optim/adam.py:364\u001B[0m, in \u001B[0;36m_single_tensor_adam\u001B[0;34m(params, grads, exp_avgs, exp_avg_sqs, max_exp_avg_sqs, state_steps, grad_scale, found_inf, amsgrad, beta1, beta2, lr, weight_decay, eps, maximize, capturable, differentiable)\u001B[0m\n\u001B[1;32m    362\u001B[0m \u001B[38;5;66;03m# Decay the first and second moment running average coefficient\u001B[39;00m\n\u001B[1;32m    363\u001B[0m exp_avg\u001B[38;5;241m.\u001B[39mmul_(beta1)\u001B[38;5;241m.\u001B[39madd_(grad, alpha\u001B[38;5;241m=\u001B[39m\u001B[38;5;241m1\u001B[39m \u001B[38;5;241m-\u001B[39m beta1)\n\u001B[0;32m--> 364\u001B[0m \u001B[43mexp_avg_sq\u001B[49m\u001B[38;5;241;43m.\u001B[39;49m\u001B[43mmul_\u001B[49m\u001B[43m(\u001B[49m\u001B[43mbeta2\u001B[49m\u001B[43m)\u001B[49m\u001B[38;5;241m.\u001B[39maddcmul_(grad, grad\u001B[38;5;241m.\u001B[39mconj(), value\u001B[38;5;241m=\u001B[39m\u001B[38;5;241m1\u001B[39m \u001B[38;5;241m-\u001B[39m beta2)\n\u001B[1;32m    366\u001B[0m \u001B[38;5;28;01mif\u001B[39;00m capturable \u001B[38;5;129;01mor\u001B[39;00m differentiable:\n\u001B[1;32m    367\u001B[0m     step \u001B[38;5;241m=\u001B[39m step_t\n",
      "\u001B[0;31mKeyboardInterrupt\u001B[0m: "
     ]
    }
   ],
   "source": [
    "from accelerate import Accelerator\n",
    "from torch.optim import Adam\n",
    "from tqdm import tqdm\n",
    "\n",
    "accelerator = Accelerator()\n",
    "device = accelerator.device\n",
    "\n",
    "model.to(device)\n",
    "optimizer = Adam(model.parameters(), lr=1e-3)\n",
    "\n",
    "model, optimizer, train_dataloader = accelerator.prepare(\n",
    "    model, optimizer, train_dataloader,\n",
    ")\n",
    "\n",
    "model.train()\n",
    "for epoch in tqdm(range(40)):\n",
    "    for batch in train_dataloader:\n",
    "        optimizer.zero_grad()\n",
    "        outputs = model(\n",
    "            static_categorical_features=batch[\"static_categorical_features\"].to(device),\n",
    "            static_real_features=batch[\"static_real_features\"].to(device),\n",
    "            past_time_features=batch[\"past_time_features\"].to(device),\n",
    "            past_values=batch[\"past_values\"].to(device),\n",
    "            future_time_features=batch[\"future_time_features\"].to(device),\n",
    "            future_values=batch[\"future_values\"].to(device),\n",
    "            past_observed_mask=batch[\"past_observed_mask\"].to(device),\n",
    "            future_observed_mask=batch[\"future_observed_mask\"].to(device),\n",
    "        )\n",
    "        loss = outputs.loss\n",
    "\n",
    "        # Backpropagation\n",
    "        accelerator.backward(loss)\n",
    "        optimizer.step()\n",
    "\n",
    "        # print(loss.item())\n",
    "\n"
   ],
   "metadata": {
    "collapsed": false
   }
  },
  {
   "cell_type": "code",
   "execution_count": null,
   "outputs": [],
   "source": [
    "import torch\n",
    "\n",
    "torch.save(model.state_dict(), 'weight/test.pt')\n"
   ],
   "metadata": {
    "collapsed": false
   }
  },
  {
   "cell_type": "code",
   "execution_count": 860,
   "outputs": [
    {
     "data": {
      "text/plain": "(50, 100, 1)"
     },
     "execution_count": 860,
     "metadata": {},
     "output_type": "execute_result"
    }
   ],
   "source": [
    "model.eval()\n",
    "\n",
    "forecasts = []\n",
    "\n",
    "for batch in test_dataloader:\n",
    "    outputs = model.generate(\n",
    "        static_categorical_features=batch[\"static_categorical_features\"].to(device),\n",
    "        static_real_features=batch[\"static_real_features\"].to(device),\n",
    "        past_time_features=batch[\"past_time_features\"].to(device),\n",
    "        past_values=batch[\"past_values\"].to(device),\n",
    "        future_time_features=batch[\"future_time_features\"].to(device),\n",
    "        past_observed_mask=batch[\"past_observed_mask\"].to(device),\n",
    "    )\n",
    "    forecasts.append(outputs.sequences.cpu().numpy())\n",
    "\n",
    "forecasts = np.vstack(forecasts)\n",
    "forecasts.shape\n"
   ],
   "metadata": {
    "collapsed": false
   }
  },
  {
   "cell_type": "code",
   "execution_count": 864,
   "outputs": [
    {
     "data": {
      "text/plain": "array([[1.8667784],\n       [1.7907977],\n       [2.066187 ],\n       [2.0307493],\n       [1.9750068],\n       [1.6973935],\n       [1.9570929],\n       [1.5754195],\n       [1.6412709],\n       [1.5954214],\n       [1.4748036],\n       [1.2990261],\n       [1.6487832],\n       [1.2279764],\n       [1.3656814],\n       [1.5475559],\n       [1.470499 ],\n       [1.2713115],\n       [1.6169156],\n       [1.3645769],\n       [1.2346258],\n       [1.2782408],\n       [1.5044906],\n       [1.7385634],\n       [1.7372382],\n       [1.8678725],\n       [1.831477 ],\n       [1.7408698],\n       [2.0128484],\n       [2.1567197],\n       [2.2652178],\n       [2.2723267],\n       [2.266258 ],\n       [2.461272 ],\n       [2.436755 ],\n       [2.5879638],\n       [2.2913733],\n       [2.5388887],\n       [2.589808 ],\n       [2.5145926],\n       [2.5934343],\n       [2.5641558],\n       [2.5438404],\n       [2.6444564],\n       [2.7404802],\n       [2.5928643],\n       [2.6513062],\n       [3.0502641],\n       [2.9214842],\n       [2.949006 ]], dtype=float32)"
     },
     "execution_count": 864,
     "metadata": {},
     "output_type": "execute_result"
    }
   ],
   "source": [
    "forecast_median = np.median(forecasts, 1)\n",
    "forecast_median = (forecast_median - dataset_mean) / dataset_std\n",
    "\n",
    "# np.median(forecasts[0][0])\n",
    "# forecast_median.shape\n",
    "forecast_median\n",
    "\n",
    "# forecasts.shape\n",
    "# forecasts[:, 0, :, 0]\n",
    "# np.median(forecasts[:, 0])\n"
   ],
   "metadata": {
    "collapsed": false
   }
  },
  {
   "cell_type": "code",
   "execution_count": null,
   "outputs": [],
   "source": [
    "from evaluate import load\n",
    "from gluonts.time_feature import get_seasonality\n",
    "\n",
    "mase_metric = load(\"evaluate-metric/mase\")\n",
    "smape_metric = load(\"evaluate-metric/smape\")\n",
    "\n",
    "mae_metric = load(\"evaluate-metric/mae\")\n",
    "mse_metric = load(\"evaluate-metric/mse\")\n",
    "mape_metric = load(\"evaluate-metric/mape\")\n"
   ],
   "metadata": {
    "collapsed": false
   }
  },
  {
   "cell_type": "code",
   "execution_count": 919,
   "outputs": [],
   "source": [
    "ground_truth = np.array(test_dict['target'][-1][-split_size:])\n",
    "ground_truth = (ground_truth - dataset_mean) / dataset_std\n",
    "\n",
    "is_finite = np.isfinite(ground_truth)\n",
    "\n",
    "predictions = forecast_median[is_finite][:, 0]\n",
    "references = ground_truth[is_finite]\n",
    "\n",
    "mae = mae_metric.compute(\n",
    "    predictions=predictions,\n",
    "    references=references,\n",
    ")\n",
    "mae_metrics = mae[\"mae\"]\n",
    "\n",
    "mse = mse_metric.compute(\n",
    "    predictions=predictions,\n",
    "    references=references,\n",
    "    squared=False,\n",
    ")\n",
    "mse_metrics = mse[\"mse\"]\n",
    "\n",
    "mape = mape_metric.compute(\n",
    "    predictions=predictions,\n",
    "    references=references,\n",
    ")\n",
    "mape_metrics = mape[\"mape\"]\n"
   ],
   "metadata": {
    "collapsed": false
   }
  },
  {
   "cell_type": "code",
   "execution_count": 986,
   "outputs": [
    {
     "name": "stdout",
     "output_type": "stream",
     "text": [
      "MAE: 0.265985180349911\n",
      "RMSE: 0.33065042097161224\n",
      "MAPE: 0.16505945905766978\n"
     ]
    },
    {
     "data": {
      "text/plain": "[Period('2010-01-04', 'D'),\n Period('2010-01-04', 'D'),\n Period('2010-01-04', 'D'),\n Period('2010-01-04', 'D'),\n Period('2010-01-04', 'D'),\n Period('2010-01-04', 'D'),\n Period('2010-01-04', 'D'),\n Period('2010-01-04', 'D'),\n Period('2010-01-04', 'D'),\n Period('2010-01-04', 'D'),\n Period('2010-01-04', 'D'),\n Period('2010-01-04', 'D'),\n Period('2010-01-04', 'D'),\n Period('2010-01-04', 'D'),\n Period('2010-01-04', 'D'),\n Period('2010-01-04', 'D'),\n Period('2010-01-04', 'D'),\n Period('2010-01-04', 'D'),\n Period('2010-01-04', 'D'),\n Period('2010-01-04', 'D'),\n Period('2010-01-04', 'D'),\n Period('2010-01-04', 'D'),\n Period('2010-01-04', 'D'),\n Period('2010-01-04', 'D'),\n Period('2010-01-04', 'D'),\n Period('2010-01-04', 'D'),\n Period('2010-01-04', 'D'),\n Period('2010-01-04', 'D'),\n Period('2010-01-04', 'D'),\n Period('2010-01-04', 'D'),\n Period('2010-01-04', 'D'),\n Period('2010-01-04', 'D'),\n Period('2010-01-04', 'D'),\n Period('2010-01-04', 'D'),\n Period('2010-01-04', 'D'),\n Period('2010-01-04', 'D'),\n Period('2010-01-04', 'D'),\n Period('2010-01-04', 'D'),\n Period('2010-01-04', 'D'),\n Period('2010-01-04', 'D'),\n Period('2010-01-04', 'D'),\n Period('2010-01-04', 'D'),\n Period('2010-01-04', 'D'),\n Period('2010-01-04', 'D'),\n Period('2010-01-04', 'D'),\n Period('2010-01-04', 'D'),\n Period('2010-01-04', 'D'),\n Period('2010-01-04', 'D'),\n Period('2010-01-04', 'D'),\n Period('2010-01-04', 'D')]"
     },
     "execution_count": 986,
     "metadata": {},
     "output_type": "execute_result"
    }
   ],
   "source": [
    "print(f\"MAE: {mae_metrics}\")\n",
    "print(f\"RMSE: {mse_metrics}\")\n",
    "print(f\"MAPE: {mape_metrics}\")\n"
   ],
   "metadata": {
    "collapsed": false
   }
  },
  {
   "cell_type": "code",
   "execution_count": 988,
   "outputs": [
    {
     "data": {
      "text/plain": "<Figure size 640x480 with 1 Axes>",
      "image/png": "[encoded data removed]"
     },
     "metadata": {},
     "output_type": "display_data"
    }
   ],
   "source": [
    "import matplotlib.dates as mdates\n",
    "\n",
    "fig, ax = plt.subplots()\n",
    "\n",
    "display_size = split_size * 2\n",
    "actual_value = test_dataset[FieldName.TARGET][-1][-display_size:]\n",
    "\n",
    "df_actual_value = pd.DataFrame(actual_value)\n",
    "df_actual_value = df_actual_value.fillna(method='ffill')\n",
    "\n",
    "index = pd.period_range(\n",
    "    start=test_dataset[FieldName.START][0],\n",
    "    periods=len(actual_value),\n",
    "    freq=freq,\n",
    ").to_timestamp()\n",
    "\n",
    "# Major ticks every half year, minor ticks every month,\n",
    "ax.xaxis.set_major_locator(mdates.MonthLocator(bymonth=(1, 13)))\n",
    "ax.xaxis.set_minor_locator(mdates.MonthLocator())\n",
    "\n",
    "ax.plot(\n",
    "    index,\n",
    "    df_actual_value,\n",
    "    label=\"actual\",\n",
    ")\n",
    "\n",
    "plt.plot(\n",
    "    index[-split_size:],\n",
    "    np.median(forecasts, axis=1),\n",
    "    label=\"median\",\n",
    ")\n",
    "\n",
    "forecasts_mean = np.mean(forecasts, axis=1)[:, 0]\n",
    "forecasts_std = np.std(forecasts, axis=1)[:, 0]\n",
    "\n",
    "plt.fill_between(\n",
    "    index[-split_size:],\n",
    "    forecasts_mean - forecasts_std,\n",
    "    forecasts_mean + forecasts_std,\n",
    "    alpha=0.3,\n",
    "    interpolate=True,\n",
    "    label=\"+/- 1-std\",\n",
    ")\n",
    "\n",
    "plt.legend()\n",
    "plt.show()\n",
    "\n"
   ],
   "metadata": {
    "collapsed": false
   }
  },
  {
   "cell_type": "code",
   "execution_count": 925,
   "outputs": [
    {
     "ename": "ValueError",
     "evalue": "Value must be Period, string, integer, or datetime",
     "output_type": "error",
     "traceback": [
      "\u001B[0;31m---------------------------------------------------------------------------\u001B[0m",
      "\u001B[0;31mValueError\u001B[0m                                Traceback (most recent call last)",
      "Cell \u001B[0;32mIn[925], line 6\u001B[0m\n\u001B[1;32m      1\u001B[0m \u001B[38;5;28;01mimport\u001B[39;00m \u001B[38;5;21;01mmatplotlib\u001B[39;00m\u001B[38;5;21;01m.\u001B[39;00m\u001B[38;5;21;01mdates\u001B[39;00m \u001B[38;5;28;01mas\u001B[39;00m \u001B[38;5;21;01mmdates\u001B[39;00m\n\u001B[1;32m      4\u001B[0m fig, ax \u001B[38;5;241m=\u001B[39m plt\u001B[38;5;241m.\u001B[39msubplots()\n\u001B[0;32m----> 6\u001B[0m index \u001B[38;5;241m=\u001B[39m \u001B[43mpd\u001B[49m\u001B[38;5;241;43m.\u001B[39;49m\u001B[43mperiod_range\u001B[49m\u001B[43m(\u001B[49m\n\u001B[1;32m      7\u001B[0m \u001B[43m    \u001B[49m\u001B[43mstart\u001B[49m\u001B[38;5;241;43m=\u001B[39;49m\u001B[43mtest_dataset\u001B[49m\u001B[43m[\u001B[49m\u001B[43mFieldName\u001B[49m\u001B[38;5;241;43m.\u001B[39;49m\u001B[43mSTART\u001B[49m\u001B[43m]\u001B[49m\u001B[43m,\u001B[49m\n\u001B[1;32m      8\u001B[0m \u001B[43m    \u001B[49m\u001B[43mperiods\u001B[49m\u001B[38;5;241;43m=\u001B[39;49m\u001B[38;5;28;43mlen\u001B[39;49m\u001B[43m(\u001B[49m\u001B[43mtest_dataset\u001B[49m\u001B[43m[\u001B[49m\u001B[43mFieldName\u001B[49m\u001B[38;5;241;43m.\u001B[39;49m\u001B[43mTARGET\u001B[49m\u001B[43m]\u001B[49m\u001B[43m)\u001B[49m\u001B[43m,\u001B[49m\n\u001B[1;32m      9\u001B[0m \u001B[43m    \u001B[49m\u001B[43mfreq\u001B[49m\u001B[38;5;241;43m=\u001B[39;49m\u001B[43mfreq\u001B[49m\u001B[43m,\u001B[49m\n\u001B[1;32m     10\u001B[0m \u001B[43m)\u001B[49m\u001B[38;5;241m.\u001B[39mto_timestamp()\n\u001B[1;32m     12\u001B[0m index\n",
      "File \u001B[0;32m/opt/miniconda3/envs/NLP/lib/python3.10/site-packages/pandas/core/indexes/period.py:586\u001B[0m, in \u001B[0;36mperiod_range\u001B[0;34m(start, end, periods, freq, name)\u001B[0m\n\u001B[1;32m    583\u001B[0m \u001B[38;5;28;01mif\u001B[39;00m freq \u001B[38;5;129;01mis\u001B[39;00m \u001B[38;5;28;01mNone\u001B[39;00m \u001B[38;5;129;01mand\u001B[39;00m (\u001B[38;5;129;01mnot\u001B[39;00m \u001B[38;5;28misinstance\u001B[39m(start, Period) \u001B[38;5;129;01mand\u001B[39;00m \u001B[38;5;129;01mnot\u001B[39;00m \u001B[38;5;28misinstance\u001B[39m(end, Period)):\n\u001B[1;32m    584\u001B[0m     freq \u001B[38;5;241m=\u001B[39m \u001B[38;5;124m\"\u001B[39m\u001B[38;5;124mD\u001B[39m\u001B[38;5;124m\"\u001B[39m\n\u001B[0;32m--> 586\u001B[0m data, freq \u001B[38;5;241m=\u001B[39m \u001B[43mPeriodArray\u001B[49m\u001B[38;5;241;43m.\u001B[39;49m\u001B[43m_generate_range\u001B[49m\u001B[43m(\u001B[49m\u001B[43mstart\u001B[49m\u001B[43m,\u001B[49m\u001B[43m \u001B[49m\u001B[43mend\u001B[49m\u001B[43m,\u001B[49m\u001B[43m \u001B[49m\u001B[43mperiods\u001B[49m\u001B[43m,\u001B[49m\u001B[43m \u001B[49m\u001B[43mfreq\u001B[49m\u001B[43m,\u001B[49m\u001B[43m \u001B[49m\u001B[43mfields\u001B[49m\u001B[38;5;241;43m=\u001B[39;49m\u001B[43m{\u001B[49m\u001B[43m}\u001B[49m\u001B[43m)\u001B[49m\n\u001B[1;32m    587\u001B[0m data \u001B[38;5;241m=\u001B[39m PeriodArray(data, freq\u001B[38;5;241m=\u001B[39mfreq)\n\u001B[1;32m    588\u001B[0m \u001B[38;5;28;01mreturn\u001B[39;00m PeriodIndex(data, name\u001B[38;5;241m=\u001B[39mname)\n",
      "File \u001B[0;32m/opt/miniconda3/envs/NLP/lib/python3.10/site-packages/pandas/core/arrays/period.py:314\u001B[0m, in \u001B[0;36mPeriodArray._generate_range\u001B[0;34m(cls, start, end, periods, freq, fields)\u001B[0m\n\u001B[1;32m    310\u001B[0m     \u001B[38;5;28;01mif\u001B[39;00m field_count \u001B[38;5;241m>\u001B[39m \u001B[38;5;241m0\u001B[39m:\n\u001B[1;32m    311\u001B[0m         \u001B[38;5;28;01mraise\u001B[39;00m \u001B[38;5;167;01mValueError\u001B[39;00m(\n\u001B[1;32m    312\u001B[0m             \u001B[38;5;124m\"\u001B[39m\u001B[38;5;124mCan either instantiate from fields or endpoints, but not both\u001B[39m\u001B[38;5;124m\"\u001B[39m\n\u001B[1;32m    313\u001B[0m         )\n\u001B[0;32m--> 314\u001B[0m     subarr, freq \u001B[38;5;241m=\u001B[39m \u001B[43m_get_ordinal_range\u001B[49m\u001B[43m(\u001B[49m\u001B[43mstart\u001B[49m\u001B[43m,\u001B[49m\u001B[43m \u001B[49m\u001B[43mend\u001B[49m\u001B[43m,\u001B[49m\u001B[43m \u001B[49m\u001B[43mperiods\u001B[49m\u001B[43m,\u001B[49m\u001B[43m \u001B[49m\u001B[43mfreq\u001B[49m\u001B[43m)\u001B[49m\n\u001B[1;32m    315\u001B[0m \u001B[38;5;28;01melif\u001B[39;00m field_count \u001B[38;5;241m>\u001B[39m \u001B[38;5;241m0\u001B[39m:\n\u001B[1;32m    316\u001B[0m     subarr, freq \u001B[38;5;241m=\u001B[39m _range_from_fields(freq\u001B[38;5;241m=\u001B[39mfreq, \u001B[38;5;241m*\u001B[39m\u001B[38;5;241m*\u001B[39mfields)\n",
      "File \u001B[0;32m/opt/miniconda3/envs/NLP/lib/python3.10/site-packages/pandas/core/arrays/period.py:1082\u001B[0m, in \u001B[0;36m_get_ordinal_range\u001B[0;34m(start, end, periods, freq, mult)\u001B[0m\n\u001B[1;32m   1079\u001B[0m     mult \u001B[38;5;241m=\u001B[39m freq\u001B[38;5;241m.\u001B[39mn\n\u001B[1;32m   1081\u001B[0m \u001B[38;5;28;01mif\u001B[39;00m start \u001B[38;5;129;01mis\u001B[39;00m \u001B[38;5;129;01mnot\u001B[39;00m \u001B[38;5;28;01mNone\u001B[39;00m:\n\u001B[0;32m-> 1082\u001B[0m     start \u001B[38;5;241m=\u001B[39m \u001B[43mPeriod\u001B[49m\u001B[43m(\u001B[49m\u001B[43mstart\u001B[49m\u001B[43m,\u001B[49m\u001B[43m \u001B[49m\u001B[43mfreq\u001B[49m\u001B[43m)\u001B[49m\n\u001B[1;32m   1083\u001B[0m \u001B[38;5;28;01mif\u001B[39;00m end \u001B[38;5;129;01mis\u001B[39;00m \u001B[38;5;129;01mnot\u001B[39;00m \u001B[38;5;28;01mNone\u001B[39;00m:\n\u001B[1;32m   1084\u001B[0m     end \u001B[38;5;241m=\u001B[39m Period(end, freq)\n",
      "File \u001B[0;32m/opt/miniconda3/envs/NLP/lib/python3.10/site-packages/pandas/_libs/tslibs/period.pyx:2616\u001B[0m, in \u001B[0;36mpandas._libs.tslibs.period.Period.__new__\u001B[0;34m()\u001B[0m\n",
      "\u001B[0;31mValueError\u001B[0m: Value must be Period, string, integer, or datetime"
     ]
    },
    {
     "data": {
      "text/plain": "<Figure size 640x480 with 1 Axes>",
      "image/png": "[encoded data removed]"
     },
     "metadata": {},
     "output_type": "display_data"
    }
   ],
   "source": [
    "\n",
    "# Major ticks every half year, minor ticks every month,\n",
    "# ax.xaxis.set_major_locator(mdates.MonthLocator(bymonth=(1, 7)))\n",
    "# ax.xaxis.set_minor_locator(mdates.MonthLocator())\n",
    "#\n",
    "# ax.plot(\n",
    "#     index[-2 * prediction_length:],\n",
    "#     test_dataset[ts_index][\"target\"][-2 * prediction_length:],\n",
    "#     label=\"actual\",\n",
    "# )\n",
    "#\n",
    "# plt.plot(\n",
    "#     index[-prediction_length:],\n",
    "#     np.median(forecasts[ts_index], axis=0),\n",
    "#     label=\"median\",\n",
    "# )\n",
    "#\n",
    "# plt.fill_between(\n",
    "#     index[-prediction_length:],\n",
    "#     forecasts[ts_index].mean(0) - forecasts[ts_index].std(axis=0),\n",
    "#     forecasts[ts_index].mean(0) + forecasts[ts_index].std(axis=0),\n",
    "#     alpha=0.3,\n",
    "#     interpolate=True,\n",
    "#     label=\"+/- 1-std\",\n",
    "# )\n",
    "# plt.legend()\n",
    "# plt.show()\n"
   ],
   "metadata": {
    "collapsed": false
   }
  },
  {
   "cell_type": "code",
   "execution_count": null,
   "outputs": [],
   "source": [],
   "metadata": {
    "collapsed": false
   }
  }
 ],
 "metadata": {
  "kernelspec": {
   "display_name": "Python 3",
   "language": "python",
   "name": "python3"
  },
  "language_info": {
   "codemirror_mode": {
    "name": "ipython",
    "version": 2
   },
   "file_extension": ".py",
   "mimetype": "text/x-python",
   "name": "python",
   "nbconvert_exporter": "python",
   "pygments_lexer": "ipython2",
   "version": "2.7.6"
  }
 },
 "nbformat": 4,
 "nbformat_minor": 0
}
