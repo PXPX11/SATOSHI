{
 "cells": [
  {
   "cell_type": "code",
   "execution_count": 9,
   "metadata": {
    "collapsed": true
   },
   "outputs": [],
   "source": [
    "from transformers import TimeSeriesTransformerConfig, TimeSeriesTransformerModel, TimeSeriesTransformerForPrediction\n",
    "\n",
    "from datasets import load_dataset\n",
    "\n",
    "from datetime import date, datetime\n"
   ]
  },
  {
   "cell_type": "code",
   "execution_count": 10,
   "outputs": [
    {
     "name": "stderr",
     "output_type": "stream",
     "text": [
      "Using custom data configuration index-c202ce2a383faf27\n",
      "Found cached dataset csv (/Users/lucyxu/.cache/huggingface/datasets/csv/index-c202ce2a383faf27/0.0.0/6b34fb8fcf56f7c8ba51dc895bfa2bfbe43546f190a60fcf74bb5e8afdcc2317)\n"
     ]
    },
    {
     "data": {
      "text/plain": "  0%|          | 0/1 [00:00<?, ?it/s]",
      "application/vnd.jupyter.widget-view+json": {
       "version_major": 2,
       "version_minor": 0,
       "model_id": "bf60849c19f547e5a5383f2980630985"
      }
     },
     "metadata": {},
     "output_type": "display_data"
    },
    {
     "name": "stderr",
     "output_type": "stream",
     "text": [
      "Loading cached processed dataset at /Users/lucyxu/.cache/huggingface/datasets/csv/index-c202ce2a383faf27/0.0.0/6b34fb8fcf56f7c8ba51dc895bfa2bfbe43546f190a60fcf74bb5e8afdcc2317/cache-0f0ff6cae82dea89.arrow\n",
      "Loading cached processed dataset at /Users/lucyxu/.cache/huggingface/datasets/csv/index-c202ce2a383faf27/0.0.0/6b34fb8fcf56f7c8ba51dc895bfa2bfbe43546f190a60fcf74bb5e8afdcc2317/cache-43e00ff25d3bc6a1.arrow\n"
     ]
    },
    {
     "data": {
      "text/plain": "Dataset({\n    features: ['Date', 'Open', 'High', 'Low', 'Close', 'Volume', 'Dividends', 'Stock Splits'],\n    num_rows: 5787\n})"
     },
     "execution_count": 10,
     "metadata": {},
     "output_type": "execute_result"
    }
   ],
   "source": [
    "dataset = load_dataset('dataset/index', data_files='GSPC.csv')\n",
    "\n",
    "filtered_dataset = dataset['train'].filter(lambda e: date.fromisoformat(e['Date'][:10]) > date(2000, 1, 1))\n",
    "filtered_dataset = filtered_dataset.filter(lambda e: date.fromisoformat(e['Date'][:10]) < date(2023, 1, 1))\n",
    "train_dataset = filtered_dataset\n",
    "\n",
    "train_dataset\n"
   ],
   "metadata": {
    "collapsed": false
   }
  },
  {
   "cell_type": "code",
   "execution_count": null,
   "outputs": [],
   "source": [
    "from transformers import PretrainedConfig\n",
    "\n",
    "# def create_transformation(freq: str, config: PretrainedConfig) -> Transformation:\n",
    "    # pass\n"
   ],
   "metadata": {
    "collapsed": false
   }
  },
  {
   "cell_type": "code",
   "execution_count": null,
   "outputs": [],
   "source": [
    "# transformation = create_transformation(freq, config)\n",
    "# transformed_data = transformation.apply(train_dataset, is_train=True)\n",
    "\n"
   ],
   "metadata": {
    "collapsed": false
   }
  },
  {
   "cell_type": "code",
   "execution_count": 30,
   "outputs": [
    {
     "data": {
      "text/plain": "TimeSeriesTransformerModel(\n  (scaler): MeanScaler()\n  (embedder): FeatureEmbedder(\n    (embedders): ModuleList(\n      (0): Embedding(1, 1)\n    )\n  )\n  (encoder): TimeSeriesTransformerEncoder(\n    (layers): ModuleList(\n      (0): TimeSeriesTransformerEncoderLayer(\n        (self_attn): TimeSeriesTransformerAttention(\n          (k_proj): Linear(in_features=12, out_features=12, bias=True)\n          (v_proj): Linear(in_features=12, out_features=12, bias=True)\n          (q_proj): Linear(in_features=12, out_features=12, bias=True)\n          (out_proj): Linear(in_features=12, out_features=12, bias=True)\n        )\n        (self_attn_layer_norm): LayerNorm((12,), eps=1e-05, elementwise_affine=True)\n        (activation_fn): GELUActivation()\n        (fc1): Linear(in_features=12, out_features=32, bias=True)\n        (fc2): Linear(in_features=32, out_features=12, bias=True)\n        (final_layer_norm): LayerNorm((12,), eps=1e-05, elementwise_affine=True)\n      )\n      (1): TimeSeriesTransformerEncoderLayer(\n        (self_attn): TimeSeriesTransformerAttention(\n          (k_proj): Linear(in_features=12, out_features=12, bias=True)\n          (v_proj): Linear(in_features=12, out_features=12, bias=True)\n          (q_proj): Linear(in_features=12, out_features=12, bias=True)\n          (out_proj): Linear(in_features=12, out_features=12, bias=True)\n        )\n        (self_attn_layer_norm): LayerNorm((12,), eps=1e-05, elementwise_affine=True)\n        (activation_fn): GELUActivation()\n        (fc1): Linear(in_features=12, out_features=32, bias=True)\n        (fc2): Linear(in_features=32, out_features=12, bias=True)\n        (final_layer_norm): LayerNorm((12,), eps=1e-05, elementwise_affine=True)\n      )\n    )\n    (layernorm_embedding): LayerNorm((12,), eps=1e-05, elementwise_affine=True)\n  )\n  (decoder): TimeSeriesTransformerDecoder(\n    (layers): ModuleList(\n      (0): TimeSeriesTransformerDecoderLayer(\n        (self_attn): TimeSeriesTransformerAttention(\n          (k_proj): Linear(in_features=12, out_features=12, bias=True)\n          (v_proj): Linear(in_features=12, out_features=12, bias=True)\n          (q_proj): Linear(in_features=12, out_features=12, bias=True)\n          (out_proj): Linear(in_features=12, out_features=12, bias=True)\n        )\n        (activation_fn): GELUActivation()\n        (self_attn_layer_norm): LayerNorm((12,), eps=1e-05, elementwise_affine=True)\n        (encoder_attn): TimeSeriesTransformerAttention(\n          (k_proj): Linear(in_features=12, out_features=12, bias=True)\n          (v_proj): Linear(in_features=12, out_features=12, bias=True)\n          (q_proj): Linear(in_features=12, out_features=12, bias=True)\n          (out_proj): Linear(in_features=12, out_features=12, bias=True)\n        )\n        (encoder_attn_layer_norm): LayerNorm((12,), eps=1e-05, elementwise_affine=True)\n        (fc1): Linear(in_features=12, out_features=32, bias=True)\n        (fc2): Linear(in_features=32, out_features=12, bias=True)\n        (final_layer_norm): LayerNorm((12,), eps=1e-05, elementwise_affine=True)\n      )\n      (1): TimeSeriesTransformerDecoderLayer(\n        (self_attn): TimeSeriesTransformerAttention(\n          (k_proj): Linear(in_features=12, out_features=12, bias=True)\n          (v_proj): Linear(in_features=12, out_features=12, bias=True)\n          (q_proj): Linear(in_features=12, out_features=12, bias=True)\n          (out_proj): Linear(in_features=12, out_features=12, bias=True)\n        )\n        (activation_fn): GELUActivation()\n        (self_attn_layer_norm): LayerNorm((12,), eps=1e-05, elementwise_affine=True)\n        (encoder_attn): TimeSeriesTransformerAttention(\n          (k_proj): Linear(in_features=12, out_features=12, bias=True)\n          (v_proj): Linear(in_features=12, out_features=12, bias=True)\n          (q_proj): Linear(in_features=12, out_features=12, bias=True)\n          (out_proj): Linear(in_features=12, out_features=12, bias=True)\n        )\n        (encoder_attn_layer_norm): LayerNorm((12,), eps=1e-05, elementwise_affine=True)\n        (fc1): Linear(in_features=12, out_features=32, bias=True)\n        (fc2): Linear(in_features=32, out_features=12, bias=True)\n        (final_layer_norm): LayerNorm((12,), eps=1e-05, elementwise_affine=True)\n      )\n    )\n    (layernorm_embedding): LayerNorm((12,), eps=1e-05, elementwise_affine=True)\n  )\n)"
     },
     "execution_count": 30,
     "metadata": {},
     "output_type": "execute_result"
    }
   ],
   "source": [
    "# Initializing a default Time Series Transformer configuration\n",
    "configuration = TimeSeriesTransformerConfig(\n",
    "    prediction_length=1,\n",
    "    context_length=9,\n",
    "\n",
    "    num_time_features=2,\n",
    "    num_static_categorical_features=0,\n",
    "    num_static_real_features=0,\n",
    ")\n",
    "\n",
    "# Randomly initializing a model (with random weights) from the configuration\n",
    "model = TimeSeriesTransformerModel(configuration)\n",
    "\n",
    "# Accessing the model configuration\n",
    "configuration = model.config\n",
    "\n",
    "model\n"
   ],
   "metadata": {
    "collapsed": false
   }
  },
  {
   "cell_type": "code",
   "execution_count": 33,
   "outputs": [
    {
     "data": {
      "text/plain": "1"
     },
     "execution_count": 33,
     "metadata": {},
     "output_type": "execute_result"
    }
   ],
   "source": [
    "model.config.prediction_length\n",
    "\n"
   ],
   "metadata": {
    "collapsed": false
   }
  },
  {
   "cell_type": "code",
   "execution_count": 31,
   "outputs": [
    {
     "ename": "AssertionError",
     "evalue": "(('input length 9 and dynamic feature lengths 16 does not match',), 9, 16)",
     "output_type": "error",
     "traceback": [
      "\u001B[0;31m---------------------------------------------------------------------------\u001B[0m",
      "\u001B[0;31mAssertionError\u001B[0m                            Traceback (most recent call last)",
      "Cell \u001B[0;32mIn[31], line 12\u001B[0m\n\u001B[1;32m      8\u001B[0m time_features \u001B[38;5;241m=\u001B[39m torch\u001B[38;5;241m.\u001B[39mrand((\u001B[38;5;241m2\u001B[39m, \u001B[38;5;241m9\u001B[39m, \u001B[38;5;241m1\u001B[39m))\n\u001B[1;32m     10\u001B[0m e \u001B[38;5;241m=\u001B[39m torch\u001B[38;5;241m.\u001B[39mempty((\u001B[38;5;241m2\u001B[39m, \u001B[38;5;241m0\u001B[39m))\n\u001B[0;32m---> 12\u001B[0m outputs \u001B[38;5;241m=\u001B[39m \u001B[43mmodel\u001B[49m\u001B[43m(\u001B[49m\n\u001B[1;32m     13\u001B[0m \u001B[43m    \u001B[49m\u001B[43mpast_values\u001B[49m\u001B[38;5;241;43m=\u001B[39;49m\u001B[43mx\u001B[49m\u001B[43m,\u001B[49m\n\u001B[1;32m     14\u001B[0m \u001B[43m    \u001B[49m\u001B[43mpast_time_features\u001B[49m\u001B[38;5;241;43m=\u001B[39;49m\u001B[43mtime_features\u001B[49m\u001B[43m,\u001B[49m\n\u001B[1;32m     15\u001B[0m \u001B[43m    \u001B[49m\u001B[43mpast_observed_mask\u001B[49m\u001B[38;5;241;43m=\u001B[39;49m\u001B[43mmask\u001B[49m\u001B[43m,\u001B[49m\n\u001B[1;32m     16\u001B[0m \u001B[43m    \u001B[49m\u001B[38;5;66;43;03m# future_values=y,\u001B[39;49;00m\n\u001B[1;32m     17\u001B[0m \u001B[43m    \u001B[49m\u001B[43mstatic_categorical_features\u001B[49m\u001B[38;5;241;43m=\u001B[39;49m\u001B[43me\u001B[49m\u001B[43m,\u001B[49m\n\u001B[1;32m     18\u001B[0m \u001B[43m    \u001B[49m\u001B[43mstatic_real_features\u001B[49m\u001B[38;5;241;43m=\u001B[39;49m\u001B[43me\u001B[49m\u001B[43m,\u001B[49m\n\u001B[1;32m     19\u001B[0m \u001B[43m    \u001B[49m\u001B[43moutput_hidden_states\u001B[49m\u001B[38;5;241;43m=\u001B[39;49m\u001B[38;5;28;43;01mTrue\u001B[39;49;00m\u001B[43m,\u001B[49m\n\u001B[1;32m     20\u001B[0m \u001B[43m)\u001B[49m\n",
      "File \u001B[0;32m/opt/miniconda3/envs/NLP/lib/python3.10/site-packages/torch/nn/modules/module.py:1194\u001B[0m, in \u001B[0;36mModule._call_impl\u001B[0;34m(self, *input, **kwargs)\u001B[0m\n\u001B[1;32m   1190\u001B[0m \u001B[38;5;66;03m# If we don't have any hooks, we want to skip the rest of the logic in\u001B[39;00m\n\u001B[1;32m   1191\u001B[0m \u001B[38;5;66;03m# this function, and just call forward.\u001B[39;00m\n\u001B[1;32m   1192\u001B[0m \u001B[38;5;28;01mif\u001B[39;00m \u001B[38;5;129;01mnot\u001B[39;00m (\u001B[38;5;28mself\u001B[39m\u001B[38;5;241m.\u001B[39m_backward_hooks \u001B[38;5;129;01mor\u001B[39;00m \u001B[38;5;28mself\u001B[39m\u001B[38;5;241m.\u001B[39m_forward_hooks \u001B[38;5;129;01mor\u001B[39;00m \u001B[38;5;28mself\u001B[39m\u001B[38;5;241m.\u001B[39m_forward_pre_hooks \u001B[38;5;129;01mor\u001B[39;00m _global_backward_hooks\n\u001B[1;32m   1193\u001B[0m         \u001B[38;5;129;01mor\u001B[39;00m _global_forward_hooks \u001B[38;5;129;01mor\u001B[39;00m _global_forward_pre_hooks):\n\u001B[0;32m-> 1194\u001B[0m     \u001B[38;5;28;01mreturn\u001B[39;00m \u001B[43mforward_call\u001B[49m\u001B[43m(\u001B[49m\u001B[38;5;241;43m*\u001B[39;49m\u001B[38;5;28;43minput\u001B[39;49m\u001B[43m,\u001B[49m\u001B[43m \u001B[49m\u001B[38;5;241;43m*\u001B[39;49m\u001B[38;5;241;43m*\u001B[39;49m\u001B[43mkwargs\u001B[49m\u001B[43m)\u001B[49m\n\u001B[1;32m   1195\u001B[0m \u001B[38;5;66;03m# Do not call functions when jit is used\u001B[39;00m\n\u001B[1;32m   1196\u001B[0m full_backward_hooks, non_full_backward_hooks \u001B[38;5;241m=\u001B[39m [], []\n",
      "File \u001B[0;32m/opt/miniconda3/envs/NLP/lib/python3.10/site-packages/transformers/models/time_series_transformer/modeling_time_series_transformer.py:1633\u001B[0m, in \u001B[0;36mTimeSeriesTransformerModel.forward\u001B[0;34m(self, past_values, past_time_features, past_observed_mask, static_categorical_features, static_real_features, future_values, future_time_features, decoder_attention_mask, head_mask, decoder_head_mask, cross_attn_head_mask, encoder_outputs, past_key_values, output_hidden_states, output_attentions, use_cache, return_dict)\u001B[0m\n\u001B[1;32m   1630\u001B[0m use_cache \u001B[38;5;241m=\u001B[39m use_cache \u001B[38;5;28;01mif\u001B[39;00m use_cache \u001B[38;5;129;01mis\u001B[39;00m \u001B[38;5;129;01mnot\u001B[39;00m \u001B[38;5;28;01mNone\u001B[39;00m \u001B[38;5;28;01melse\u001B[39;00m \u001B[38;5;28mself\u001B[39m\u001B[38;5;241m.\u001B[39mconfig\u001B[38;5;241m.\u001B[39muse_cache\n\u001B[1;32m   1631\u001B[0m return_dict \u001B[38;5;241m=\u001B[39m return_dict \u001B[38;5;28;01mif\u001B[39;00m return_dict \u001B[38;5;129;01mis\u001B[39;00m \u001B[38;5;129;01mnot\u001B[39;00m \u001B[38;5;28;01mNone\u001B[39;00m \u001B[38;5;28;01melse\u001B[39;00m \u001B[38;5;28mself\u001B[39m\u001B[38;5;241m.\u001B[39mconfig\u001B[38;5;241m.\u001B[39muse_return_dict\n\u001B[0;32m-> 1633\u001B[0m transformer_inputs, scale, static_feat \u001B[38;5;241m=\u001B[39m \u001B[38;5;28;43mself\u001B[39;49m\u001B[38;5;241;43m.\u001B[39;49m\u001B[43mcreate_network_inputs\u001B[49m\u001B[43m(\u001B[49m\n\u001B[1;32m   1634\u001B[0m \u001B[43m    \u001B[49m\u001B[43mpast_values\u001B[49m\u001B[38;5;241;43m=\u001B[39;49m\u001B[43mpast_values\u001B[49m\u001B[43m,\u001B[49m\n\u001B[1;32m   1635\u001B[0m \u001B[43m    \u001B[49m\u001B[43mpast_time_features\u001B[49m\u001B[38;5;241;43m=\u001B[39;49m\u001B[43mpast_time_features\u001B[49m\u001B[43m,\u001B[49m\n\u001B[1;32m   1636\u001B[0m \u001B[43m    \u001B[49m\u001B[43mpast_observed_mask\u001B[49m\u001B[38;5;241;43m=\u001B[39;49m\u001B[43mpast_observed_mask\u001B[49m\u001B[43m,\u001B[49m\n\u001B[1;32m   1637\u001B[0m \u001B[43m    \u001B[49m\u001B[43mstatic_categorical_features\u001B[49m\u001B[38;5;241;43m=\u001B[39;49m\u001B[43mstatic_categorical_features\u001B[49m\u001B[43m,\u001B[49m\n\u001B[1;32m   1638\u001B[0m \u001B[43m    \u001B[49m\u001B[43mstatic_real_features\u001B[49m\u001B[38;5;241;43m=\u001B[39;49m\u001B[43mstatic_real_features\u001B[49m\u001B[43m,\u001B[49m\n\u001B[1;32m   1639\u001B[0m \u001B[43m    \u001B[49m\u001B[43mfuture_values\u001B[49m\u001B[38;5;241;43m=\u001B[39;49m\u001B[43mfuture_values\u001B[49m\u001B[43m,\u001B[49m\n\u001B[1;32m   1640\u001B[0m \u001B[43m    \u001B[49m\u001B[43mfuture_time_features\u001B[49m\u001B[38;5;241;43m=\u001B[39;49m\u001B[43mfuture_time_features\u001B[49m\u001B[43m,\u001B[49m\n\u001B[1;32m   1641\u001B[0m \u001B[43m\u001B[49m\u001B[43m)\u001B[49m\n\u001B[1;32m   1643\u001B[0m \u001B[38;5;28;01mif\u001B[39;00m encoder_outputs \u001B[38;5;129;01mis\u001B[39;00m \u001B[38;5;28;01mNone\u001B[39;00m:\n\u001B[1;32m   1644\u001B[0m     enc_input \u001B[38;5;241m=\u001B[39m transformer_inputs[:, : \u001B[38;5;28mself\u001B[39m\u001B[38;5;241m.\u001B[39mconfig\u001B[38;5;241m.\u001B[39mcontext_length, \u001B[38;5;241m.\u001B[39m\u001B[38;5;241m.\u001B[39m\u001B[38;5;241m.\u001B[39m]\n",
      "File \u001B[0;32m/opt/miniconda3/envs/NLP/lib/python3.10/site-packages/transformers/models/time_series_transformer/modeling_time_series_transformer.py:1525\u001B[0m, in \u001B[0;36mTimeSeriesTransformerModel.create_network_inputs\u001B[0;34m(self, past_values, past_time_features, static_categorical_features, static_real_features, past_observed_mask, future_values, future_time_features)\u001B[0m\n\u001B[1;32m   1521\u001B[0m inputs_length \u001B[38;5;241m=\u001B[39m (\n\u001B[1;32m   1522\u001B[0m     \u001B[38;5;28mself\u001B[39m\u001B[38;5;241m.\u001B[39m_past_length \u001B[38;5;241m+\u001B[39m \u001B[38;5;28mself\u001B[39m\u001B[38;5;241m.\u001B[39mconfig\u001B[38;5;241m.\u001B[39mprediction_length \u001B[38;5;28;01mif\u001B[39;00m future_values \u001B[38;5;129;01mis\u001B[39;00m \u001B[38;5;129;01mnot\u001B[39;00m \u001B[38;5;28;01mNone\u001B[39;00m \u001B[38;5;28;01melse\u001B[39;00m \u001B[38;5;28mself\u001B[39m\u001B[38;5;241m.\u001B[39m_past_length\n\u001B[1;32m   1523\u001B[0m )\n\u001B[1;32m   1524\u001B[0m \u001B[38;5;28;01mtry\u001B[39;00m:\n\u001B[0;32m-> 1525\u001B[0m     \u001B[38;5;28;01massert\u001B[39;00m inputs\u001B[38;5;241m.\u001B[39mshape[\u001B[38;5;241m1\u001B[39m] \u001B[38;5;241m==\u001B[39m inputs_length, (\n\u001B[1;32m   1526\u001B[0m         \u001B[38;5;124mf\u001B[39m\u001B[38;5;124m\"\u001B[39m\u001B[38;5;124minput length \u001B[39m\u001B[38;5;132;01m{\u001B[39;00minputs\u001B[38;5;241m.\u001B[39mshape[\u001B[38;5;241m1\u001B[39m]\u001B[38;5;132;01m}\u001B[39;00m\u001B[38;5;124m and dynamic feature lengths \u001B[39m\u001B[38;5;132;01m{\u001B[39;00minputs_length\u001B[38;5;132;01m}\u001B[39;00m\u001B[38;5;124m does not match\u001B[39m\u001B[38;5;124m\"\u001B[39m,\n\u001B[1;32m   1527\u001B[0m     )\n\u001B[1;32m   1528\u001B[0m \u001B[38;5;28;01mexcept\u001B[39;00m \u001B[38;5;167;01mAssertionError\u001B[39;00m \u001B[38;5;28;01mas\u001B[39;00m e:\n\u001B[1;32m   1529\u001B[0m     e\u001B[38;5;241m.\u001B[39margs \u001B[38;5;241m+\u001B[39m\u001B[38;5;241m=\u001B[39m (inputs\u001B[38;5;241m.\u001B[39mshape[\u001B[38;5;241m1\u001B[39m], inputs_length)\n",
      "\u001B[0;31mAssertionError\u001B[0m: (('input length 9 and dynamic feature lengths 16 does not match',), 9, 16)"
     ]
    }
   ],
   "source": [
    "import torch\n",
    "\n",
    "\n",
    "x = torch.rand((2, 9))\n",
    "y = torch.rand((2, 1))\n",
    "mask = torch.ones((2, 9))\n",
    "\n",
    "time_features = torch.rand((2, 9, 1))\n",
    "\n",
    "e = torch.empty((2, 0))\n",
    "\n",
    "outputs = model(\n",
    "    past_values=x,\n",
    "    past_time_features=time_features,\n",
    "    past_observed_mask=mask,\n",
    "    # future_values=y,\n",
    "    static_categorical_features=e,\n",
    "    static_real_features=e,\n",
    "    output_hidden_states=True,\n",
    ")\n"
   ],
   "metadata": {
    "collapsed": false
   }
  }
 ],
 "metadata": {
  "kernelspec": {
   "display_name": "Python 3",
   "language": "python",
   "name": "python3"
  },
  "language_info": {
   "codemirror_mode": {
    "name": "ipython",
    "version": 2
   },
   "file_extension": ".py",
   "mimetype": "text/x-python",
   "name": "python",
   "nbconvert_exporter": "python",
   "pygments_lexer": "ipython2",
   "version": "2.7.6"
  }
 },
 "nbformat": 4,
 "nbformat_minor": 0
}
